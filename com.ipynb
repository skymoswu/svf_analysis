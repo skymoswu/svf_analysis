{
 "cells": [
  {
   "cell_type": "markdown",
   "id": "0e735327-82a0-40f6-a8b7-88ecf580f362",
   "metadata": {},
   "source": [
    "# Communication of each module"
   ]
  },
  {
   "cell_type": "markdown",
   "id": "bd7a2c47-b873-4e06-bf60-b66665ec3926",
   "metadata": {},
   "source": [
    "## Initializing environment"
   ]
  },
  {
   "cell_type": "code",
   "execution_count": 1,
   "id": "a862fee6-3ce6-49e6-abcb-9f97f2b6b6e8",
   "metadata": {
    "tags": []
   },
   "outputs": [
    {
     "name": "stderr",
     "output_type": "stream",
     "text": [
      "Attaching SeuratObject\n",
      "\n",
      "载入需要的程辑包：dplyr\n",
      "\n",
      "\n",
      "载入程辑包：‘dplyr’\n",
      "\n",
      "\n",
      "The following objects are masked from ‘package:stats’:\n",
      "\n",
      "    filter, lag\n",
      "\n",
      "\n",
      "The following objects are masked from ‘package:base’:\n",
      "\n",
      "    intersect, setdiff, setequal, union\n",
      "\n",
      "\n",
      "载入需要的程辑包：igraph\n",
      "\n",
      "\n",
      "载入程辑包：‘igraph’\n",
      "\n",
      "\n",
      "The following objects are masked from ‘package:dplyr’:\n",
      "\n",
      "    as_data_frame, groups, union\n",
      "\n",
      "\n",
      "The following objects are masked from ‘package:stats’:\n",
      "\n",
      "    decompose, spectrum\n",
      "\n",
      "\n",
      "The following object is masked from ‘package:base’:\n",
      "\n",
      "    union\n",
      "\n",
      "\n",
      "载入需要的程辑包：ggplot2\n",
      "\n",
      "── \u001b[1mAttaching packages\u001b[22m ─────────────────────────────── tidyverse 1.3.2 ──\n",
      "\u001b[32m✔\u001b[39m \u001b[34mtibble \u001b[39m 3.1.8     \u001b[32m✔\u001b[39m \u001b[34mpurrr  \u001b[39m 0.3.5\n",
      "\u001b[32m✔\u001b[39m \u001b[34mtidyr  \u001b[39m 1.2.1     \u001b[32m✔\u001b[39m \u001b[34mstringr\u001b[39m 1.4.1\n",
      "\u001b[32m✔\u001b[39m \u001b[34mreadr  \u001b[39m 2.1.3     \u001b[32m✔\u001b[39m \u001b[34mforcats\u001b[39m 0.5.2\n",
      "── \u001b[1mConflicts\u001b[22m ────────────────────────────────── tidyverse_conflicts() ──\n",
      "\u001b[31m✖\u001b[39m \u001b[34mtibble\u001b[39m::\u001b[32mas_data_frame()\u001b[39m  masks \u001b[34migraph\u001b[39m::as_data_frame(), \u001b[34mdplyr\u001b[39m::as_data_frame()\n",
      "\u001b[31m✖\u001b[39m \u001b[34mBiobase\u001b[39m::\u001b[32mcombine()\u001b[39m       masks \u001b[34mBiocGenerics\u001b[39m::combine(), \u001b[34mdplyr\u001b[39m::combine()\n",
      "\u001b[31m✖\u001b[39m \u001b[34mpurrr\u001b[39m::\u001b[32mcompose()\u001b[39m         masks \u001b[34migraph\u001b[39m::compose()\n",
      "\u001b[31m✖\u001b[39m \u001b[34mtidyr\u001b[39m::\u001b[32mcrossing()\u001b[39m        masks \u001b[34migraph\u001b[39m::crossing()\n",
      "\u001b[31m✖\u001b[39m \u001b[34mdplyr\u001b[39m::\u001b[32mfilter()\u001b[39m          masks \u001b[34mstats\u001b[39m::filter()\n",
      "\u001b[31m✖\u001b[39m \u001b[34migraph\u001b[39m::\u001b[32mgroups()\u001b[39m         masks \u001b[34mdplyr\u001b[39m::groups()\n",
      "\u001b[31m✖\u001b[39m \u001b[34mdplyr\u001b[39m::\u001b[32mlag()\u001b[39m             masks \u001b[34mstats\u001b[39m::lag()\n",
      "\u001b[31m✖\u001b[39m \u001b[34mBiocGenerics\u001b[39m::\u001b[32mPosition()\u001b[39m masks \u001b[34mggplot2\u001b[39m::Position(), \u001b[34mbase\u001b[39m::Position()\n",
      "\u001b[31m✖\u001b[39m \u001b[34mpurrr\u001b[39m::\u001b[32msimplify()\u001b[39m        masks \u001b[34migraph\u001b[39m::simplify()\n",
      "========================================\n",
      "circlize version 0.4.15\n",
      "CRAN page: https://cran.r-project.org/package=circlize\n",
      "Github page: https://github.com/jokergoo/circlize\n",
      "Documentation: https://jokergoo.github.io/circlize_book/book/\n",
      "\n",
      "If you use it in published research, please cite:\n",
      "Gu, Z. circlize implements and enhances circular visualization\n",
      "  in R. Bioinformatics 2014.\n",
      "\n",
      "This message can be suppressed by:\n",
      "  suppressPackageStartupMessages(library(circlize))\n",
      "========================================\n",
      "\n",
      "\n",
      "\n",
      "载入程辑包：‘circlize’\n",
      "\n",
      "\n",
      "The following object is masked from ‘package:igraph’:\n",
      "\n",
      "    degree\n",
      "\n",
      "\n",
      "载入需要的程辑包：grid\n",
      "\n",
      "========================================\n",
      "ComplexHeatmap version 2.13.1\n",
      "Bioconductor page: http://bioconductor.org/packages/ComplexHeatmap/\n",
      "Github page: https://github.com/jokergoo/ComplexHeatmap\n",
      "Documentation: http://jokergoo.github.io/ComplexHeatmap-reference\n",
      "\n",
      "If you use it in published research, please cite:\n",
      "Gu, Z. Complex heatmaps reveal patterns and correlations in multidimensional \n",
      "  genomic data. Bioinformatics 2016.\n",
      "\n",
      "The new InteractiveComplexHeatmap package can directly export static \n",
      "complex heatmaps into an interactive Shiny app with zero effort. Have a try!\n",
      "\n",
      "This message can be suppressed by:\n",
      "  suppressPackageStartupMessages(library(ComplexHeatmap))\n",
      "========================================\n",
      "\n",
      "\n",
      "\n",
      "载入程辑包：‘data.table’\n",
      "\n",
      "\n",
      "The following object is masked from ‘package:purrr’:\n",
      "\n",
      "    transpose\n",
      "\n",
      "\n",
      "The following objects are masked from ‘package:dplyr’:\n",
      "\n",
      "    between, first, last\n",
      "\n",
      "\n"
     ]
    }
   ],
   "source": [
    "library(Seurat)\n",
    "library(CellChat)\n",
    "library(tidyverse)\n",
    "library(circlize)\n",
    "library(ggplotify)\n",
    "library(RColorBrewer)\n",
    "library(patchwork)\n",
    "library(lattice)\n",
    "library(ComplexHeatmap)\n",
    "library(data.table)"
   ]
  },
  {
   "cell_type": "code",
   "execution_count": 2,
   "id": "cd26cfe7-6df7-4232-9335-c61f8baade78",
   "metadata": {},
   "outputs": [],
   "source": [
    "source(\"~/snippets/seurat2cc.R\")\n",
    "\n",
    "db <- CellChatDB.human"
   ]
  },
  {
   "cell_type": "code",
   "execution_count": null,
   "id": "02f30354-b35e-4f13-88d6-fab3bd1e36c0",
   "metadata": {},
   "outputs": [],
   "source": [
    "whole_mod <- readRDS(\"./data/whole_mod.rds\")"
   ]
  },
  {
   "cell_type": "markdown",
   "id": "96b006f2-2d3e-43f2-91e0-b81c433806ff",
   "metadata": {
    "tags": []
   },
   "source": [
    "## Create communication objects"
   ]
  },
  {
   "cell_type": "code",
   "execution_count": null,
   "id": "fc806858-9a75-4270-9cb6-8af82ad89f54",
   "metadata": {},
   "outputs": [],
   "source": [
    "mod_lst <- c(\"Mod1\", \"Mod2\", \"Mod3\")"
   ]
  },
  {
   "cell_type": "code",
   "execution_count": null,
   "id": "aafb9244-29c3-4271-8088-f5893cf8917b",
   "metadata": {
    "tags": []
   },
   "outputs": [],
   "source": [
    "for (mod in mod_lst){\n",
    "    cat(sprintf(\"Processing module %s...\\n\", mod))\n",
    "    mod_lst <-  SplitObject(\n",
    "        subset(whole_mod, subset = module == mod),\n",
    "        split.by = \"group\"\n",
    "    ) %>% lapply(., \\(x){\n",
    "        x@meta.data <- droplevels(x@meta.data)\n",
    "        cc <- seurat2cc(x, group = \"desc\", db = db)\n",
    "    })\n",
    "    saveRDS(mod_lst, sprintf(\"./data/comObjs/%sLst.rds\", mod))\n",
    "}"
   ]
  },
  {
   "cell_type": "markdown",
   "id": "e09e96a3-2514-420e-bc4e-33bdcbf0c1d5",
   "metadata": {},
   "source": [
    "## Regular analysis"
   ]
  },
  {
   "cell_type": "code",
   "execution_count": 48,
   "id": "57bd1de7-9086-4620-98f1-f17963d1361c",
   "metadata": {},
   "outputs": [],
   "source": [
    "mod_name <- \"Mod2\""
   ]
  },
  {
   "cell_type": "code",
   "execution_count": 49,
   "id": "f909c8be-e87b-4f15-8fad-19550c8ae799",
   "metadata": {},
   "outputs": [
    {
     "name": "stderr",
     "output_type": "stream",
     "text": [
      "Merge the following slots: 'data.signaling','net', 'netP','meta', 'idents', 'var.features' , 'DB', and 'LR'.\n",
      "\n"
     ]
    }
   ],
   "source": [
    "cc_lst <- readRDS(sprintf(\"./data/comObjs/%sLst.rds\", mod_name))\n",
    "cc <- mergeCellChat(cc_lst, add.names = c(\"LC\", \"OC\", \"OD\"))"
   ]
  },
  {
   "cell_type": "markdown",
   "id": "81f60523-7427-4707-9a74-c68e8757fddd",
   "metadata": {
    "tags": []
   },
   "source": [
    "### Comparison of communication number/strength"
   ]
  },
  {
   "cell_type": "code",
   "execution_count": 34,
   "id": "121b464a-43b8-4f90-9dbc-ce98470ae42a",
   "metadata": {},
   "outputs": [
    {
     "data": {
      "text/html": [
       "<strong>png:</strong> 2"
      ],
      "text/latex": [
       "\\textbf{png:} 2"
      ],
      "text/markdown": [
       "**png:** 2"
      ],
      "text/plain": [
       "png \n",
       "  2 "
      ]
     },
     "metadata": {},
     "output_type": "display_data"
    }
   ],
   "source": [
    "cmp1 <- compareInteractions(cc, group = c(\"LC\", \"OC\", \"OD\"))$data %>%\n",
    "    mutate(meas = \"Counts\")\n",
    "cmp2 <- compareInteractions(cc, group = c(\"LC\", \"OC\", \"OD\"),\n",
    "                            measure = \"weight\")$data  %>%\n",
    "    mutate(meas = \"Weight\")\n",
    "svg(sprintf(\"./plots/com/%s_cmp.svg\", mod_name)\n",
    "    , width = 8, height = 6)\n",
    "with(\n",
    "    rbind(cmp1, cmp2),\n",
    "    barchart(\n",
    "        count ~ group | meas,\n",
    "        scale = list(y = \"free\"),\n",
    "        ylab = NULL,\n",
    "        col = \"#5b9bd5\"\n",
    "    )\n",
    ")\n",
    "dev.off()"
   ]
  },
  {
   "cell_type": "markdown",
   "id": "4238dc9d-849f-4f62-8d08-914c76ce4048",
   "metadata": {
    "tags": []
   },
   "source": [
    "### Communication number"
   ]
  },
  {
   "cell_type": "code",
   "execution_count": 35,
   "id": "79d4ffab-165d-4531-9d90-83e290e973a9",
   "metadata": {},
   "outputs": [],
   "source": [
    "comp_lst <- c(\"LC\", \"OC\", \"OD\")"
   ]
  },
  {
   "cell_type": "code",
   "execution_count": 36,
   "id": "767db539-c508-4379-9e50-25f930ea26a7",
   "metadata": {},
   "outputs": [
    {
     "data": {
      "text/html": [
       "<strong>png:</strong> 2"
      ],
      "text/latex": [
       "\\textbf{png:} 2"
      ],
      "text/markdown": [
       "**png:** 2"
      ],
      "text/plain": [
       "png \n",
       "  2 "
      ]
     },
     "metadata": {},
     "output_type": "display_data"
    }
   ],
   "source": [
    "max_weight <- getMaxWeight(cc_lst, attribute = c(\"idents\", \"count\"))\n",
    "svg(sprintf(\"./plots/com/%s_net.svg\", mod_name),\n",
    "    width = 24, height = 6)\n",
    "par(mfrow = c(1, 3), xpd = TRUE)\n",
    "for (i in 1:3){\n",
    "    cat(names(cc_lst[[i]]))\n",
    "    netVisual_circle(\n",
    "        cc_lst[[i]]@net$count,\n",
    "        weight.scale = TRUE,\n",
    "        label.edge = FALSE,\n",
    "        edge.weight.max = max_weight[2],\n",
    "        edge.width.max = 12,\n",
    "        title.name = sprintf(\"Number of interactions: %s\",\n",
    "                             comp_lst[[i]])\n",
    "    )\n",
    "}\n",
    "dev.off()"
   ]
  },
  {
   "cell_type": "markdown",
   "id": "528ec7e0-3b61-4797-89d1-800b912eea75",
   "metadata": {
    "tags": []
   },
   "source": [
    "### Comparison of overall infoflow"
   ]
  },
  {
   "cell_type": "code",
   "execution_count": 37,
   "id": "5a47bf5f-d7de-486f-b59c-ed350a5f770f",
   "metadata": {},
   "outputs": [
    {
     "name": "stderr",
     "output_type": "stream",
     "text": [
      "The text on the y-axis will not be colored for the number of compared datasets larger than 3!\n",
      "\n"
     ]
    }
   ],
   "source": [
    "infoflow <- rankNet(cc, mode = \"comparison\", comparison = 1:3, stacked = T)$data\n",
    "setDT(infoflow)\n",
    "infoflow <- mutate(infoflow,\n",
    "                   group = factor(group, levels = c(\"LC\", \"OC\", \"OD\")))"
   ]
  },
  {
   "cell_type": "code",
   "execution_count": 38,
   "id": "00bdd080-d372-4fc1-aaed-e919c60a4a49",
   "metadata": {},
   "outputs": [],
   "source": [
    "library(RColorBrewer)\n",
    "col_vec <- rev(brewer.pal(2, \"Set1\"))"
   ]
  },
  {
   "cell_type": "code",
   "execution_count": 39,
   "id": "73e6d421-656d-4ab0-9d13-a312a4e375d0",
   "metadata": {
    "jupyter": {
     "source_hidden": true
    },
    "tags": []
   },
   "outputs": [
    {
     "data": {
      "text/html": [
       "<strong>png:</strong> 2"
      ],
      "text/latex": [
       "\\textbf{png:} 2"
      ],
      "text/markdown": [
       "**png:** 2"
      ],
      "text/plain": [
       "png \n",
       "  2 "
      ]
     },
     "metadata": {},
     "output_type": "display_data"
    }
   ],
   "source": [
    "svg(sprintf(\"./plots/com/%s_infoflow.svg\", mod_name),\n",
    "    width = 6, height = 12)\n",
    "with(\n",
    "    infoflow[contribution.scaled > 0,.(\n",
    "        contribution.scaled, group,\n",
    "        name = reorder(name, contribution.scaled)\n",
    "    )],\n",
    "    barchart(\n",
    "        name ~ contribution.scaled,\n",
    "        groups = group, stack = TRUE,\n",
    "        par.settings = list(\n",
    "            superpose.polygon = list(col = col_vec)\n",
    "        ),\n",
    "        auto.key = list(columns = 3),\n",
    "        xlab = \"Information flow\"\n",
    "    )\n",
    ")\n",
    "dev.off()"
   ]
  },
  {
   "cell_type": "code",
   "execution_count": 40,
   "id": "0d286b74-e3fc-4b64-9d18-4ff58d409a33",
   "metadata": {},
   "outputs": [
    {
     "data": {
      "text/html": [
       "<strong>png:</strong> 2"
      ],
      "text/latex": [
       "\\textbf{png:} 2"
      ],
      "text/markdown": [
       "**png:** 2"
      ],
      "text/plain": [
       "png \n",
       "  2 "
      ]
     },
     "metadata": {},
     "output_type": "display_data"
    }
   ],
   "source": [
    "infoflow_pct <- dcast(infoflow[contribution.scaled > 0, .(\n",
    "        group, contrib_rel = contribution.scaled /\n",
    "        sum(contribution.scaled), contribution.scaled\n",
    "    ), by = c(\"name\")][,.(\n",
    "        name = fct_reorder(name, contribution.scaled),\n",
    "        contrib_rel, group)], name ~ group, value.var = \"contrib_rel\")\n",
    "infoflow_pct <- data.frame(\n",
    "    row.names = infoflow_pct$name,\n",
    "    infoflow_pct[,.(LC = ifelse(is.na(LC), 0, LC),\n",
    "                    OC = ifelse(is.na(OC), 0, OC),\n",
    "                    OD = ifelse(is.na(OD), 0 ,OD))])\n",
    "svg(sprintf(\"./plots/com/%s_infoflow_hm.svg\", mod_name), width = 8, height = 8)\n",
    "Heatmap(infoflow_pct, col = colorRamp2(\n",
    "            seq(0, 1, length = 8),\n",
    "            brewer.pal(8, \"Blues\")),\n",
    "        column_order = c(\"LC\", \"OC\", \"OD\"),\n",
    "        column_title = sprintf(\"Relative information flow of %s\", mod_name),\n",
    "        name = \"Percentage\"\n",
    ")\n",
    "dev.off()"
   ]
  },
  {
   "cell_type": "markdown",
   "id": "834f4e7f-c831-45b5-a916-c7a3bece7604",
   "metadata": {},
   "source": [
    "### Identify major sources and targets"
   ]
  },
  {
   "cell_type": "code",
   "execution_count": 50,
   "id": "37d77cb5-449f-43a9-96ed-de642d48cad7",
   "metadata": {},
   "outputs": [
    {
     "name": "stderr",
     "output_type": "stream",
     "text": [
      "Signaling role analysis on the aggregated cell-cell communication network from all signaling pathways\n",
      "\n",
      "Signaling role analysis on the aggregated cell-cell communication network from all signaling pathways\n",
      "\n",
      "Signaling role analysis on the aggregated cell-cell communication network from all signaling pathways\n",
      "\n"
     ]
    }
   ],
   "source": [
    "num_links <- sapply(cc_lst, \\(x){\n",
    "    rowSums(x@net$count) + colSums(x@net$count) - diag(x@net$count)\n",
    "})\n",
    "weight_minmax <- c(min(num_links), max(num_links))\n",
    "gg <- list()\n",
    "for (i in 1:3) {\n",
    "    gg[[i]] <- netAnalysis_signalingRole_scatter(\n",
    "        cc_lst[[i]], title = comp_lst[i], weight.MinMax = weight_minmax\n",
    "    )\n",
    "}\n",
    "ggsave(\n",
    "    sprintf(\"./plots/com/%s_sigrole.svg\", mod_name),\n",
    "    wrap_plots(plots = gg),\n",
    "    width = 12, height = 6)"
   ]
  }
 ],
 "metadata": {
  "kernelspec": {
   "display_name": "R",
   "language": "R",
   "name": "ir"
  },
  "language_info": {
   "codemirror_mode": "r",
   "file_extension": ".r",
   "mimetype": "text/x-r-source",
   "name": "R",
   "pygments_lexer": "r",
   "version": "4.2.2"
  }
 },
 "nbformat": 4,
 "nbformat_minor": 5
}
