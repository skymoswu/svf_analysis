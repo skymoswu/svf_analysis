{
 "cells": [
  {
   "cell_type": "markdown",
   "id": "b6fc1730-df03-41d9-8472-42ec9639c835",
   "metadata": {},
   "source": [
    "# GSVA and clustering\n"
   ]
  },
  {
   "cell_type": "markdown",
   "id": "50562cfa-f564-4b60-89f8-8be99e56082a",
   "metadata": {
    "tags": []
   },
   "source": [
    "## Initialize the environment"
   ]
  },
  {
   "cell_type": "code",
   "execution_count": 1,
   "id": "84b2b103-0833-4c3d-8c6a-3f65beefc657",
   "metadata": {
    "collapsed": true,
    "jupyter": {
     "outputs_hidden": true
    },
    "tags": []
   },
   "outputs": [
    {
     "name": "stderr",
     "output_type": "stream",
     "text": [
      "── \u001b[1mAttaching packages\u001b[22m ─────────────────────────────── tidyverse 1.3.2 ──\n",
      "\u001b[32m✔\u001b[39m \u001b[34mggplot2\u001b[39m 3.4.0      \u001b[32m✔\u001b[39m \u001b[34mpurrr  \u001b[39m 0.3.5 \n",
      "\u001b[32m✔\u001b[39m \u001b[34mtibble \u001b[39m 3.1.8      \u001b[32m✔\u001b[39m \u001b[34mdplyr  \u001b[39m 1.0.10\n",
      "\u001b[32m✔\u001b[39m \u001b[34mtidyr  \u001b[39m 1.2.1      \u001b[32m✔\u001b[39m \u001b[34mstringr\u001b[39m 1.4.1 \n",
      "\u001b[32m✔\u001b[39m \u001b[34mreadr  \u001b[39m 2.1.3      \u001b[32m✔\u001b[39m \u001b[34mforcats\u001b[39m 0.5.2 \n",
      "── \u001b[1mConflicts\u001b[22m ────────────────────────────────── tidyverse_conflicts() ──\n",
      "\u001b[31m✖\u001b[39m \u001b[34mdplyr\u001b[39m::\u001b[32mfilter()\u001b[39m masks \u001b[34mstats\u001b[39m::filter()\n",
      "\u001b[31m✖\u001b[39m \u001b[34mdplyr\u001b[39m::\u001b[32mlag()\u001b[39m    masks \u001b[34mstats\u001b[39m::lag()\n",
      "\n",
      "载入程辑包：‘data.table’\n",
      "\n",
      "\n",
      "The following objects are masked from ‘package:dplyr’:\n",
      "\n",
      "    between, first, last\n",
      "\n",
      "\n",
      "The following object is masked from ‘package:purrr’:\n",
      "\n",
      "    transpose\n",
      "\n",
      "\n",
      "Attaching SeuratObject\n",
      "\n",
      "载入需要的程辑包：limma\n",
      "\n",
      "Welcome! Want to learn more? See two factoextra-related books at https://goo.gl/ve3WBa\n",
      "\n"
     ]
    }
   ],
   "source": [
    "library(tidyverse)\n",
    "library(data.table)\n",
    "library(Seurat)\n",
    "library(lattice)\n",
    "library(edgeR)\n",
    "library(GSVA)\n",
    "library(factoextra)"
   ]
  },
  {
   "cell_type": "code",
   "execution_count": 2,
   "id": "c5c99fdc-94e5-4c42-946f-c0a40f504d5b",
   "metadata": {
    "tags": []
   },
   "outputs": [],
   "source": [
    "whole <- readRDS(\"./data/whole_annot.rds\")"
   ]
  },
  {
   "cell_type": "code",
   "execution_count": 3,
   "id": "7d3fa84f-01df-401b-891b-d54de538ffad",
   "metadata": {},
   "outputs": [],
   "source": [
    "get_lcpm <- function(sobj) {\n",
    "    edata <- round(AggregateExpression(sobj,\n",
    "                                       group.by = \"desc\")[[1]], 0)\n",
    "    dge <- DGEList(edata) %>%\n",
    "        calcNormFactors() %>%\n",
    "        cpm(log = TRUE, normalized.lib.sizes = TRUE)\n",
    "    return(dge)\n",
    "}"
   ]
  },
  {
   "cell_type": "code",
   "execution_count": null,
   "id": "0cd2a810-1d31-4cc3-93f2-6d15300f8ce5",
   "metadata": {},
   "outputs": [],
   "source": [
    "whole_splt <- SplitObject(whole, split.by = \"group\")\n",
    "lcpm <- lapply(whole_splt, get_lcpm)\n",
    "oc_lfc <- lcpm$OC - lcpm$H\n",
    "od_lfc <- lcpm$OD - lcpm$H"
   ]
  },
  {
   "cell_type": "code",
   "execution_count": 53,
   "id": "d7dbc313-d65d-49a0-89f9-c68a323a24cc",
   "metadata": {},
   "outputs": [],
   "source": [
    "go_gs <- readRDS(\"~/bioresource/genesets/gobp.rds\")"
   ]
  },
  {
   "cell_type": "markdown",
   "id": "2426443d-d7e8-4bea-948b-8cf67881f978",
   "metadata": {
    "jp-MarkdownHeadingCollapsed": true,
    "tags": []
   },
   "source": [
    "## Run GSVA"
   ]
  },
  {
   "cell_type": "code",
   "execution_count": null,
   "id": "f60b17ab-4e6e-4fa4-9987-2acd662ea932",
   "metadata": {},
   "outputs": [],
   "source": [
    "doc_gsva <- gsva(oc_lfc, go_gs, kcdf = \"Gaussian\", min.sz = 3)\n",
    "dod_gsva <- gsva(od_lfc, go_gs, kcdf = \"Gaussian\", min.sz = 3)"
   ]
  },
  {
   "cell_type": "code",
   "execution_count": null,
   "id": "01615b7f-1911-4664-8c2c-ae0e8cf4385e",
   "metadata": {},
   "outputs": [],
   "source": [
    "colnames(doc_gsva) <- str_c(colnames(doc_gsva), \"_OC\")\n",
    "colnames(dod_gsva) <- str_c(colnames(dod_gsva), \"_OD\")"
   ]
  },
  {
   "cell_type": "code",
   "execution_count": null,
   "id": "7425208a-2f9e-4a56-9f6d-3475434c815c",
   "metadata": {},
   "outputs": [],
   "source": [
    "interpaths <- intersect(rownames(doc_gsva), rownames(dod_gsva))\n",
    "comb_gsva <- cbind(doc_gsva[interpaths,], dod_gsva[interpaths,])\n",
    "comb_gsva %>% write.csv(\"./results/enrich/comb_gsva.csv\")"
   ]
  },
  {
   "cell_type": "code",
   "execution_count": 4,
   "id": "89d07681-ceb8-4c84-912d-7317ce15af05",
   "metadata": {},
   "outputs": [],
   "source": [
    "comb_gsva <- read.csv(\"./results/enrich/comb_gsva.csv\", row.names = 1)"
   ]
  },
  {
   "cell_type": "markdown",
   "id": "eedb234c-8039-4ed5-9b6f-0f005ba8e7d5",
   "metadata": {
    "jp-MarkdownHeadingCollapsed": true,
    "tags": []
   },
   "source": [
    "## PCA"
   ]
  },
  {
   "cell_type": "code",
   "execution_count": 2,
   "id": "8f78c120-738f-4693-b4d8-9e106051ed37",
   "metadata": {},
   "outputs": [],
   "source": [
    "library(RColorBrewer)"
   ]
  },
  {
   "cell_type": "code",
   "execution_count": 5,
   "id": "f341618f-af15-41dc-aa85-c68b41bec233",
   "metadata": {},
   "outputs": [],
   "source": [
    "gsva_dr <- t(scale(as.matrix(comb_gsva)))\n",
    "# gsva_dr <- read.csv(\"./umap/gsva_dr.csv\", row.names = 1) %>%\n",
    "    # as.matrix()"
   ]
  },
  {
   "cell_type": "code",
   "execution_count": 6,
   "id": "bbe2768d-9fc8-426b-b361-13c0dd2317fe",
   "metadata": {},
   "outputs": [],
   "source": [
    "meta_dr <- data.table(\n",
    "    cell = rownames(gsva_dr),\n",
    "    cell_type = map_chr(rownames(gsva_dr),\n",
    "                \\(x){str_match(x, \"(.*)_(.*)\")[2]}),\n",
    "    comparison = map_chr(rownames(gsva_dr),\n",
    "                \\(x){str_match(x, \"(.*)_(.*)\")[3]})\n",
    ")"
   ]
  },
  {
   "cell_type": "code",
   "execution_count": 7,
   "id": "13868c56-3850-47f0-ac16-ea6adf482b02",
   "metadata": {},
   "outputs": [
    {
     "name": "stdout",
     "output_type": "stream",
     "text": [
      "List of 5\n",
      " $ sdev    : num [1:32] 27.3 25.3 19.9 19.4 18.8 ...\n",
      " $ rotation: num [1:7611, 1:32] -0.00118 -0.00912 -0.01491 -0.02032 -0.00818 ...\n",
      "  ..- attr(*, \"dimnames\")=List of 2\n",
      "  .. ..$ : chr [1:7611] \"10 FORMYLTETRAHYDROFOLATE METABOLIC PROCESS\" \"2 OXOGLUTARATE METABOLIC PROCESS\" \"2FE 2S CLUSTER ASSEMBLY\" \"3 PHOSPHOADENOSINE 5 PHOSPHOSULFATE BIOSYNTHETIC PROCESS\" ...\n",
      "  .. ..$ : chr [1:32] \"PC1\" \"PC2\" \"PC3\" \"PC4\" ...\n",
      " $ center  : Named num [1:7611] 0.248 0.103 0.422 0.253 0.28 ...\n",
      "  ..- attr(*, \"names\")= chr [1:7611] \"10 FORMYLTETRAHYDROFOLATE METABOLIC PROCESS\" \"2 OXOGLUTARATE METABOLIC PROCESS\" \"2FE 2S CLUSTER ASSEMBLY\" \"3 PHOSPHOADENOSINE 5 PHOSPHOSULFATE BIOSYNTHETIC PROCESS\" ...\n",
      " $ scale   : Named num [1:32] 0.291 0.267 0.255 0.281 0.26 ...\n",
      "  ..- attr(*, \"names\")= chr [1:32] \"Adipose.Progenitor.Cells_OC\" \"Mesothelial.Cells_OC\" \"Th1_OC\" \"Cytotoxic.T.cells_OC\" ...\n",
      " $ x       : num [1:32, 1:32] 1.54 23.17 26.87 46.7 33.26 ...\n",
      "  ..- attr(*, \"dimnames\")=List of 2\n",
      "  .. ..$ : chr [1:32] \"Adipose.Progenitor.Cells_OC\" \"Mesothelial.Cells_OC\" \"Th1_OC\" \"Cytotoxic.T.cells_OC\" ...\n",
      "  .. ..$ : chr [1:32] \"PC1\" \"PC2\" \"PC3\" \"PC4\" ...\n",
      " - attr(*, \"class\")= chr \"prcomp\"\n"
     ]
    }
   ],
   "source": [
    "pca_gsva <- prcomp(gsva_dr)\n",
    "str(pca_gsva)"
   ]
  },
  {
   "cell_type": "code",
   "execution_count": 8,
   "id": "969e4a23-9135-4f8b-a17a-1a1708afdcdc",
   "metadata": {},
   "outputs": [
    {
     "data": {
      "image/png": "[encoded data removed]",
      "text/plain": [
       "plot without title"
      ]
     },
     "metadata": {
      "image/png": {
       "height": 420,
       "width": 420
      }
     },
     "output_type": "display_data"
    }
   ],
   "source": [
    "# svg(\"./plots/module/diag/sdev.svg\", width = 8, height = 6)\n",
    "with(\n",
    "    data.table(\n",
    "        pc = factor(1:32, levels = c(1:32), labels = str_c(\"PC\", 1:32)),\n",
    "        sdev = pca_gsva$sdev\n",
    "    ),\n",
    "    dotplot(sdev ~ pc, type = c(\"l\", \"p\"), scales = list(x = list(rot = 45)))\n",
    ")\n",
    "# dev.off()"
   ]
  },
  {
   "cell_type": "code",
   "execution_count": null,
   "id": "382e4b77-92a4-41bb-94a2-c6a5b45552b5",
   "metadata": {},
   "outputs": [],
   "source": [
    "write.csv(gsva_dr, \"./umap/gsva_dr.csv\")\n",
    "write.csv(meta_dr, \"./umap/meta_dr.csv\")"
   ]
  },
  {
   "cell_type": "markdown",
   "id": "6e51e020-e41d-4c0a-8991-5e5dc77fcfa3",
   "metadata": {
    "tags": []
   },
   "source": [
    "## UMAP generation and DBSCAN"
   ]
  },
  {
   "cell_type": "code",
   "execution_count": 108,
   "id": "55900510-759c-4018-b9ba-6b45860c9805",
   "metadata": {},
   "outputs": [
    {
     "data": {
      "text/html": [
       "<table class=\"dataframe\">\n",
       "<caption>A data.table: 6 × 5</caption>\n",
       "<thead>\n",
       "\t<tr><th scope=col>V1</th><th scope=col>UMAP1</th><th scope=col>UMAP2</th><th scope=col>cell_type</th><th scope=col>comp</th></tr>\n",
       "\t<tr><th scope=col>&lt;chr&gt;</th><th scope=col>&lt;dbl&gt;</th><th scope=col>&lt;dbl&gt;</th><th scope=col>&lt;chr&gt;</th><th scope=col>&lt;chr&gt;</th></tr>\n",
       "</thead>\n",
       "<tbody>\n",
       "\t<tr><td>Adipose Progenitor Cells_OC</td><td>1.761044</td><td>8.255908</td><td>Adipose Progenitor Cells</td><td>OC</td></tr>\n",
       "\t<tr><td>Mesothelial Cells_OC       </td><td>1.791992</td><td>8.229280</td><td>Mesothelial Cells       </td><td>OC</td></tr>\n",
       "\t<tr><td>Th1_OC                     </td><td>2.239834</td><td>7.239420</td><td>Th1                     </td><td>OC</td></tr>\n",
       "\t<tr><td>Cytotoxic T cells_OC       </td><td>2.132469</td><td>7.061890</td><td>Cytotoxic T cells       </td><td>OC</td></tr>\n",
       "\t<tr><td>gamma-delta T_OC           </td><td>2.123312</td><td>7.169233</td><td>gamma-delta T           </td><td>OC</td></tr>\n",
       "\t<tr><td>M2-like Macrophages_OC     </td><td>1.971984</td><td>6.935367</td><td>M2-like Macrophages     </td><td>OC</td></tr>\n",
       "</tbody>\n",
       "</table>\n"
      ],
      "text/latex": [
       "A data.table: 6 × 5\n",
       "\\begin{tabular}{lllll}\n",
       " V1 & UMAP1 & UMAP2 & cell\\_type & comp\\\\\n",
       " <chr> & <dbl> & <dbl> & <chr> & <chr>\\\\\n",
       "\\hline\n",
       "\t Adipose Progenitor Cells\\_OC & 1.761044 & 8.255908 & Adipose Progenitor Cells & OC\\\\\n",
       "\t Mesothelial Cells\\_OC        & 1.791992 & 8.229280 & Mesothelial Cells        & OC\\\\\n",
       "\t Th1\\_OC                      & 2.239834 & 7.239420 & Th1                      & OC\\\\\n",
       "\t Cytotoxic T cells\\_OC        & 2.132469 & 7.061890 & Cytotoxic T cells        & OC\\\\\n",
       "\t gamma-delta T\\_OC            & 2.123312 & 7.169233 & gamma-delta T            & OC\\\\\n",
       "\t M2-like Macrophages\\_OC      & 1.971984 & 6.935367 & M2-like Macrophages      & OC\\\\\n",
       "\\end{tabular}\n"
      ],
      "text/markdown": [
       "\n",
       "A data.table: 6 × 5\n",
       "\n",
       "| V1 &lt;chr&gt; | UMAP1 &lt;dbl&gt; | UMAP2 &lt;dbl&gt; | cell_type &lt;chr&gt; | comp &lt;chr&gt; |\n",
       "|---|---|---|---|---|\n",
       "| Adipose Progenitor Cells_OC | 1.761044 | 8.255908 | Adipose Progenitor Cells | OC |\n",
       "| Mesothelial Cells_OC        | 1.791992 | 8.229280 | Mesothelial Cells        | OC |\n",
       "| Th1_OC                      | 2.239834 | 7.239420 | Th1                      | OC |\n",
       "| Cytotoxic T cells_OC        | 2.132469 | 7.061890 | Cytotoxic T cells        | OC |\n",
       "| gamma-delta T_OC            | 2.123312 | 7.169233 | gamma-delta T            | OC |\n",
       "| M2-like Macrophages_OC      | 1.971984 | 6.935367 | M2-like Macrophages      | OC |\n",
       "\n"
      ],
      "text/plain": [
       "  V1                          UMAP1    UMAP2    cell_type                comp\n",
       "1 Adipose Progenitor Cells_OC 1.761044 8.255908 Adipose Progenitor Cells OC  \n",
       "2 Mesothelial Cells_OC        1.791992 8.229280 Mesothelial Cells        OC  \n",
       "3 Th1_OC                      2.239834 7.239420 Th1                      OC  \n",
       "4 Cytotoxic T cells_OC        2.132469 7.061890 Cytotoxic T cells        OC  \n",
       "5 gamma-delta T_OC            2.123312 7.169233 gamma-delta T            OC  \n",
       "6 M2-like Macrophages_OC      1.971984 6.935367 M2-like Macrophages      OC  "
      ]
     },
     "metadata": {},
     "output_type": "display_data"
    }
   ],
   "source": [
    "gsva_umap <- fread(\"./umap/umap_vis.csv\")\n",
    "gsva_umap %>% head()"
   ]
  },
  {
   "cell_type": "code",
   "execution_count": 109,
   "id": "1c2e2090-1db9-4def-a447-5a1db9f308d0",
   "metadata": {},
   "outputs": [
    {
     "data": {
      "text/html": [
       "<table class=\"dataframe\">\n",
       "<caption>A matrix: 6 × 6 of type dbl</caption>\n",
       "<thead>\n",
       "\t<tr><th></th><th scope=col>UMAP0</th><th scope=col>UMAP1</th><th scope=col>UMAP2</th><th scope=col>UMAP3</th><th scope=col>UMAP4</th><th scope=col>UMAP5</th></tr>\n",
       "</thead>\n",
       "<tbody>\n",
       "\t<tr><th scope=row>Adipose Progenitor Cells_OC</th><td>1.761044</td><td>8.255908</td><td>7.399982</td><td>2.901629</td><td>6.749967</td><td>7.672102</td></tr>\n",
       "\t<tr><th scope=row>Mesothelial Cells_OC</th><td>1.791992</td><td>8.229280</td><td>7.396703</td><td>3.601432</td><td>6.367839</td><td>7.585785</td></tr>\n",
       "\t<tr><th scope=row>Th1_OC</th><td>2.239834</td><td>7.239420</td><td>7.364596</td><td>6.553372</td><td>5.162396</td><td>6.808460</td></tr>\n",
       "\t<tr><th scope=row>Cytotoxic T cells_OC</th><td>2.132469</td><td>7.061890</td><td>7.496428</td><td>5.980829</td><td>5.234009</td><td>6.866055</td></tr>\n",
       "\t<tr><th scope=row>gamma-delta T_OC</th><td>2.123312</td><td>7.169233</td><td>7.454971</td><td>6.338323</td><td>5.195191</td><td>6.857956</td></tr>\n",
       "\t<tr><th scope=row>M2-like Macrophages_OC</th><td>1.971984</td><td>6.935367</td><td>7.567345</td><td>5.867209</td><td>5.389836</td><td>6.894037</td></tr>\n",
       "</tbody>\n",
       "</table>\n"
      ],
      "text/latex": [
       "A matrix: 6 × 6 of type dbl\n",
       "\\begin{tabular}{r|llllll}\n",
       "  & UMAP0 & UMAP1 & UMAP2 & UMAP3 & UMAP4 & UMAP5\\\\\n",
       "\\hline\n",
       "\tAdipose Progenitor Cells\\_OC & 1.761044 & 8.255908 & 7.399982 & 2.901629 & 6.749967 & 7.672102\\\\\n",
       "\tMesothelial Cells\\_OC & 1.791992 & 8.229280 & 7.396703 & 3.601432 & 6.367839 & 7.585785\\\\\n",
       "\tTh1\\_OC & 2.239834 & 7.239420 & 7.364596 & 6.553372 & 5.162396 & 6.808460\\\\\n",
       "\tCytotoxic T cells\\_OC & 2.132469 & 7.061890 & 7.496428 & 5.980829 & 5.234009 & 6.866055\\\\\n",
       "\tgamma-delta T\\_OC & 2.123312 & 7.169233 & 7.454971 & 6.338323 & 5.195191 & 6.857956\\\\\n",
       "\tM2-like Macrophages\\_OC & 1.971984 & 6.935367 & 7.567345 & 5.867209 & 5.389836 & 6.894037\\\\\n",
       "\\end{tabular}\n"
      ],
      "text/markdown": [
       "\n",
       "A matrix: 6 × 6 of type dbl\n",
       "\n",
       "| <!--/--> | UMAP0 | UMAP1 | UMAP2 | UMAP3 | UMAP4 | UMAP5 |\n",
       "|---|---|---|---|---|---|---|\n",
       "| Adipose Progenitor Cells_OC | 1.761044 | 8.255908 | 7.399982 | 2.901629 | 6.749967 | 7.672102 |\n",
       "| Mesothelial Cells_OC | 1.791992 | 8.229280 | 7.396703 | 3.601432 | 6.367839 | 7.585785 |\n",
       "| Th1_OC | 2.239834 | 7.239420 | 7.364596 | 6.553372 | 5.162396 | 6.808460 |\n",
       "| Cytotoxic T cells_OC | 2.132469 | 7.061890 | 7.496428 | 5.980829 | 5.234009 | 6.866055 |\n",
       "| gamma-delta T_OC | 2.123312 | 7.169233 | 7.454971 | 6.338323 | 5.195191 | 6.857956 |\n",
       "| M2-like Macrophages_OC | 1.971984 | 6.935367 | 7.567345 | 5.867209 | 5.389836 | 6.894037 |\n",
       "\n"
      ],
      "text/plain": [
       "                            UMAP0    UMAP1    UMAP2    UMAP3    UMAP4   \n",
       "Adipose Progenitor Cells_OC 1.761044 8.255908 7.399982 2.901629 6.749967\n",
       "Mesothelial Cells_OC        1.791992 8.229280 7.396703 3.601432 6.367839\n",
       "Th1_OC                      2.239834 7.239420 7.364596 6.553372 5.162396\n",
       "Cytotoxic T cells_OC        2.132469 7.061890 7.496428 5.980829 5.234009\n",
       "gamma-delta T_OC            2.123312 7.169233 7.454971 6.338323 5.195191\n",
       "M2-like Macrophages_OC      1.971984 6.935367 7.567345 5.867209 5.389836\n",
       "                            UMAP5   \n",
       "Adipose Progenitor Cells_OC 7.672102\n",
       "Mesothelial Cells_OC        7.585785\n",
       "Th1_OC                      6.808460\n",
       "Cytotoxic T cells_OC        6.866055\n",
       "gamma-delta T_OC            6.857956\n",
       "M2-like Macrophages_OC      6.894037"
      ]
     },
     "metadata": {},
     "output_type": "display_data"
    }
   ],
   "source": [
    "gsva_embed <- read.csv(\"./umap/umap_embed.csv\", row.names = 1) %>%\n",
    "    as.matrix()\n",
    "gsva_embed[1:6, 1:6]"
   ]
  },
  {
   "cell_type": "code",
   "execution_count": 111,
   "id": "464ca518-84ea-479d-a2d1-937b6f5aef21",
   "metadata": {},
   "outputs": [
    {
     "name": "stderr",
     "output_type": "stream",
     "text": [
      "\n",
      "载入程辑包：‘dbscan’\n",
      "\n",
      "\n",
      "The following object is masked from ‘package:stats’:\n",
      "\n",
      "    as.dendrogram\n",
      "\n",
      "\n"
     ]
    }
   ],
   "source": [
    "library(dbscan)"
   ]
  },
  {
   "cell_type": "code",
   "execution_count": 112,
   "id": "3e945399-9ebc-4ab3-b3e2-4618d0549a83",
   "metadata": {},
   "outputs": [
    {
     "data": {
      "image/png": "[encoded data removed]",
      "text/plain": [
       "plot without title"
      ]
     },
     "metadata": {
      "image/png": {
       "height": 420,
       "width": 420
      }
     },
     "output_type": "display_data"
    }
   ],
   "source": [
    "kNNdistplot(gsva_embed, k = 3)"
   ]
  },
  {
   "cell_type": "code",
   "execution_count": 113,
   "id": "c35b45ec-ed76-40e6-bf6c-ad0769e841ac",
   "metadata": {},
   "outputs": [
    {
     "data": {
      "text/html": [
       "<style>\n",
       ".list-inline {list-style: none; margin:0; padding: 0}\n",
       ".list-inline>li {display: inline-block}\n",
       ".list-inline>li:not(:last-child)::after {content: \"\\00b7\"; padding: 0 .5ex}\n",
       "</style>\n",
       "<ol class=list-inline><li>1</li><li>1</li><li>2</li><li>2</li><li>2</li><li>2</li><li>3</li><li>3</li><li>1</li><li>1</li><li>3</li><li>3</li><li>3</li><li>1</li><li>2</li><li>0</li><li>1</li><li>1</li><li>2</li><li>2</li><li>2</li><li>2</li><li>3</li><li>3</li><li>1</li><li>1</li><li>3</li><li>3</li><li>3</li><li>1</li><li>2</li><li>0</li></ol>\n"
      ],
      "text/latex": [
       "\\begin{enumerate*}\n",
       "\\item 1\n",
       "\\item 1\n",
       "\\item 2\n",
       "\\item 2\n",
       "\\item 2\n",
       "\\item 2\n",
       "\\item 3\n",
       "\\item 3\n",
       "\\item 1\n",
       "\\item 1\n",
       "\\item 3\n",
       "\\item 3\n",
       "\\item 3\n",
       "\\item 1\n",
       "\\item 2\n",
       "\\item 0\n",
       "\\item 1\n",
       "\\item 1\n",
       "\\item 2\n",
       "\\item 2\n",
       "\\item 2\n",
       "\\item 2\n",
       "\\item 3\n",
       "\\item 3\n",
       "\\item 1\n",
       "\\item 1\n",
       "\\item 3\n",
       "\\item 3\n",
       "\\item 3\n",
       "\\item 1\n",
       "\\item 2\n",
       "\\item 0\n",
       "\\end{enumerate*}\n"
      ],
      "text/markdown": [
       "1. 1\n",
       "2. 1\n",
       "3. 2\n",
       "4. 2\n",
       "5. 2\n",
       "6. 2\n",
       "7. 3\n",
       "8. 3\n",
       "9. 1\n",
       "10. 1\n",
       "11. 3\n",
       "12. 3\n",
       "13. 3\n",
       "14. 1\n",
       "15. 2\n",
       "16. 0\n",
       "17. 1\n",
       "18. 1\n",
       "19. 2\n",
       "20. 2\n",
       "21. 2\n",
       "22. 2\n",
       "23. 3\n",
       "24. 3\n",
       "25. 1\n",
       "26. 1\n",
       "27. 3\n",
       "28. 3\n",
       "29. 3\n",
       "30. 1\n",
       "31. 2\n",
       "32. 0\n",
       "\n",
       "\n"
      ],
      "text/plain": [
       " [1] 1 1 2 2 2 2 3 3 1 1 3 3 3 1 2 0 1 1 2 2 2 2 3 3 1 1 3 3 3 1 2 0"
      ]
     },
     "metadata": {},
     "output_type": "display_data"
    }
   ],
   "source": [
    "clf <- dbscan(gsva_embed, eps = 0.9, minPts = 3)\n",
    "clf$cluster"
   ]
  },
  {
   "cell_type": "code",
   "execution_count": 114,
   "id": "f81522d7-c7f0-406c-9ce4-03dc3800436e",
   "metadata": {},
   "outputs": [
    {
     "data": {
      "text/html": [
       "<strong>png:</strong> 2"
      ],
      "text/latex": [
       "\\textbf{png:} 2"
      ],
      "text/markdown": [
       "**png:** 2"
      ],
      "text/plain": [
       "png \n",
       "  2 "
      ]
     },
     "metadata": {},
     "output_type": "display_data"
    }
   ],
   "source": [
    "cluster_fct <- factor(clf$cluster, levels = 0:3,\n",
    "                      labels = c(\"Unclustered\", \"Mod1\", \"Mod2\", \"Mod3\"))\n",
    "color_vec <- brewer.pal(4, \"Set1\")\n",
    "color_vec[1] <- \"#000000\"\n",
    "names(color_vec) <- levels(cluster_fct)\n",
    "svg(\"./plots/module/umap.svg\", width = 8, height = 6)\n",
    "with(\n",
    "    gsva_umap[,.(\n",
    "        UMAP1, UMAP2, cell_type, comp,\n",
    "        cluster = cluster_fct,\n",
    "        colors = unname(color_vec[cluster_fct])\n",
    "    )],\n",
    "    xyplot(UMAP2 ~ UMAP1 | comp, groups = colors,\n",
    "          panel = function(x, y, groups, ..., subscripts){\n",
    "              fill <- groups[subscripts]\n",
    "              panel.text(x, y, label = cell_type, col = fill, ...)\n",
    "          },\n",
    "           key = list(\n",
    "               space = list(\"top\"),\n",
    "               columns = 4,\n",
    "               text = list(levels(cluster_fct)),\n",
    "               point = list(col = color_vec)\n",
    "           )\n",
    "    )\n",
    ")\n",
    "dev.off()"
   ]
  },
  {
   "cell_type": "markdown",
   "id": "b4a92b2e-48cf-416e-ad4b-a7663e5551d1",
   "metadata": {},
   "source": [
    "### Cluster-wise function comparison"
   ]
  },
  {
   "cell_type": "code",
   "execution_count": 62,
   "id": "38d379c8-2484-42ae-a946-c25a587a8d01",
   "metadata": {},
   "outputs": [],
   "source": [
    "meta_dr <- meta_dr[,.(cell, cell_type,\n",
    "           comparison = as_factor(comparison), cluster = cluster_fct)] \n",
    "meta_dr %>%\n",
    "    fwrite(\"./results/module/module_info.csv\")"
   ]
  },
  {
   "cell_type": "code",
   "execution_count": 18,
   "id": "9ce662a0-a85e-41e9-ab4d-f95898dbdd21",
   "metadata": {},
   "outputs": [
    {
     "data": {
      "text/html": [
       "<table class=\"dataframe\">\n",
       "<caption>A data.table: 32 × 4</caption>\n",
       "<thead>\n",
       "\t<tr><th scope=col>cell</th><th scope=col>cell_type</th><th scope=col>comparison</th><th scope=col>cluster</th></tr>\n",
       "\t<tr><th scope=col>&lt;chr&gt;</th><th scope=col>&lt;chr&gt;</th><th scope=col>&lt;chr&gt;</th><th scope=col>&lt;chr&gt;</th></tr>\n",
       "</thead>\n",
       "<tbody>\n",
       "\t<tr><td>Adipose.Progenitor.Cells_OC      </td><td>Adipose.Progenitor.Cells      </td><td>OC</td><td>Mod1       </td></tr>\n",
       "\t<tr><td>Mesothelial.Cells_OC             </td><td>Mesothelial.Cells             </td><td>OC</td><td>Mod1       </td></tr>\n",
       "\t<tr><td>Th1_OC                           </td><td>Th1                           </td><td>OC</td><td>Mod2       </td></tr>\n",
       "\t<tr><td>Cytotoxic.T.cells_OC             </td><td>Cytotoxic.T.cells             </td><td>OC</td><td>Mod2       </td></tr>\n",
       "\t<tr><td>gamma.delta.T_OC                 </td><td>gamma.delta.T                 </td><td>OC</td><td>Mod2       </td></tr>\n",
       "\t<tr><td>M2.like.Macrophages_OC           </td><td>M2.like.Macrophages           </td><td>OC</td><td>Mod2       </td></tr>\n",
       "\t<tr><td>M1.like.Macrophages_OC           </td><td>M1.like.Macrophages           </td><td>OC</td><td>Mod3       </td></tr>\n",
       "\t<tr><td>cDC1_OC                          </td><td>cDC1                          </td><td>OC</td><td>Mod3       </td></tr>\n",
       "\t<tr><td>Fibro.inflammatory.Progenitors_OC</td><td>Fibro.inflammatory.Progenitors</td><td>OC</td><td>Mod1       </td></tr>\n",
       "\t<tr><td>Vascular.Endothelial.Cells_OC    </td><td>Vascular.Endothelial.Cells    </td><td>OC</td><td>Mod1       </td></tr>\n",
       "\t<tr><td>Neutrophils_OC                   </td><td>Neutrophils                   </td><td>OC</td><td>Mod3       </td></tr>\n",
       "\t<tr><td>Mast.Cells_OC                    </td><td>Mast.Cells                    </td><td>OC</td><td>Mod3       </td></tr>\n",
       "\t<tr><td>B.Cells_OC                       </td><td>B.Cells                       </td><td>OC</td><td>Mod3       </td></tr>\n",
       "\t<tr><td>Adipocytes_OC                    </td><td>Adipocytes                    </td><td>OC</td><td>Mod1       </td></tr>\n",
       "\t<tr><td>Proliferating.Cells_OC           </td><td>Proliferating.Cells           </td><td>OC</td><td>Mod2       </td></tr>\n",
       "\t<tr><td>Smooth.Muscle.Cells_OC           </td><td>Smooth.Muscle.Cells           </td><td>OC</td><td>Unclustered</td></tr>\n",
       "\t<tr><td>Adipose.Progenitor.Cells_OD      </td><td>Adipose.Progenitor.Cells      </td><td>OD</td><td>Mod1       </td></tr>\n",
       "\t<tr><td>Mesothelial.Cells_OD             </td><td>Mesothelial.Cells             </td><td>OD</td><td>Mod1       </td></tr>\n",
       "\t<tr><td>Th1_OD                           </td><td>Th1                           </td><td>OD</td><td>Mod2       </td></tr>\n",
       "\t<tr><td>Cytotoxic.T.cells_OD             </td><td>Cytotoxic.T.cells             </td><td>OD</td><td>Mod2       </td></tr>\n",
       "\t<tr><td>gamma.delta.T_OD                 </td><td>gamma.delta.T                 </td><td>OD</td><td>Mod2       </td></tr>\n",
       "\t<tr><td>M2.like.Macrophages_OD           </td><td>M2.like.Macrophages           </td><td>OD</td><td>Mod2       </td></tr>\n",
       "\t<tr><td>M1.like.Macrophages_OD           </td><td>M1.like.Macrophages           </td><td>OD</td><td>Mod3       </td></tr>\n",
       "\t<tr><td>cDC1_OD                          </td><td>cDC1                          </td><td>OD</td><td>Mod3       </td></tr>\n",
       "\t<tr><td>Fibro.inflammatory.Progenitors_OD</td><td>Fibro.inflammatory.Progenitors</td><td>OD</td><td>Mod1       </td></tr>\n",
       "\t<tr><td>Vascular.Endothelial.Cells_OD    </td><td>Vascular.Endothelial.Cells    </td><td>OD</td><td>Mod1       </td></tr>\n",
       "\t<tr><td>Neutrophils_OD                   </td><td>Neutrophils                   </td><td>OD</td><td>Mod3       </td></tr>\n",
       "\t<tr><td>Mast.Cells_OD                    </td><td>Mast.Cells                    </td><td>OD</td><td>Mod3       </td></tr>\n",
       "\t<tr><td>B.Cells_OD                       </td><td>B.Cells                       </td><td>OD</td><td>Mod3       </td></tr>\n",
       "\t<tr><td>Adipocytes_OD                    </td><td>Adipocytes                    </td><td>OD</td><td>Mod1       </td></tr>\n",
       "\t<tr><td>Proliferating.Cells_OD           </td><td>Proliferating.Cells           </td><td>OD</td><td>Mod2       </td></tr>\n",
       "\t<tr><td>Smooth.Muscle.Cells_OD           </td><td>Smooth.Muscle.Cells           </td><td>OD</td><td>Unclustered</td></tr>\n",
       "</tbody>\n",
       "</table>\n"
      ],
      "text/latex": [
       "A data.table: 32 × 4\n",
       "\\begin{tabular}{llll}\n",
       " cell & cell\\_type & comparison & cluster\\\\\n",
       " <chr> & <chr> & <chr> & <chr>\\\\\n",
       "\\hline\n",
       "\t Adipose.Progenitor.Cells\\_OC       & Adipose.Progenitor.Cells       & OC & Mod1       \\\\\n",
       "\t Mesothelial.Cells\\_OC              & Mesothelial.Cells              & OC & Mod1       \\\\\n",
       "\t Th1\\_OC                            & Th1                            & OC & Mod2       \\\\\n",
       "\t Cytotoxic.T.cells\\_OC              & Cytotoxic.T.cells              & OC & Mod2       \\\\\n",
       "\t gamma.delta.T\\_OC                  & gamma.delta.T                  & OC & Mod2       \\\\\n",
       "\t M2.like.Macrophages\\_OC            & M2.like.Macrophages            & OC & Mod2       \\\\\n",
       "\t M1.like.Macrophages\\_OC            & M1.like.Macrophages            & OC & Mod3       \\\\\n",
       "\t cDC1\\_OC                           & cDC1                           & OC & Mod3       \\\\\n",
       "\t Fibro.inflammatory.Progenitors\\_OC & Fibro.inflammatory.Progenitors & OC & Mod1       \\\\\n",
       "\t Vascular.Endothelial.Cells\\_OC     & Vascular.Endothelial.Cells     & OC & Mod1       \\\\\n",
       "\t Neutrophils\\_OC                    & Neutrophils                    & OC & Mod3       \\\\\n",
       "\t Mast.Cells\\_OC                     & Mast.Cells                     & OC & Mod3       \\\\\n",
       "\t B.Cells\\_OC                        & B.Cells                        & OC & Mod3       \\\\\n",
       "\t Adipocytes\\_OC                     & Adipocytes                     & OC & Mod1       \\\\\n",
       "\t Proliferating.Cells\\_OC            & Proliferating.Cells            & OC & Mod2       \\\\\n",
       "\t Smooth.Muscle.Cells\\_OC            & Smooth.Muscle.Cells            & OC & Unclustered\\\\\n",
       "\t Adipose.Progenitor.Cells\\_OD       & Adipose.Progenitor.Cells       & OD & Mod1       \\\\\n",
       "\t Mesothelial.Cells\\_OD              & Mesothelial.Cells              & OD & Mod1       \\\\\n",
       "\t Th1\\_OD                            & Th1                            & OD & Mod2       \\\\\n",
       "\t Cytotoxic.T.cells\\_OD              & Cytotoxic.T.cells              & OD & Mod2       \\\\\n",
       "\t gamma.delta.T\\_OD                  & gamma.delta.T                  & OD & Mod2       \\\\\n",
       "\t M2.like.Macrophages\\_OD            & M2.like.Macrophages            & OD & Mod2       \\\\\n",
       "\t M1.like.Macrophages\\_OD            & M1.like.Macrophages            & OD & Mod3       \\\\\n",
       "\t cDC1\\_OD                           & cDC1                           & OD & Mod3       \\\\\n",
       "\t Fibro.inflammatory.Progenitors\\_OD & Fibro.inflammatory.Progenitors & OD & Mod1       \\\\\n",
       "\t Vascular.Endothelial.Cells\\_OD     & Vascular.Endothelial.Cells     & OD & Mod1       \\\\\n",
       "\t Neutrophils\\_OD                    & Neutrophils                    & OD & Mod3       \\\\\n",
       "\t Mast.Cells\\_OD                     & Mast.Cells                     & OD & Mod3       \\\\\n",
       "\t B.Cells\\_OD                        & B.Cells                        & OD & Mod3       \\\\\n",
       "\t Adipocytes\\_OD                     & Adipocytes                     & OD & Mod1       \\\\\n",
       "\t Proliferating.Cells\\_OD            & Proliferating.Cells            & OD & Mod2       \\\\\n",
       "\t Smooth.Muscle.Cells\\_OD            & Smooth.Muscle.Cells            & OD & Unclustered\\\\\n",
       "\\end{tabular}\n"
      ],
      "text/markdown": [
       "\n",
       "A data.table: 32 × 4\n",
       "\n",
       "| cell &lt;chr&gt; | cell_type &lt;chr&gt; | comparison &lt;chr&gt; | cluster &lt;chr&gt; |\n",
       "|---|---|---|---|\n",
       "| Adipose.Progenitor.Cells_OC       | Adipose.Progenitor.Cells       | OC | Mod1        |\n",
       "| Mesothelial.Cells_OC              | Mesothelial.Cells              | OC | Mod1        |\n",
       "| Th1_OC                            | Th1                            | OC | Mod2        |\n",
       "| Cytotoxic.T.cells_OC              | Cytotoxic.T.cells              | OC | Mod2        |\n",
       "| gamma.delta.T_OC                  | gamma.delta.T                  | OC | Mod2        |\n",
       "| M2.like.Macrophages_OC            | M2.like.Macrophages            | OC | Mod2        |\n",
       "| M1.like.Macrophages_OC            | M1.like.Macrophages            | OC | Mod3        |\n",
       "| cDC1_OC                           | cDC1                           | OC | Mod3        |\n",
       "| Fibro.inflammatory.Progenitors_OC | Fibro.inflammatory.Progenitors | OC | Mod1        |\n",
       "| Vascular.Endothelial.Cells_OC     | Vascular.Endothelial.Cells     | OC | Mod1        |\n",
       "| Neutrophils_OC                    | Neutrophils                    | OC | Mod3        |\n",
       "| Mast.Cells_OC                     | Mast.Cells                     | OC | Mod3        |\n",
       "| B.Cells_OC                        | B.Cells                        | OC | Mod3        |\n",
       "| Adipocytes_OC                     | Adipocytes                     | OC | Mod1        |\n",
       "| Proliferating.Cells_OC            | Proliferating.Cells            | OC | Mod2        |\n",
       "| Smooth.Muscle.Cells_OC            | Smooth.Muscle.Cells            | OC | Unclustered |\n",
       "| Adipose.Progenitor.Cells_OD       | Adipose.Progenitor.Cells       | OD | Mod1        |\n",
       "| Mesothelial.Cells_OD              | Mesothelial.Cells              | OD | Mod1        |\n",
       "| Th1_OD                            | Th1                            | OD | Mod2        |\n",
       "| Cytotoxic.T.cells_OD              | Cytotoxic.T.cells              | OD | Mod2        |\n",
       "| gamma.delta.T_OD                  | gamma.delta.T                  | OD | Mod2        |\n",
       "| M2.like.Macrophages_OD            | M2.like.Macrophages            | OD | Mod2        |\n",
       "| M1.like.Macrophages_OD            | M1.like.Macrophages            | OD | Mod3        |\n",
       "| cDC1_OD                           | cDC1                           | OD | Mod3        |\n",
       "| Fibro.inflammatory.Progenitors_OD | Fibro.inflammatory.Progenitors | OD | Mod1        |\n",
       "| Vascular.Endothelial.Cells_OD     | Vascular.Endothelial.Cells     | OD | Mod1        |\n",
       "| Neutrophils_OD                    | Neutrophils                    | OD | Mod3        |\n",
       "| Mast.Cells_OD                     | Mast.Cells                     | OD | Mod3        |\n",
       "| B.Cells_OD                        | B.Cells                        | OD | Mod3        |\n",
       "| Adipocytes_OD                     | Adipocytes                     | OD | Mod1        |\n",
       "| Proliferating.Cells_OD            | Proliferating.Cells            | OD | Mod2        |\n",
       "| Smooth.Muscle.Cells_OD            | Smooth.Muscle.Cells            | OD | Unclustered |\n",
       "\n"
      ],
      "text/plain": [
       "   cell                              cell_type                      comparison\n",
       "1  Adipose.Progenitor.Cells_OC       Adipose.Progenitor.Cells       OC        \n",
       "2  Mesothelial.Cells_OC              Mesothelial.Cells              OC        \n",
       "3  Th1_OC                            Th1                            OC        \n",
       "4  Cytotoxic.T.cells_OC              Cytotoxic.T.cells              OC        \n",
       "5  gamma.delta.T_OC                  gamma.delta.T                  OC        \n",
       "6  M2.like.Macrophages_OC            M2.like.Macrophages            OC        \n",
       "7  M1.like.Macrophages_OC            M1.like.Macrophages            OC        \n",
       "8  cDC1_OC                           cDC1                           OC        \n",
       "9  Fibro.inflammatory.Progenitors_OC Fibro.inflammatory.Progenitors OC        \n",
       "10 Vascular.Endothelial.Cells_OC     Vascular.Endothelial.Cells     OC        \n",
       "11 Neutrophils_OC                    Neutrophils                    OC        \n",
       "12 Mast.Cells_OC                     Mast.Cells                     OC        \n",
       "13 B.Cells_OC                        B.Cells                        OC        \n",
       "14 Adipocytes_OC                     Adipocytes                     OC        \n",
       "15 Proliferating.Cells_OC            Proliferating.Cells            OC        \n",
       "16 Smooth.Muscle.Cells_OC            Smooth.Muscle.Cells            OC        \n",
       "17 Adipose.Progenitor.Cells_OD       Adipose.Progenitor.Cells       OD        \n",
       "18 Mesothelial.Cells_OD              Mesothelial.Cells              OD        \n",
       "19 Th1_OD                            Th1                            OD        \n",
       "20 Cytotoxic.T.cells_OD              Cytotoxic.T.cells              OD        \n",
       "21 gamma.delta.T_OD                  gamma.delta.T                  OD        \n",
       "22 M2.like.Macrophages_OD            M2.like.Macrophages            OD        \n",
       "23 M1.like.Macrophages_OD            M1.like.Macrophages            OD        \n",
       "24 cDC1_OD                           cDC1                           OD        \n",
       "25 Fibro.inflammatory.Progenitors_OD Fibro.inflammatory.Progenitors OD        \n",
       "26 Vascular.Endothelial.Cells_OD     Vascular.Endothelial.Cells     OD        \n",
       "27 Neutrophils_OD                    Neutrophils                    OD        \n",
       "28 Mast.Cells_OD                     Mast.Cells                     OD        \n",
       "29 B.Cells_OD                        B.Cells                        OD        \n",
       "30 Adipocytes_OD                     Adipocytes                     OD        \n",
       "31 Proliferating.Cells_OD            Proliferating.Cells            OD        \n",
       "32 Smooth.Muscle.Cells_OD            Smooth.Muscle.Cells            OD        \n",
       "   cluster    \n",
       "1  Mod1       \n",
       "2  Mod1       \n",
       "3  Mod2       \n",
       "4  Mod2       \n",
       "5  Mod2       \n",
       "6  Mod2       \n",
       "7  Mod3       \n",
       "8  Mod3       \n",
       "9  Mod1       \n",
       "10 Mod1       \n",
       "11 Mod3       \n",
       "12 Mod3       \n",
       "13 Mod3       \n",
       "14 Mod1       \n",
       "15 Mod2       \n",
       "16 Unclustered\n",
       "17 Mod1       \n",
       "18 Mod1       \n",
       "19 Mod2       \n",
       "20 Mod2       \n",
       "21 Mod2       \n",
       "22 Mod2       \n",
       "23 Mod3       \n",
       "24 Mod3       \n",
       "25 Mod1       \n",
       "26 Mod1       \n",
       "27 Mod3       \n",
       "28 Mod3       \n",
       "29 Mod3       \n",
       "30 Mod1       \n",
       "31 Mod2       \n",
       "32 Unclustered"
      ]
     },
     "metadata": {},
     "output_type": "display_data"
    }
   ],
   "source": [
    "meta_dr"
   ]
  },
  {
   "cell_type": "code",
   "execution_count": 63,
   "id": "f7085b56-58f8-4e24-8aa6-2f91316f646b",
   "metadata": {},
   "outputs": [
    {
     "data": {
      "text/html": [
       "<table class=\"dataframe\">\n",
       "<caption>A data.table: 6 × 6</caption>\n",
       "<thead>\n",
       "\t<tr><th scope=col>cell</th><th scope=col>cell_type</th><th scope=col>comparison</th><th scope=col>cluster</th><th scope=col>pathway</th><th scope=col>score</th></tr>\n",
       "\t<tr><th scope=col>&lt;chr&gt;</th><th scope=col>&lt;chr&gt;</th><th scope=col>&lt;fct&gt;</th><th scope=col>&lt;fct&gt;</th><th scope=col>&lt;fct&gt;</th><th scope=col>&lt;dbl&gt;</th></tr>\n",
       "</thead>\n",
       "<tbody>\n",
       "\t<tr><td>Adipocytes_OC              </td><td>Adipocytes              </td><td>OC</td><td>Mod1</td><td>10 FORMYLTETRAHYDROFOLATE METABOLIC PROCESS</td><td> 0.15808534</td></tr>\n",
       "\t<tr><td>Adipocytes_OD              </td><td>Adipocytes              </td><td>OD</td><td>Mod1</td><td>10 FORMYLTETRAHYDROFOLATE METABOLIC PROCESS</td><td> 0.25202365</td></tr>\n",
       "\t<tr><td>Adipose.Progenitor.Cells_OC</td><td>Adipose.Progenitor.Cells</td><td>OC</td><td>Mod1</td><td>10 FORMYLTETRAHYDROFOLATE METABOLIC PROCESS</td><td>-0.08136298</td></tr>\n",
       "\t<tr><td>Adipose.Progenitor.Cells_OD</td><td>Adipose.Progenitor.Cells</td><td>OD</td><td>Mod1</td><td>10 FORMYLTETRAHYDROFOLATE METABOLIC PROCESS</td><td>-0.18567782</td></tr>\n",
       "\t<tr><td>B.Cells_OC                 </td><td>B.Cells                 </td><td>OC</td><td>Mod3</td><td>10 FORMYLTETRAHYDROFOLATE METABOLIC PROCESS</td><td> 0.07113921</td></tr>\n",
       "\t<tr><td>B.Cells_OD                 </td><td>B.Cells                 </td><td>OD</td><td>Mod3</td><td>10 FORMYLTETRAHYDROFOLATE METABOLIC PROCESS</td><td>-0.41191651</td></tr>\n",
       "</tbody>\n",
       "</table>\n"
      ],
      "text/latex": [
       "A data.table: 6 × 6\n",
       "\\begin{tabular}{llllll}\n",
       " cell & cell\\_type & comparison & cluster & pathway & score\\\\\n",
       " <chr> & <chr> & <fct> & <fct> & <fct> & <dbl>\\\\\n",
       "\\hline\n",
       "\t Adipocytes\\_OC               & Adipocytes               & OC & Mod1 & 10 FORMYLTETRAHYDROFOLATE METABOLIC PROCESS &  0.15808534\\\\\n",
       "\t Adipocytes\\_OD               & Adipocytes               & OD & Mod1 & 10 FORMYLTETRAHYDROFOLATE METABOLIC PROCESS &  0.25202365\\\\\n",
       "\t Adipose.Progenitor.Cells\\_OC & Adipose.Progenitor.Cells & OC & Mod1 & 10 FORMYLTETRAHYDROFOLATE METABOLIC PROCESS & -0.08136298\\\\\n",
       "\t Adipose.Progenitor.Cells\\_OD & Adipose.Progenitor.Cells & OD & Mod1 & 10 FORMYLTETRAHYDROFOLATE METABOLIC PROCESS & -0.18567782\\\\\n",
       "\t B.Cells\\_OC                  & B.Cells                  & OC & Mod3 & 10 FORMYLTETRAHYDROFOLATE METABOLIC PROCESS &  0.07113921\\\\\n",
       "\t B.Cells\\_OD                  & B.Cells                  & OD & Mod3 & 10 FORMYLTETRAHYDROFOLATE METABOLIC PROCESS & -0.41191651\\\\\n",
       "\\end{tabular}\n"
      ],
      "text/markdown": [
       "\n",
       "A data.table: 6 × 6\n",
       "\n",
       "| cell &lt;chr&gt; | cell_type &lt;chr&gt; | comparison &lt;fct&gt; | cluster &lt;fct&gt; | pathway &lt;fct&gt; | score &lt;dbl&gt; |\n",
       "|---|---|---|---|---|---|\n",
       "| Adipocytes_OC               | Adipocytes               | OC | Mod1 | 10 FORMYLTETRAHYDROFOLATE METABOLIC PROCESS |  0.15808534 |\n",
       "| Adipocytes_OD               | Adipocytes               | OD | Mod1 | 10 FORMYLTETRAHYDROFOLATE METABOLIC PROCESS |  0.25202365 |\n",
       "| Adipose.Progenitor.Cells_OC | Adipose.Progenitor.Cells | OC | Mod1 | 10 FORMYLTETRAHYDROFOLATE METABOLIC PROCESS | -0.08136298 |\n",
       "| Adipose.Progenitor.Cells_OD | Adipose.Progenitor.Cells | OD | Mod1 | 10 FORMYLTETRAHYDROFOLATE METABOLIC PROCESS | -0.18567782 |\n",
       "| B.Cells_OC                  | B.Cells                  | OC | Mod3 | 10 FORMYLTETRAHYDROFOLATE METABOLIC PROCESS |  0.07113921 |\n",
       "| B.Cells_OD                  | B.Cells                  | OD | Mod3 | 10 FORMYLTETRAHYDROFOLATE METABOLIC PROCESS | -0.41191651 |\n",
       "\n"
      ],
      "text/plain": [
       "  cell                        cell_type                comparison cluster\n",
       "1 Adipocytes_OC               Adipocytes               OC         Mod1   \n",
       "2 Adipocytes_OD               Adipocytes               OD         Mod1   \n",
       "3 Adipose.Progenitor.Cells_OC Adipose.Progenitor.Cells OC         Mod1   \n",
       "4 Adipose.Progenitor.Cells_OD Adipose.Progenitor.Cells OD         Mod1   \n",
       "5 B.Cells_OC                  B.Cells                  OC         Mod3   \n",
       "6 B.Cells_OD                  B.Cells                  OD         Mod3   \n",
       "  pathway                                     score      \n",
       "1 10 FORMYLTETRAHYDROFOLATE METABOLIC PROCESS  0.15808534\n",
       "2 10 FORMYLTETRAHYDROFOLATE METABOLIC PROCESS  0.25202365\n",
       "3 10 FORMYLTETRAHYDROFOLATE METABOLIC PROCESS -0.08136298\n",
       "4 10 FORMYLTETRAHYDROFOLATE METABOLIC PROCESS -0.18567782\n",
       "5 10 FORMYLTETRAHYDROFOLATE METABOLIC PROCESS  0.07113921\n",
       "6 10 FORMYLTETRAHYDROFOLATE METABOLIC PROCESS -0.41191651"
      ]
     },
     "metadata": {},
     "output_type": "display_data"
    }
   ],
   "source": [
    "mod_stat <- data.table(\n",
    "    cell = colnames(comb_gsva),\n",
    "    comb_gsva %>% t() %>%\n",
    "        as.data.frame()\n",
    ")\n",
    "mod_stat <- merge(mod_stat, meta_dr) %>%\n",
    "    melt(id.vars = c(\"cell\", \"cell_type\", \"comparison\", \"cluster\"),\n",
    "         value.name = \"score\",\n",
    "         variable.name = \"pathway\"\n",
    "        )\n",
    "mod_stat %>% head()"
   ]
  },
  {
   "cell_type": "code",
   "execution_count": 64,
   "id": "7c1bfb84-024d-4587-a125-a33ac2690314",
   "metadata": {},
   "outputs": [
    {
     "data": {
      "text/html": [
       "<style>\n",
       ".list-inline {list-style: none; margin:0; padding: 0}\n",
       ".list-inline>li {display: inline-block}\n",
       ".list-inline>li:not(:last-child)::after {content: \"\\00b7\"; padding: 0 .5ex}\n",
       "</style>\n",
       "<ol class=list-inline><li>'Unclustered'</li><li>'Mod1'</li><li>'Mod2'</li><li>'Mod3'</li></ol>\n"
      ],
      "text/latex": [
       "\\begin{enumerate*}\n",
       "\\item 'Unclustered'\n",
       "\\item 'Mod1'\n",
       "\\item 'Mod2'\n",
       "\\item 'Mod3'\n",
       "\\end{enumerate*}\n"
      ],
      "text/markdown": [
       "1. 'Unclustered'\n",
       "2. 'Mod1'\n",
       "3. 'Mod2'\n",
       "4. 'Mod3'\n",
       "\n",
       "\n"
      ],
      "text/plain": [
       "[1] \"Unclustered\" \"Mod1\"        \"Mod2\"        \"Mod3\"       "
      ]
     },
     "metadata": {},
     "output_type": "display_data"
    }
   ],
   "source": [
    "clst_vec <- levels(mod_stat$cluster)\n",
    "clst_vec"
   ]
  },
  {
   "cell_type": "code",
   "execution_count": 65,
   "id": "3f2559de-caba-4813-a4f7-8172ab8af18f",
   "metadata": {},
   "outputs": [],
   "source": [
    "mod_wilcox <- mod_stat[,.(\n",
    "    cluster = clst_vec,\n",
    "    pval = map_dbl(clst_vec, \\(clst){\n",
    "        wilcox.test(.SD[cluster == clst, score],\n",
    "                    .SD[cluster != clst, score])$p.value\n",
    "    }),\n",
    "    diff = map_dbl(clst_vec, \\(clst){\n",
    "        mean(.SD[cluster == clst, score]) -\n",
    "        mean(.SD[cluster != clst, score])\n",
    "    })\n",
    "), by = \"pathway\"][order(pval), .(\n",
    "    pathway, diff, pval, padj = p.adjust(.SD[, pval], method = \"BH\")\n",
    "), by = \"cluster\"][order(cluster, -diff, padj)]\n",
    "fwrite(mod_wilcox, \"./results/module/mod_test.csv\")"
   ]
  },
  {
   "cell_type": "code",
   "execution_count": 6,
   "id": "45457905-30ed-4953-b635-c1d4bbd03e0a",
   "metadata": {},
   "outputs": [],
   "source": [
    "mod_wilcox <- fread(\"./results/module/mod_test.csv\")\n",
    "meta_dr <- fread(\"./results/module/module_info.csv\")"
   ]
  },
  {
   "cell_type": "code",
   "execution_count": 66,
   "id": "4c1f32b3-a11c-4d00-9289-c833b1b81a01",
   "metadata": {},
   "outputs": [],
   "source": [
    "gsea_signif <- fread(\"./results/enrich/combined_gsea.csv\")"
   ]
  },
  {
   "cell_type": "code",
   "execution_count": 67,
   "id": "a9f400ec-ad08-4a2b-870f-c99fd5f0c7e1",
   "metadata": {},
   "outputs": [],
   "source": [
    "gsea_sigpaths <- gsea_signif[padj < 0.05, pathway]"
   ]
  },
  {
   "cell_type": "code",
   "execution_count": 68,
   "id": "b9a34861-8be6-4ba0-8e4c-2ed9163747b0",
   "metadata": {},
   "outputs": [],
   "source": [
    "mod_wilcox_sigpaths <- mod_wilcox[padj < 0.05, pathway]"
   ]
  },
  {
   "cell_type": "code",
   "execution_count": 69,
   "id": "e8c01257-6ef7-4b54-8abe-eccf040972a6",
   "metadata": {},
   "outputs": [
    {
     "data": {
      "text/html": [
       "<style>\n",
       ".list-inline {list-style: none; margin:0; padding: 0}\n",
       ".list-inline>li {display: inline-block}\n",
       ".list-inline>li:not(:last-child)::after {content: \"\\00b7\"; padding: 0 .5ex}\n",
       "</style>\n",
       "<ol class=list-inline><li>'IMMUNE RESPONSE'</li><li>'CELL ACTIVATION'</li><li>'ADAPTIVE IMMUNE RESPONSE'</li><li>'INFLAMMATORY RESPONSE'</li><li>'REGULATION OF IMMUNE SYSTEM PROCESS'</li><li>'NEGATIVE REGULATION OF HYDROGEN PEROXIDE METABOLIC PROCESS'</li><li>'CELL MIGRATION'</li><li>'LOCOMOTION'</li><li>'DIVALENT INORGANIC CATION HOMEOSTASIS'</li><li>'LEUKOCYTE DIFFERENTIATION'</li><li>'REGULATION OF CYTOSOLIC CALCIUM ION CONCENTRATION'</li></ol>\n"
      ],
      "text/latex": [
       "\\begin{enumerate*}\n",
       "\\item 'IMMUNE RESPONSE'\n",
       "\\item 'CELL ACTIVATION'\n",
       "\\item 'ADAPTIVE IMMUNE RESPONSE'\n",
       "\\item 'INFLAMMATORY RESPONSE'\n",
       "\\item 'REGULATION OF IMMUNE SYSTEM PROCESS'\n",
       "\\item 'NEGATIVE REGULATION OF HYDROGEN PEROXIDE METABOLIC PROCESS'\n",
       "\\item 'CELL MIGRATION'\n",
       "\\item 'LOCOMOTION'\n",
       "\\item 'DIVALENT INORGANIC CATION HOMEOSTASIS'\n",
       "\\item 'LEUKOCYTE DIFFERENTIATION'\n",
       "\\item 'REGULATION OF CYTOSOLIC CALCIUM ION CONCENTRATION'\n",
       "\\end{enumerate*}\n"
      ],
      "text/markdown": [
       "1. 'IMMUNE RESPONSE'\n",
       "2. 'CELL ACTIVATION'\n",
       "3. 'ADAPTIVE IMMUNE RESPONSE'\n",
       "4. 'INFLAMMATORY RESPONSE'\n",
       "5. 'REGULATION OF IMMUNE SYSTEM PROCESS'\n",
       "6. 'NEGATIVE REGULATION OF HYDROGEN PEROXIDE METABOLIC PROCESS'\n",
       "7. 'CELL MIGRATION'\n",
       "8. 'LOCOMOTION'\n",
       "9. 'DIVALENT INORGANIC CATION HOMEOSTASIS'\n",
       "10. 'LEUKOCYTE DIFFERENTIATION'\n",
       "11. 'REGULATION OF CYTOSOLIC CALCIUM ION CONCENTRATION'\n",
       "\n",
       "\n"
      ],
      "text/plain": [
       " [1] \"IMMUNE RESPONSE\"                                           \n",
       " [2] \"CELL ACTIVATION\"                                           \n",
       " [3] \"ADAPTIVE IMMUNE RESPONSE\"                                  \n",
       " [4] \"INFLAMMATORY RESPONSE\"                                     \n",
       " [5] \"REGULATION OF IMMUNE SYSTEM PROCESS\"                       \n",
       " [6] \"NEGATIVE REGULATION OF HYDROGEN PEROXIDE METABOLIC PROCESS\"\n",
       " [7] \"CELL MIGRATION\"                                            \n",
       " [8] \"LOCOMOTION\"                                                \n",
       " [9] \"DIVALENT INORGANIC CATION HOMEOSTASIS\"                     \n",
       "[10] \"LEUKOCYTE DIFFERENTIATION\"                                 \n",
       "[11] \"REGULATION OF CYTOSOLIC CALCIUM ION CONCENTRATION\"         "
      ]
     },
     "metadata": {},
     "output_type": "display_data"
    }
   ],
   "source": [
    "intersect(gsea_sigpaths, mod_wilcox_sigpaths)"
   ]
  },
  {
   "cell_type": "code",
   "execution_count": 144,
   "id": "d1278176-8a07-476e-afeb-55a307bb7dce",
   "metadata": {},
   "outputs": [
    {
     "data": {
      "text/html": [
       "<table class=\"dataframe\">\n",
       "<caption>A data.table: 12 × 5</caption>\n",
       "<thead>\n",
       "\t<tr><th scope=col>cluster</th><th scope=col>pathway</th><th scope=col>diff</th><th scope=col>pval</th><th scope=col>padj</th></tr>\n",
       "\t<tr><th scope=col>&lt;chr&gt;</th><th scope=col>&lt;chr&gt;</th><th scope=col>&lt;dbl&gt;</th><th scope=col>&lt;dbl&gt;</th><th scope=col>&lt;dbl&gt;</th></tr>\n",
       "</thead>\n",
       "<tbody>\n",
       "\t<tr><td>Mod1</td><td>IMMUNE RESPONSE                                           </td><td>-0.07158688</td><td>2.148554e-03</td><td>0.030004846</td></tr>\n",
       "\t<tr><td>Mod1</td><td>REGULATION OF IMMUNE SYSTEM PROCESS                       </td><td>-0.08834559</td><td>6.332132e-04</td><td>0.015698324</td></tr>\n",
       "\t<tr><td>Mod1</td><td>ADAPTIVE IMMUNE RESPONSE                                  </td><td>-0.09697935</td><td>5.890355e-05</td><td>0.005534752</td></tr>\n",
       "\t<tr><td>Mod1</td><td>DIVALENT INORGANIC CATION HOMEOSTASIS                     </td><td>-0.10621022</td><td>7.626460e-04</td><td>0.017589389</td></tr>\n",
       "\t<tr><td>Mod1</td><td>CELL ACTIVATION                                           </td><td>-0.11687229</td><td>1.883364e-04</td><td>0.009247922</td></tr>\n",
       "\t<tr><td>Mod1</td><td>REGULATION OF CYTOSOLIC CALCIUM ION CONCENTRATION         </td><td>-0.11876819</td><td>1.883364e-04</td><td>0.009247922</td></tr>\n",
       "\t<tr><td>Mod1</td><td>INFLAMMATORY RESPONSE                                     </td><td>-0.12009063</td><td>1.543614e-03</td><td>0.024838153</td></tr>\n",
       "\t<tr><td>Mod1</td><td>LEUKOCYTE DIFFERENTIATION                                 </td><td>-0.14069188</td><td>5.233115e-04</td><td>0.014123845</td></tr>\n",
       "\t<tr><td>Mod2</td><td>NEGATIVE REGULATION OF HYDROGEN PEROXIDE METABOLIC PROCESS</td><td> 0.25923491</td><td>2.148554e-03</td><td>0.029097226</td></tr>\n",
       "\t<tr><td>Mod2</td><td>CELL MIGRATION                                            </td><td> 0.10789272</td><td>2.522157e-03</td><td>0.031572594</td></tr>\n",
       "\t<tr><td>Mod2</td><td>LOCOMOTION                                                </td><td> 0.09763621</td><td>2.950696e-03</td><td>0.033975410</td></tr>\n",
       "\t<tr><td>Mod3</td><td>NEGATIVE REGULATION OF HYDROGEN PEROXIDE METABOLIC PROCESS</td><td>-0.25248609</td><td>3.441641e-03</td><td>0.039449297</td></tr>\n",
       "</tbody>\n",
       "</table>\n"
      ],
      "text/latex": [
       "A data.table: 12 × 5\n",
       "\\begin{tabular}{lllll}\n",
       " cluster & pathway & diff & pval & padj\\\\\n",
       " <chr> & <chr> & <dbl> & <dbl> & <dbl>\\\\\n",
       "\\hline\n",
       "\t Mod1 & IMMUNE RESPONSE                                            & -0.07158688 & 2.148554e-03 & 0.030004846\\\\\n",
       "\t Mod1 & REGULATION OF IMMUNE SYSTEM PROCESS                        & -0.08834559 & 6.332132e-04 & 0.015698324\\\\\n",
       "\t Mod1 & ADAPTIVE IMMUNE RESPONSE                                   & -0.09697935 & 5.890355e-05 & 0.005534752\\\\\n",
       "\t Mod1 & DIVALENT INORGANIC CATION HOMEOSTASIS                      & -0.10621022 & 7.626460e-04 & 0.017589389\\\\\n",
       "\t Mod1 & CELL ACTIVATION                                            & -0.11687229 & 1.883364e-04 & 0.009247922\\\\\n",
       "\t Mod1 & REGULATION OF CYTOSOLIC CALCIUM ION CONCENTRATION          & -0.11876819 & 1.883364e-04 & 0.009247922\\\\\n",
       "\t Mod1 & INFLAMMATORY RESPONSE                                      & -0.12009063 & 1.543614e-03 & 0.024838153\\\\\n",
       "\t Mod1 & LEUKOCYTE DIFFERENTIATION                                  & -0.14069188 & 5.233115e-04 & 0.014123845\\\\\n",
       "\t Mod2 & NEGATIVE REGULATION OF HYDROGEN PEROXIDE METABOLIC PROCESS &  0.25923491 & 2.148554e-03 & 0.029097226\\\\\n",
       "\t Mod2 & CELL MIGRATION                                             &  0.10789272 & 2.522157e-03 & 0.031572594\\\\\n",
       "\t Mod2 & LOCOMOTION                                                 &  0.09763621 & 2.950696e-03 & 0.033975410\\\\\n",
       "\t Mod3 & NEGATIVE REGULATION OF HYDROGEN PEROXIDE METABOLIC PROCESS & -0.25248609 & 3.441641e-03 & 0.039449297\\\\\n",
       "\\end{tabular}\n"
      ],
      "text/markdown": [
       "\n",
       "A data.table: 12 × 5\n",
       "\n",
       "| cluster &lt;chr&gt; | pathway &lt;chr&gt; | diff &lt;dbl&gt; | pval &lt;dbl&gt; | padj &lt;dbl&gt; |\n",
       "|---|---|---|---|---|\n",
       "| Mod1 | IMMUNE RESPONSE                                            | -0.07158688 | 2.148554e-03 | 0.030004846 |\n",
       "| Mod1 | REGULATION OF IMMUNE SYSTEM PROCESS                        | -0.08834559 | 6.332132e-04 | 0.015698324 |\n",
       "| Mod1 | ADAPTIVE IMMUNE RESPONSE                                   | -0.09697935 | 5.890355e-05 | 0.005534752 |\n",
       "| Mod1 | DIVALENT INORGANIC CATION HOMEOSTASIS                      | -0.10621022 | 7.626460e-04 | 0.017589389 |\n",
       "| Mod1 | CELL ACTIVATION                                            | -0.11687229 | 1.883364e-04 | 0.009247922 |\n",
       "| Mod1 | REGULATION OF CYTOSOLIC CALCIUM ION CONCENTRATION          | -0.11876819 | 1.883364e-04 | 0.009247922 |\n",
       "| Mod1 | INFLAMMATORY RESPONSE                                      | -0.12009063 | 1.543614e-03 | 0.024838153 |\n",
       "| Mod1 | LEUKOCYTE DIFFERENTIATION                                  | -0.14069188 | 5.233115e-04 | 0.014123845 |\n",
       "| Mod2 | NEGATIVE REGULATION OF HYDROGEN PEROXIDE METABOLIC PROCESS |  0.25923491 | 2.148554e-03 | 0.029097226 |\n",
       "| Mod2 | CELL MIGRATION                                             |  0.10789272 | 2.522157e-03 | 0.031572594 |\n",
       "| Mod2 | LOCOMOTION                                                 |  0.09763621 | 2.950696e-03 | 0.033975410 |\n",
       "| Mod3 | NEGATIVE REGULATION OF HYDROGEN PEROXIDE METABOLIC PROCESS | -0.25248609 | 3.441641e-03 | 0.039449297 |\n",
       "\n"
      ],
      "text/plain": [
       "   cluster pathway                                                   \n",
       "1  Mod1    IMMUNE RESPONSE                                           \n",
       "2  Mod1    REGULATION OF IMMUNE SYSTEM PROCESS                       \n",
       "3  Mod1    ADAPTIVE IMMUNE RESPONSE                                  \n",
       "4  Mod1    DIVALENT INORGANIC CATION HOMEOSTASIS                     \n",
       "5  Mod1    CELL ACTIVATION                                           \n",
       "6  Mod1    REGULATION OF CYTOSOLIC CALCIUM ION CONCENTRATION         \n",
       "7  Mod1    INFLAMMATORY RESPONSE                                     \n",
       "8  Mod1    LEUKOCYTE DIFFERENTIATION                                 \n",
       "9  Mod2    NEGATIVE REGULATION OF HYDROGEN PEROXIDE METABOLIC PROCESS\n",
       "10 Mod2    CELL MIGRATION                                            \n",
       "11 Mod2    LOCOMOTION                                                \n",
       "12 Mod3    NEGATIVE REGULATION OF HYDROGEN PEROXIDE METABOLIC PROCESS\n",
       "   diff        pval         padj       \n",
       "1  -0.07158688 2.148554e-03 0.030004846\n",
       "2  -0.08834559 6.332132e-04 0.015698324\n",
       "3  -0.09697935 5.890355e-05 0.005534752\n",
       "4  -0.10621022 7.626460e-04 0.017589389\n",
       "5  -0.11687229 1.883364e-04 0.009247922\n",
       "6  -0.11876819 1.883364e-04 0.009247922\n",
       "7  -0.12009063 1.543614e-03 0.024838153\n",
       "8  -0.14069188 5.233115e-04 0.014123845\n",
       "9   0.25923491 2.148554e-03 0.029097226\n",
       "10  0.10789272 2.522157e-03 0.031572594\n",
       "11  0.09763621 2.950696e-03 0.033975410\n",
       "12 -0.25248609 3.441641e-03 0.039449297"
      ]
     },
     "metadata": {},
     "output_type": "display_data"
    }
   ],
   "source": [
    "mod_wilcox[pathway %in% \n",
    "           intersect(gsea_sigpaths, mod_wilcox_sigpaths)][\n",
    "    cluster != \"Unclustered\"][padj < 0.05]"
   ]
  },
  {
   "cell_type": "code",
   "execution_count": 70,
   "id": "832a1e15-4f66-485a-8a41-629665d0aaf7",
   "metadata": {},
   "outputs": [],
   "source": [
    "bw_vis <- mod_stat[pathway %in% intersect(gsea_sigpaths, mod_wilcox_sigpaths)]\n",
    "bw_vis <- merge(bw_vis, mod_wilcox)\n",
    "color_breaks <- do.breaks(range(bw_vis$padj), 100)\n",
    "color_vec <- colorRampPalette(brewer.pal(8, \"Spectral\"))(100)\n",
    "bw_vis <- mutate(bw_vis, color = level.colors(padj,\n",
    "                at = color_breaks, col.regions = color_vec))"
   ]
  },
  {
   "cell_type": "code",
   "execution_count": 139,
   "id": "04c02a79-f013-4840-9830-0358d0aac628",
   "metadata": {},
   "outputs": [
    {
     "data": {
      "text/html": [
       "<strong>png:</strong> 2"
      ],
      "text/latex": [
       "\\textbf{png:} 2"
      ],
      "text/markdown": [
       "**png:** 2"
      ],
      "text/plain": [
       "png \n",
       "  2 "
      ]
     },
     "metadata": {},
     "output_type": "display_data"
    }
   ],
   "source": [
    "svg(\"./plots/module/sigpath.svg\", width = 12, height = 9)\n",
    "with(\n",
    "    bw_vis[cluster != \"Unclustered\"],\n",
    "    bwplot(score ~ cluster | pathway,\n",
    "           scale = list(x = list(rot = 45)),\n",
    "           panel = function(x, y, ...){\n",
    "               panel.bwplot(x, y, ...)\n",
    "               panel.abline(h = mean(y), lty = 4)\n",
    "           }, par.strip.text = list(cex = 0.4)\n",
    "          )\n",
    ")\n",
    "dev.off()"
   ]
  },
  {
   "cell_type": "code",
   "execution_count": 11,
   "id": "88410b65-0f1c-4932-990c-d94c90591923",
   "metadata": {
    "tags": []
   },
   "outputs": [
    {
     "name": "stderr",
     "output_type": "stream",
     "text": [
      "载入需要的程辑包：grid\n",
      "\n",
      "========================================\n",
      "ComplexHeatmap version 2.13.1\n",
      "Bioconductor page: http://bioconductor.org/packages/ComplexHeatmap/\n",
      "Github page: https://github.com/jokergoo/ComplexHeatmap\n",
      "Documentation: http://jokergoo.github.io/ComplexHeatmap-reference\n",
      "\n",
      "If you use it in published research, please cite:\n",
      "Gu, Z. Complex heatmaps reveal patterns and correlations in multidimensional \n",
      "  genomic data. Bioinformatics 2016.\n",
      "\n",
      "The new InteractiveComplexHeatmap package can directly export static \n",
      "complex heatmaps into an interactive Shiny app with zero effort. Have a try!\n",
      "\n",
      "This message can be suppressed by:\n",
      "  suppressPackageStartupMessages(library(ComplexHeatmap))\n",
      "========================================\n",
      "\n",
      "\n"
     ]
    }
   ],
   "source": [
    "library(ComplexHeatmap)"
   ]
  },
  {
   "cell_type": "code",
   "execution_count": 51,
   "id": "7c69477a-1380-473d-9aed-bca408a97cdf",
   "metadata": {},
   "outputs": [],
   "source": [
    "hm_paths <- mod_wilcox[,head(.SD, 30),\n",
    "                       by = \"cluster\"][\n",
    "    cluster != \"Unclustered\", pathway]"
   ]
  },
  {
   "cell_type": "code",
   "execution_count": 48,
   "id": "10f724f6-2cef-454f-a6a1-5cad643780af",
   "metadata": {
    "tags": []
   },
   "outputs": [],
   "source": [
    "cell_mask <-  meta_dr[cluster != \"Unclustered\",][order(cluster)]"
   ]
  },
  {
   "cell_type": "code",
   "execution_count": 49,
   "id": "2022eab7-443d-482b-b5ec-4dec1a830cde",
   "metadata": {},
   "outputs": [],
   "source": [
    "library(RColorBrewer)\n",
    "color_vec <- brewer.pal(4, \"Set1\")[2:4]\n",
    "names(color_vec) <- str_c(\"Mod\", 1:3)"
   ]
  },
  {
   "cell_type": "code",
   "execution_count": 52,
   "id": "fd130eed-000c-4f3c-b1fa-48a3f6daa34a",
   "metadata": {},
   "outputs": [
    {
     "name": "stderr",
     "output_type": "stream",
     "text": [
      "Warning message:\n",
      "“The input is a data frame-like object, convert it to a matrix.”\n"
     ]
    },
    {
     "data": {
      "text/html": [
       "<strong>png:</strong> 2"
      ],
      "text/latex": [
       "\\textbf{png:} 2"
      ],
      "text/markdown": [
       "**png:** 2"
      ],
      "text/plain": [
       "png \n",
       "  2 "
      ]
     },
     "metadata": {},
     "output_type": "display_data"
    }
   ],
   "source": [
    "png(\"./plots/module/heatmap.png\", width = 12, height = 16, units = \"in\", res = 300)\n",
    "Heatmap(\n",
    "    comb_gsva[hm_paths, cell_mask$cell],\n",
    "    top_annotation = columnAnnotation(\n",
    "        module = cell_mask$cluster,\n",
    "        col = list(\n",
    "            module = color_vec\n",
    "        )\n",
    "    ),\n",
    "    cluster_columns = FALSE,\n",
    "    show_column_names = FALSE,\n",
    "    name = \"GSVA score\",\n",
    "    row_dend_side = \"right\",\n",
    "    row_names_side = \"left\",\n",
    "    row_names_max_width = unit(15, \"cm\"),\n",
    "    row_names_gp = gpar(cex = 0.5),\n",
    "    row_km = 3\n",
    ")\n",
    "dev.off()"
   ]
  },
  {
   "cell_type": "markdown",
   "id": "530df17e-8ac3-4a16-a69e-f9ff6479cd32",
   "metadata": {},
   "source": [
    "## Module based GSEA"
   ]
  },
  {
   "cell_type": "code",
   "execution_count": 8,
   "id": "3f7969df-33bf-488d-90bc-de9843166350",
   "metadata": {},
   "outputs": [],
   "source": [
    "cell_dct <- meta_dr[comparison == \"OC\"]$cluster\n",
    "names(cell_dct) <-  meta_dr[comparison == \"OC\"]$cell_type\n",
    "whole[[\"module\"]] <- unname(cell_dct[whole$desc])"
   ]
  },
  {
   "cell_type": "code",
   "execution_count": 10,
   "id": "72b7b722-e562-4a6c-b9d0-cd8694126baa",
   "metadata": {},
   "outputs": [],
   "source": [
    "saveRDS(whole, \"./data/whole_mod.rds\")"
   ]
  },
  {
   "cell_type": "markdown",
   "id": "d119b979-b3d2-48d8-921e-a301c4952bba",
   "metadata": {},
   "source": [
    "### Fetch DEGs and FC list"
   ]
  },
  {
   "cell_type": "code",
   "execution_count": 59,
   "id": "57ccc591-c7a5-41c3-8849-03796f2ee35b",
   "metadata": {},
   "outputs": [],
   "source": [
    "library(edgeR)\n",
    "library(fgsea)"
   ]
  },
  {
   "cell_type": "code",
   "execution_count": 67,
   "id": "59d2024b-d904-4d1d-a588-6363f1f22fd3",
   "metadata": {},
   "outputs": [],
   "source": [
    "module1_edata <- AggregateExpression(\n",
    "    subset(whole, module == \"Mod1\"),\n",
    "    group.by = \"sample\"\n",
    ")$RNA %>% as.matrix() %>% round()\n",
    "module2_edata <- AggregateExpression(\n",
    "    subset(whole, module == \"Mod2\"),\n",
    "    group.by = \"sample\"\n",
    ")$RNA %>% as.matrix() %>% round()\n",
    "module3_edata <- AggregateExpression(\n",
    "    subset(whole, module == \"Mod3\"),\n",
    "    group.by = \"sample\"\n",
    ")$RNA %>% as.matrix() %>% round()\n",
    "pdata <- data.frame(\n",
    "    row.names = colnames(module1_edata),\n",
    "    group = c(rep(\"LC\", 2), rep(\"OC\", 3), rep(\"OD\", 3))\n",
    ")"
   ]
  },
  {
   "cell_type": "code",
   "execution_count": 68,
   "id": "13478be8-c6e9-4055-95c0-0a417b2176a0",
   "metadata": {},
   "outputs": [],
   "source": [
    "fetch_gsea <- function(edata){\n",
    "    dge <- DGEList(counts = edata, group = factor(pdata$group))\n",
    "    design <- model.matrix(~ 0 + factor(pdata$group))\n",
    "    colnames(design) <- levels(factor(pdata$group))\n",
    "    rownames(design) <- colnames(edata)\n",
    "    cont <- makeContrasts(contrasts = c(\"OC-LC\", \"OD-LC\"), levels = design)\n",
    "    dge <- dge[filterByExpr(dge, group = pdata$group),\n",
    "               keep.lib.sizes = FALSE] %>%\n",
    "        calcNormFactors() %>%\n",
    "        estimateDisp(design)\n",
    "    fit <- glmFit(dge, design, robust = TRUE)\n",
    "    oc_degs <- glmLRT(fit, contrast = cont[, 1]) %>%\n",
    "    topTags(n = Inf) %>%\n",
    "    as.data.frame()\n",
    "    oc_degs <- data.table(\n",
    "        gene = rownames(oc_degs),\n",
    "        oc_degs,\n",
    "        comparison = \"OC\"\n",
    "    )\n",
    "    od_degs <- glmLRT(fit, contrast = cont[, 2]) %>%\n",
    "        topTags(n = Inf) %>%\n",
    "        as.data.frame()\n",
    "    od_degs <- data.table(\n",
    "        gene = rownames(od_degs),\n",
    "        od_degs,\n",
    "        comparison = \"OD\"\n",
    "    )\n",
    "    combined_degs <- rbind(oc_degs, od_degs)\n",
    "    oc_gsea <- fgsea(\n",
    "        go_gs, combined_degs[comparison == \"OC\",]\n",
    "        [order(-logFC), .(gene, logFC)] %>% deframe(),\n",
    "        minSize = 3, eps = 0.0\n",
    "         )[order(padj)]\n",
    "    od_gsea <- fgsea(\n",
    "        go_gs, combined_degs[comparison == \"OD\",]\n",
    "        [order(-logFC), .(gene, logFC)] %>% deframe(),\n",
    "        minSize = 3, eps = 0.0\n",
    "    )[order(padj)]\n",
    "    return(list(\n",
    "        \"OC\" = oc_gsea,\n",
    "        \"OD\" = od_gsea\n",
    "    ))\n",
    "}"
   ]
  },
  {
   "cell_type": "code",
   "execution_count": 69,
   "id": "343fe4da-54f8-4baa-b15f-d45496af5036",
   "metadata": {},
   "outputs": [],
   "source": [
    "module1_gsea <- fetch_gsea(module1_edata)\n",
    "module2_gsea <- fetch_gsea(module2_edata)\n",
    "module3_gsea <- fetch_gsea(module3_edata)"
   ]
  },
  {
   "cell_type": "code",
   "execution_count": 115,
   "id": "dd857cc5-e627-4230-b1ba-2be2de6c12a0",
   "metadata": {},
   "outputs": [],
   "source": [
    "plot_module_gsea <- function(gsea_lst, lab){\n",
    "    oc_signif <- gsea_lst$OC[padj < 0.05][order(-abs(NES))]\n",
    "    od_signif <- gsea_lst$OD[padj < 0.05][order(-abs(NES))]\n",
    "    sigpath_union <- union(oc_signif[1:10, pathway], od_signif[1:10, pathway])\n",
    "    p <- ggplot(data = NULL, aes(x = NES, y = fct_reorder(pathway, NES))) +\n",
    "         geom_col(aes(fill = \"Obese control\"), alpha = 0.6,\n",
    "                 data = gsea_lst$OC[pathway %in% sigpath_union]) +\n",
    "        geom_col(aes(fill = \"Obese diabetic\"), alpha = 0.6,\n",
    "                 data = gsea_lst$OD[pathway %in% sigpath_union]) +\n",
    "        scale_y_discrete(label = \\(x){str_wrap(x, width = 40)}) +\n",
    "        scale_fill_manual(name = \"Comparison\",\n",
    "                          values = brewer.pal(3, \"Set1\")[c(2, 1)]) +\n",
    "        ylab(\"Pathway\") +\n",
    "        labs(title = paste0(lab, \": top 10 pathways\"))\n",
    "    return(p)\n",
    "}"
   ]
  },
  {
   "cell_type": "code",
   "execution_count": 116,
   "id": "639e4007-9778-4f40-952d-af21fe3b79ab",
   "metadata": {},
   "outputs": [],
   "source": [
    "plot_module_gsea(module1_gsea, \"Mod1\") %>%\n",
    "    ggsave(\"./plots/module/mod1_gsea.svg\", ., width = 8, height = 6)"
   ]
  },
  {
   "cell_type": "code",
   "execution_count": 117,
   "id": "77eaf280-e053-47a5-afca-4b077b48d2a4",
   "metadata": {},
   "outputs": [],
   "source": [
    "plot_module_gsea(module2_gsea, \"Mod2\") %>%\n",
    "    ggsave(\"./plots/module/mod2_gsea.svg\", ., width = 8, height = 6)"
   ]
  },
  {
   "cell_type": "code",
   "execution_count": 118,
   "id": "a096a2a4-6052-44d8-a558-f8e0e4ab43ea",
   "metadata": {},
   "outputs": [],
   "source": [
    "plot_module_gsea(module1_gsea, \"Mod3\") %>%\n",
    "    ggsave(\"./plots/module/mod3_gsea.svg\", ., width = 8, height = 6)"
   ]
  }
 ],
 "metadata": {
  "kernelspec": {
   "display_name": "R",
   "language": "R",
   "name": "ir"
  },
  "language_info": {
   "codemirror_mode": "r",
   "file_extension": ".r",
   "mimetype": "text/x-r-source",
   "name": "R",
   "pygments_lexer": "r",
   "version": "4.2.2"
  }
 },
 "nbformat": 4,
 "nbformat_minor": 5
}
