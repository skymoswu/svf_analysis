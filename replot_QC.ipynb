{
 "cells": [
  {
   "cell_type": "markdown",
   "id": "d4d72106-f07f-414d-9136-e7009d6a7b77",
   "metadata": {},
   "source": [
    "# Replotting of several QC parameters"
   ]
  },
  {
   "cell_type": "code",
   "execution_count": 2,
   "id": "606f5f03-11e9-41fa-adf2-2f27dabdc50f",
   "metadata": {},
   "outputs": [
    {
     "name": "stderr",
     "output_type": "stream",
     "text": [
      "\n",
      "载入程辑包：‘data.table’\n",
      "\n",
      "\n",
      "The following objects are masked from ‘package:dplyr’:\n",
      "\n",
      "    between, first, last\n",
      "\n",
      "\n",
      "The following object is masked from ‘package:purrr’:\n",
      "\n",
      "    transpose\n",
      "\n",
      "\n"
     ]
    }
   ],
   "source": [
    "library(lattice)\n",
    "library(tidyverse)\n",
    "library(Seurat)\n",
    "library(data.table)"
   ]
  },
  {
   "cell_type": "code",
   "execution_count": 3,
   "id": "df9373a7-44a7-4c72-819c-1bcbae59e6a5",
   "metadata": {},
   "outputs": [],
   "source": [
    "whole <- readRDS(\"./data/whole_annot.rds\")"
   ]
  },
  {
   "cell_type": "markdown",
   "id": "6a6297e8-89dd-424e-9add-1facecadd333",
   "metadata": {},
   "source": [
    "## Figure 1F"
   ]
  },
  {
   "cell_type": "code",
   "execution_count": 4,
   "id": "f9dd304f-d79d-4944-88d4-676287341a04",
   "metadata": {},
   "outputs": [],
   "source": [
    "library(speckle)"
   ]
  },
  {
   "cell_type": "code",
   "execution_count": 5,
   "id": "3f724ac4-d361-4446-971f-0164b05e3bff",
   "metadata": {},
   "outputs": [
    {
     "name": "stderr",
     "output_type": "stream",
     "text": [
      "extracting sample information from Seurat object\n",
      "\n",
      "Performing logit transformation of proportions\n",
      "\n",
      "group variable has > 2 levels, ANOVA will be performed\n",
      "\n"
     ]
    },
    {
     "data": {
      "text/html": [
       "<table class=\"dataframe\">\n",
       "<caption>A data.frame: 16 × 7</caption>\n",
       "<thead>\n",
       "\t<tr><th></th><th scope=col>BaselineProp</th><th scope=col>PropMean.H</th><th scope=col>PropMean.OC</th><th scope=col>PropMean.OD</th><th scope=col>Fstatistic</th><th scope=col>P.Value</th><th scope=col>FDR</th></tr>\n",
       "\t<tr><th></th><th scope=col>&lt;dbl&gt;</th><th scope=col>&lt;dbl&gt;</th><th scope=col>&lt;dbl&gt;</th><th scope=col>&lt;dbl&gt;</th><th scope=col>&lt;dbl&gt;</th><th scope=col>&lt;dbl&gt;</th><th scope=col>&lt;dbl&gt;</th></tr>\n",
       "</thead>\n",
       "<tbody>\n",
       "\t<tr><th scope=row>Mesothelial Cells</th><td>0.150753644</td><td>0.345579477</td><td>0.060289965</td><td>0.089400228</td><td>9.82969616</td><td>0.001501298</td><td>0.02402077</td></tr>\n",
       "\t<tr><th scope=row>Fibro-inflammatory Progenitors</th><td>0.044374364</td><td>0.020802528</td><td>0.068579308</td><td>0.038579180</td><td>3.91558271</td><td>0.040268669</td><td>0.32214935</td></tr>\n",
       "\t<tr><th scope=row>Proliferating Cells</th><td>0.004469718</td><td>0.007507453</td><td>0.002185971</td><td>0.003455529</td><td>3.22229450</td><td>0.065480573</td><td>0.34922972</td></tr>\n",
       "\t<tr><th scope=row>Adipocytes</th><td>0.007101885</td><td>0.002749715</td><td>0.006452649</td><td>0.010530354</td><td>2.48190185</td><td>0.113769792</td><td>0.40540998</td></tr>\n",
       "\t<tr><th scope=row>Smooth Muscle Cells</th><td>0.003550942</td><td>0.001719584</td><td>0.004032611</td><td>0.004470252</td><td>2.33199198</td><td>0.127818059</td><td>0.40540998</td></tr>\n",
       "\t<tr><th scope=row>Adipose Progenitor Cells</th><td>0.249012937</td><td>0.156614820</td><td>0.275891555</td><td>0.292764110</td><td>2.11248437</td><td>0.152028742</td><td>0.40540998</td></tr>\n",
       "\t<tr><th scope=row>Th1</th><td>0.118968985</td><td>0.072792782</td><td>0.117279274</td><td>0.150953915</td><td>1.69176230</td><td>0.214205045</td><td>0.47550947</td></tr>\n",
       "\t<tr><th scope=row>Mast Cells</th><td>0.011223958</td><td>0.029018310</td><td>0.009938894</td><td>0.005284203</td><td>1.61816770</td><td>0.237754734</td><td>0.47550947</td></tr>\n",
       "\t<tr><th scope=row>Cytotoxic T cells</th><td>0.109955055</td><td>0.071141383</td><td>0.101599806</td><td>0.144320232</td><td>1.34355459</td><td>0.287644651</td><td>0.51136827</td></tr>\n",
       "\t<tr><th scope=row>B Cells</th><td>0.009311912</td><td>0.008158396</td><td>0.005420297</td><td>0.014802512</td><td>1.01646158</td><td>0.383151827</td><td>0.55516049</td></tr>\n",
       "\t<tr><th scope=row>Neutrophils</th><td>0.038389908</td><td>0.025232335</td><td>0.081850890</td><td>0.020620367</td><td>1.10337434</td><td>0.384949631</td><td>0.55516049</td></tr>\n",
       "\t<tr><th scope=row>M1-like Macrophages</th><td>0.046783045</td><td>0.056776438</td><td>0.054851755</td><td>0.034327836</td><td>0.92368233</td><td>0.416370365</td><td>0.55516049</td></tr>\n",
       "\t<tr><th scope=row>cDC1</th><td>0.021429813</td><td>0.027800060</td><td>0.023569354</td><td>0.016756782</td><td>0.58343789</td><td>0.568927814</td><td>0.70021885</td></tr>\n",
       "\t<tr><th scope=row>Vascular Endothelial Cells</th><td>0.033796032</td><td>0.033119467</td><td>0.036269111</td><td>0.030470726</td><td>0.06596712</td><td>0.936403765</td><td>0.97349347</td></tr>\n",
       "\t<tr><th scope=row>M2-like Macrophages</th><td>0.093143950</td><td>0.081927594</td><td>0.092329170</td><td>0.088764601</td><td>0.03745770</td><td>0.963315657</td><td>0.97349347</td></tr>\n",
       "\t<tr><th scope=row>gamma-delta T</th><td>0.057733853</td><td>0.059059658</td><td>0.059459391</td><td>0.054499173</td><td>0.02690732</td><td>0.973493465</td><td>0.97349347</td></tr>\n",
       "</tbody>\n",
       "</table>\n"
      ],
      "text/latex": [
       "A data.frame: 16 × 7\n",
       "\\begin{tabular}{r|lllllll}\n",
       "  & BaselineProp & PropMean.H & PropMean.OC & PropMean.OD & Fstatistic & P.Value & FDR\\\\\n",
       "  & <dbl> & <dbl> & <dbl> & <dbl> & <dbl> & <dbl> & <dbl>\\\\\n",
       "\\hline\n",
       "\tMesothelial Cells & 0.150753644 & 0.345579477 & 0.060289965 & 0.089400228 & 9.82969616 & 0.001501298 & 0.02402077\\\\\n",
       "\tFibro-inflammatory Progenitors & 0.044374364 & 0.020802528 & 0.068579308 & 0.038579180 & 3.91558271 & 0.040268669 & 0.32214935\\\\\n",
       "\tProliferating Cells & 0.004469718 & 0.007507453 & 0.002185971 & 0.003455529 & 3.22229450 & 0.065480573 & 0.34922972\\\\\n",
       "\tAdipocytes & 0.007101885 & 0.002749715 & 0.006452649 & 0.010530354 & 2.48190185 & 0.113769792 & 0.40540998\\\\\n",
       "\tSmooth Muscle Cells & 0.003550942 & 0.001719584 & 0.004032611 & 0.004470252 & 2.33199198 & 0.127818059 & 0.40540998\\\\\n",
       "\tAdipose Progenitor Cells & 0.249012937 & 0.156614820 & 0.275891555 & 0.292764110 & 2.11248437 & 0.152028742 & 0.40540998\\\\\n",
       "\tTh1 & 0.118968985 & 0.072792782 & 0.117279274 & 0.150953915 & 1.69176230 & 0.214205045 & 0.47550947\\\\\n",
       "\tMast Cells & 0.011223958 & 0.029018310 & 0.009938894 & 0.005284203 & 1.61816770 & 0.237754734 & 0.47550947\\\\\n",
       "\tCytotoxic T cells & 0.109955055 & 0.071141383 & 0.101599806 & 0.144320232 & 1.34355459 & 0.287644651 & 0.51136827\\\\\n",
       "\tB Cells & 0.009311912 & 0.008158396 & 0.005420297 & 0.014802512 & 1.01646158 & 0.383151827 & 0.55516049\\\\\n",
       "\tNeutrophils & 0.038389908 & 0.025232335 & 0.081850890 & 0.020620367 & 1.10337434 & 0.384949631 & 0.55516049\\\\\n",
       "\tM1-like Macrophages & 0.046783045 & 0.056776438 & 0.054851755 & 0.034327836 & 0.92368233 & 0.416370365 & 0.55516049\\\\\n",
       "\tcDC1 & 0.021429813 & 0.027800060 & 0.023569354 & 0.016756782 & 0.58343789 & 0.568927814 & 0.70021885\\\\\n",
       "\tVascular Endothelial Cells & 0.033796032 & 0.033119467 & 0.036269111 & 0.030470726 & 0.06596712 & 0.936403765 & 0.97349347\\\\\n",
       "\tM2-like Macrophages & 0.093143950 & 0.081927594 & 0.092329170 & 0.088764601 & 0.03745770 & 0.963315657 & 0.97349347\\\\\n",
       "\tgamma-delta T & 0.057733853 & 0.059059658 & 0.059459391 & 0.054499173 & 0.02690732 & 0.973493465 & 0.97349347\\\\\n",
       "\\end{tabular}\n"
      ],
      "text/markdown": [
       "\n",
       "A data.frame: 16 × 7\n",
       "\n",
       "| <!--/--> | BaselineProp &lt;dbl&gt; | PropMean.H &lt;dbl&gt; | PropMean.OC &lt;dbl&gt; | PropMean.OD &lt;dbl&gt; | Fstatistic &lt;dbl&gt; | P.Value &lt;dbl&gt; | FDR &lt;dbl&gt; |\n",
       "|---|---|---|---|---|---|---|---|\n",
       "| Mesothelial Cells | 0.150753644 | 0.345579477 | 0.060289965 | 0.089400228 | 9.82969616 | 0.001501298 | 0.02402077 |\n",
       "| Fibro-inflammatory Progenitors | 0.044374364 | 0.020802528 | 0.068579308 | 0.038579180 | 3.91558271 | 0.040268669 | 0.32214935 |\n",
       "| Proliferating Cells | 0.004469718 | 0.007507453 | 0.002185971 | 0.003455529 | 3.22229450 | 0.065480573 | 0.34922972 |\n",
       "| Adipocytes | 0.007101885 | 0.002749715 | 0.006452649 | 0.010530354 | 2.48190185 | 0.113769792 | 0.40540998 |\n",
       "| Smooth Muscle Cells | 0.003550942 | 0.001719584 | 0.004032611 | 0.004470252 | 2.33199198 | 0.127818059 | 0.40540998 |\n",
       "| Adipose Progenitor Cells | 0.249012937 | 0.156614820 | 0.275891555 | 0.292764110 | 2.11248437 | 0.152028742 | 0.40540998 |\n",
       "| Th1 | 0.118968985 | 0.072792782 | 0.117279274 | 0.150953915 | 1.69176230 | 0.214205045 | 0.47550947 |\n",
       "| Mast Cells | 0.011223958 | 0.029018310 | 0.009938894 | 0.005284203 | 1.61816770 | 0.237754734 | 0.47550947 |\n",
       "| Cytotoxic T cells | 0.109955055 | 0.071141383 | 0.101599806 | 0.144320232 | 1.34355459 | 0.287644651 | 0.51136827 |\n",
       "| B Cells | 0.009311912 | 0.008158396 | 0.005420297 | 0.014802512 | 1.01646158 | 0.383151827 | 0.55516049 |\n",
       "| Neutrophils | 0.038389908 | 0.025232335 | 0.081850890 | 0.020620367 | 1.10337434 | 0.384949631 | 0.55516049 |\n",
       "| M1-like Macrophages | 0.046783045 | 0.056776438 | 0.054851755 | 0.034327836 | 0.92368233 | 0.416370365 | 0.55516049 |\n",
       "| cDC1 | 0.021429813 | 0.027800060 | 0.023569354 | 0.016756782 | 0.58343789 | 0.568927814 | 0.70021885 |\n",
       "| Vascular Endothelial Cells | 0.033796032 | 0.033119467 | 0.036269111 | 0.030470726 | 0.06596712 | 0.936403765 | 0.97349347 |\n",
       "| M2-like Macrophages | 0.093143950 | 0.081927594 | 0.092329170 | 0.088764601 | 0.03745770 | 0.963315657 | 0.97349347 |\n",
       "| gamma-delta T | 0.057733853 | 0.059059658 | 0.059459391 | 0.054499173 | 0.02690732 | 0.973493465 | 0.97349347 |\n",
       "\n"
      ],
      "text/plain": [
       "                               BaselineProp PropMean.H  PropMean.OC PropMean.OD\n",
       "Mesothelial Cells              0.150753644  0.345579477 0.060289965 0.089400228\n",
       "Fibro-inflammatory Progenitors 0.044374364  0.020802528 0.068579308 0.038579180\n",
       "Proliferating Cells            0.004469718  0.007507453 0.002185971 0.003455529\n",
       "Adipocytes                     0.007101885  0.002749715 0.006452649 0.010530354\n",
       "Smooth Muscle Cells            0.003550942  0.001719584 0.004032611 0.004470252\n",
       "Adipose Progenitor Cells       0.249012937  0.156614820 0.275891555 0.292764110\n",
       "Th1                            0.118968985  0.072792782 0.117279274 0.150953915\n",
       "Mast Cells                     0.011223958  0.029018310 0.009938894 0.005284203\n",
       "Cytotoxic T cells              0.109955055  0.071141383 0.101599806 0.144320232\n",
       "B Cells                        0.009311912  0.008158396 0.005420297 0.014802512\n",
       "Neutrophils                    0.038389908  0.025232335 0.081850890 0.020620367\n",
       "M1-like Macrophages            0.046783045  0.056776438 0.054851755 0.034327836\n",
       "cDC1                           0.021429813  0.027800060 0.023569354 0.016756782\n",
       "Vascular Endothelial Cells     0.033796032  0.033119467 0.036269111 0.030470726\n",
       "M2-like Macrophages            0.093143950  0.081927594 0.092329170 0.088764601\n",
       "gamma-delta T                  0.057733853  0.059059658 0.059459391 0.054499173\n",
       "                               Fstatistic P.Value     FDR       \n",
       "Mesothelial Cells              9.82969616 0.001501298 0.02402077\n",
       "Fibro-inflammatory Progenitors 3.91558271 0.040268669 0.32214935\n",
       "Proliferating Cells            3.22229450 0.065480573 0.34922972\n",
       "Adipocytes                     2.48190185 0.113769792 0.40540998\n",
       "Smooth Muscle Cells            2.33199198 0.127818059 0.40540998\n",
       "Adipose Progenitor Cells       2.11248437 0.152028742 0.40540998\n",
       "Th1                            1.69176230 0.214205045 0.47550947\n",
       "Mast Cells                     1.61816770 0.237754734 0.47550947\n",
       "Cytotoxic T cells              1.34355459 0.287644651 0.51136827\n",
       "B Cells                        1.01646158 0.383151827 0.55516049\n",
       "Neutrophils                    1.10337434 0.384949631 0.55516049\n",
       "M1-like Macrophages            0.92368233 0.416370365 0.55516049\n",
       "cDC1                           0.58343789 0.568927814 0.70021885\n",
       "Vascular Endothelial Cells     0.06596712 0.936403765 0.97349347\n",
       "M2-like Macrophages            0.03745770 0.963315657 0.97349347\n",
       "gamma-delta T                  0.02690732 0.973493465 0.97349347"
      ]
     },
     "metadata": {},
     "output_type": "display_data"
    }
   ],
   "source": [
    "propel <- propeller(\n",
    "    whole, clusters = whole$desc,\n",
    "    group = whole$group\n",
    ")\n",
    "propel"
   ]
  },
  {
   "cell_type": "code",
   "execution_count": 8,
   "id": "b69d1a72-9e45-4595-8722-0597e3f456fb",
   "metadata": {
    "collapsed": true,
    "jupyter": {
     "outputs_hidden": true
    },
    "tags": []
   },
   "outputs": [
    {
     "name": "stderr",
     "output_type": "stream",
     "text": [
      "========================================\n",
      "circlize version 0.4.15\n",
      "CRAN page: https://cran.r-project.org/package=circlize\n",
      "Github page: https://github.com/jokergoo/circlize\n",
      "Documentation: https://jokergoo.github.io/circlize_book/book/\n",
      "\n",
      "If you use it in published research, please cite:\n",
      "Gu, Z. circlize implements and enhances circular visualization\n",
      "  in R. Bioinformatics 2014.\n",
      "\n",
      "This message can be suppressed by:\n",
      "  suppressPackageStartupMessages(library(circlize))\n",
      "========================================\n",
      "\n",
      "\n"
     ]
    }
   ],
   "source": [
    "library(ComplexHeatmap)\n",
    "library(RColorBrewer)\n",
    "library(circlize)"
   ]
  },
  {
   "cell_type": "code",
   "execution_count": 12,
   "id": "8c0030b6-1190-4e1f-9fae-c691fc684a38",
   "metadata": {},
   "outputs": [],
   "source": [
    "hm_mat <- propel[,c(2:4)]\n",
    "colnames(hm_mat) <- c(\"LC\", \"OC\", \"OD\")"
   ]
  },
  {
   "cell_type": "code",
   "execution_count": 14,
   "id": "983c07f7-a0a1-4d9e-abb3-0a581e6b0a30",
   "metadata": {},
   "outputs": [],
   "source": [
    "blues <- colorRamp2(seq(min(hm_mat), max(hm_mat), length.out = 9), brewer.pal(9, \"Blues\"))"
   ]
  },
  {
   "cell_type": "code",
   "execution_count": 25,
   "id": "1dbe19b7-6550-41fa-838f-63bca74c5c1c",
   "metadata": {},
   "outputs": [],
   "source": [
    "row_bar <- data.frame(\n",
    "    row.names = rownames(propel),\n",
    "    logP = -log10(propel$FDR)\n",
    ") %>% deframe()"
   ]
  },
  {
   "cell_type": "code",
   "execution_count": 28,
   "id": "8d8b3c8d-6fb2-4749-aac8-f3ce837dbf57",
   "metadata": {},
   "outputs": [
    {
     "name": "stderr",
     "output_type": "stream",
     "text": [
      "Warning message:\n",
      "“The input is a data frame-like object, convert it to a matrix.”\n"
     ]
    },
    {
     "data": {
      "text/html": [
       "<strong>png:</strong> 2"
      ],
      "text/latex": [
       "\\textbf{png:} 2"
      ],
      "text/markdown": [
       "**png:** 2"
      ],
      "text/plain": [
       "png \n",
       "  2 "
      ]
     },
     "metadata": {},
     "output_type": "display_data"
    }
   ],
   "source": [
    "svg(\"./plots/replot/prop_hm.svg\", width = 6, height = 8)\n",
    "Heatmap(\n",
    "    hm_mat,\n",
    "    col = blues,\n",
    "    cluster_columns = FALSE,\n",
    "    cluster_rows = FALSE,\n",
    "    row_names_side = \"left\",\n",
    "    name = \"Proportion\",\n",
    "    right_annotation = rowAnnotation(\n",
    "        logP = anno_barplot(row_bar)\n",
    "    )\n",
    ")\n",
    "dev.off()"
   ]
  },
  {
   "cell_type": "markdown",
   "id": "7afd6175-4e2c-468e-8fa8-6c9e3663e81f",
   "metadata": {},
   "source": [
    "## Average cell count"
   ]
  },
  {
   "cell_type": "code",
   "execution_count": 29,
   "id": "dd358525-c491-4779-8236-18b9770d9667",
   "metadata": {},
   "outputs": [
    {
     "data": {
      "text/html": [
       "<table class=\"dataframe\">\n",
       "<caption>A data.table: 6 × 3</caption>\n",
       "<thead>\n",
       "\t<tr><th scope=col>V1</th><th scope=col>V2</th><th scope=col>N</th></tr>\n",
       "\t<tr><th scope=col>&lt;chr&gt;</th><th scope=col>&lt;chr&gt;</th><th scope=col>&lt;int&gt;</th></tr>\n",
       "</thead>\n",
       "<tbody>\n",
       "\t<tr><td>Adipose Progenitor Cells</td><td>H</td><td>1611</td></tr>\n",
       "\t<tr><td>Mesothelial Cells       </td><td>H</td><td>3939</td></tr>\n",
       "\t<tr><td>Th1                     </td><td>H</td><td> 873</td></tr>\n",
       "\t<tr><td>Cytotoxic T cells       </td><td>H</td><td> 855</td></tr>\n",
       "\t<tr><td>gamma-delta T           </td><td>H</td><td> 748</td></tr>\n",
       "\t<tr><td>M2-like Macrophages     </td><td>H</td><td> 943</td></tr>\n",
       "</tbody>\n",
       "</table>\n"
      ],
      "text/latex": [
       "A data.table: 6 × 3\n",
       "\\begin{tabular}{lll}\n",
       " V1 & V2 & N\\\\\n",
       " <chr> & <chr> & <int>\\\\\n",
       "\\hline\n",
       "\t Adipose Progenitor Cells & H & 1611\\\\\n",
       "\t Mesothelial Cells        & H & 3939\\\\\n",
       "\t Th1                      & H &  873\\\\\n",
       "\t Cytotoxic T cells        & H &  855\\\\\n",
       "\t gamma-delta T            & H &  748\\\\\n",
       "\t M2-like Macrophages      & H &  943\\\\\n",
       "\\end{tabular}\n"
      ],
      "text/markdown": [
       "\n",
       "A data.table: 6 × 3\n",
       "\n",
       "| V1 &lt;chr&gt; | V2 &lt;chr&gt; | N &lt;int&gt; |\n",
       "|---|---|---|\n",
       "| Adipose Progenitor Cells | H | 1611 |\n",
       "| Mesothelial Cells        | H | 3939 |\n",
       "| Th1                      | H |  873 |\n",
       "| Cytotoxic T cells        | H |  855 |\n",
       "| gamma-delta T            | H |  748 |\n",
       "| M2-like Macrophages      | H |  943 |\n",
       "\n"
      ],
      "text/plain": [
       "  V1                       V2 N   \n",
       "1 Adipose Progenitor Cells H  1611\n",
       "2 Mesothelial Cells        H  3939\n",
       "3 Th1                      H   873\n",
       "4 Cytotoxic T cells        H   855\n",
       "5 gamma-delta T            H   748\n",
       "6 M2-like Macrophages      H   943"
      ]
     },
     "metadata": {},
     "output_type": "display_data"
    }
   ],
   "source": [
    "count_tbl <- table(whole$desc, whole$group) %>%\n",
    "    as.data.table()\n",
    "count_tbl %>% head()"
   ]
  },
  {
   "cell_type": "code",
   "execution_count": 47,
   "id": "96e3f02d-71d8-4f64-9bb6-646ace9631c0",
   "metadata": {},
   "outputs": [
    {
     "data": {
      "text/html": [
       "<strong>png:</strong> 2"
      ],
      "text/latex": [
       "\\textbf{png:} 2"
      ],
      "text/markdown": [
       "**png:** 2"
      ],
      "text/plain": [
       "png \n",
       "  2 "
      ]
     },
     "metadata": {},
     "output_type": "display_data"
    }
   ],
   "source": [
    "svg(\"./plots/replot/mean_count.svg\", width = 8, height = 6)\n",
    "with(\n",
    "    count_tbl[,.(cell_type = as.factor(V1),\n",
    "                 group = as.factor(V2),\n",
    "            mean_count = ifelse(\n",
    "                V2 == \"H\", N / 2, N / 3\n",
    "            ))][,.(\n",
    "        cell_type = reorder(cell_type, mean_count),\n",
    "        group, mean_count\n",
    "    )],\n",
    "    barchart(\n",
    "        cell_type ~ mean_count, groups = group,\n",
    "        par.settings = list(\n",
    "            superpose.polygon = list(\n",
    "                col = rev(brewer.pal(3, \"Set1\"))\n",
    "            )\n",
    "        ),\n",
    "        auto.key = list(columns = 3),\n",
    "        xlab = \"Mean count\",\n",
    "        xlim = c(0, 2000)\n",
    "    )\n",
    ")\n",
    "dev.off()"
   ]
  },
  {
   "cell_type": "markdown",
   "id": "3a06516f-4aef-4cd3-8e72-9e913e14a5d7",
   "metadata": {},
   "source": [
    "## Cell Capture"
   ]
  },
  {
   "cell_type": "code",
   "execution_count": 65,
   "id": "ab89aabb-a01f-40a8-b1d7-2e430925c787",
   "metadata": {},
   "outputs": [],
   "source": [
    "sample <- unique(whole$sample)\n",
    "sample <- str_replace(\n",
    "    sample, \"OC\", \"ON\"\n",
    ")\n",
    "sample <- str_replace(\n",
    "    sample, \"OD\", \"OT\"\n",
    ")"
   ]
  },
  {
   "cell_type": "code",
   "execution_count": 67,
   "id": "0e872aa6-6171-4e7a-84e2-05eb0b0af822",
   "metadata": {},
   "outputs": [
    {
     "data": {
      "text/html": [
       "<table class=\"dataframe\">\n",
       "<caption>A data.table: 8 × 3</caption>\n",
       "<thead>\n",
       "\t<tr><th scope=col>sample</th><th scope=col>raw</th><th scope=col>filtered</th></tr>\n",
       "\t<tr><th scope=col>&lt;chr&gt;</th><th scope=col>&lt;dbl&gt;</th><th scope=col>&lt;int&gt;</th></tr>\n",
       "</thead>\n",
       "<tbody>\n",
       "\t<tr><td>H12  </td><td>13875</td><td>7333</td></tr>\n",
       "\t<tr><td>H13  </td><td>53984</td><td>3883</td></tr>\n",
       "\t<tr><td>ON305</td><td>13893</td><td>3679</td></tr>\n",
       "\t<tr><td>ON315</td><td> 9598</td><td>2765</td></tr>\n",
       "\t<tr><td>ON330</td><td>11058</td><td>5444</td></tr>\n",
       "\t<tr><td>OT287</td><td> 9052</td><td>4562</td></tr>\n",
       "\t<tr><td>OT294</td><td>14836</td><td>6602</td></tr>\n",
       "\t<tr><td>OT306</td><td>10845</td><td>6003</td></tr>\n",
       "</tbody>\n",
       "</table>\n"
      ],
      "text/latex": [
       "A data.table: 8 × 3\n",
       "\\begin{tabular}{lll}\n",
       " sample & raw & filtered\\\\\n",
       " <chr> & <dbl> & <int>\\\\\n",
       "\\hline\n",
       "\t H12   & 13875 & 7333\\\\\n",
       "\t H13   & 53984 & 3883\\\\\n",
       "\t ON305 & 13893 & 3679\\\\\n",
       "\t ON315 &  9598 & 2765\\\\\n",
       "\t ON330 & 11058 & 5444\\\\\n",
       "\t OT287 &  9052 & 4562\\\\\n",
       "\t OT294 & 14836 & 6602\\\\\n",
       "\t OT306 & 10845 & 6003\\\\\n",
       "\\end{tabular}\n"
      ],
      "text/markdown": [
       "\n",
       "A data.table: 8 × 3\n",
       "\n",
       "| sample &lt;chr&gt; | raw &lt;dbl&gt; | filtered &lt;int&gt; |\n",
       "|---|---|---|\n",
       "| H12   | 13875 | 7333 |\n",
       "| H13   | 53984 | 3883 |\n",
       "| ON305 | 13893 | 3679 |\n",
       "| ON315 |  9598 | 2765 |\n",
       "| ON330 | 11058 | 5444 |\n",
       "| OT287 |  9052 | 4562 |\n",
       "| OT294 | 14836 | 6602 |\n",
       "| OT306 | 10845 | 6003 |\n",
       "\n"
      ],
      "text/plain": [
       "  sample raw   filtered\n",
       "1 H12    13875 7333    \n",
       "2 H13    53984 3883    \n",
       "3 ON305  13893 3679    \n",
       "4 ON315   9598 2765    \n",
       "5 ON330  11058 5444    \n",
       "6 OT287   9052 4562    \n",
       "7 OT294  14836 6602    \n",
       "8 OT306  10845 6003    "
      ]
     },
     "metadata": {},
     "output_type": "display_data"
    }
   ],
   "source": [
    "cap_tbl <- data.table(\n",
    "    sample = sample,\n",
    "    raw = map_dbl(\n",
    "        sample,\n",
    "        \\(x){\n",
    "            nrow(fread(\n",
    "            sprintf(\n",
    "                \"~/bioresource/SVF_dataset/data/%s/doublets_barcodes.csv\",\n",
    "                x)))\n",
    "        }\n",
    "    ),\n",
    "    filtered = dplyr::count(whole@meta.data, sample)$n\n",
    ")\n",
    "cap_tbl"
   ]
  },
  {
   "cell_type": "code",
   "execution_count": 83,
   "id": "365f7a1b-70a5-46b4-a392-2f43207b185e",
   "metadata": {},
   "outputs": [
    {
     "name": "stderr",
     "output_type": "stream",
     "text": [
      "Warning message in melt.data.table(cap_tbl, id.vars = c(\"sample\"), variable.name = \"state\", :\n",
      "“'measure.vars'[raw, filtered] 的数据类型不完全相同。由于融合后的数据将是'double'类型，所以变量中不是'double'类型的数将被强制转换为'double'类型，更多关于强制转换的信息请查看 ?melt.data.table.”\n"
     ]
    },
    {
     "data": {
      "text/html": [
       "<strong>png:</strong> 2"
      ],
      "text/latex": [
       "\\textbf{png:} 2"
      ],
      "text/markdown": [
       "**png:** 2"
      ],
      "text/plain": [
       "png \n",
       "  2 "
      ]
     },
     "metadata": {},
     "output_type": "display_data"
    }
   ],
   "source": [
    "svg(\"./plots/replot/cell_cap.svg\", width = 8, height = 6)\n",
    "with(\n",
    "    melt(cap_tbl, id.vars = c(\"sample\"),\n",
    "         variable.name = \"state\", value.name = \"count\"),\n",
    "    barchart(\n",
    "        sample ~ count, groups = state,\n",
    "        par.settings = list(\n",
    "            superpose.polygon = list(\n",
    "                col = rev(brewer.pal(3, \"Set2\"))[c(2, 3)]\n",
    "            )\n",
    "        ),\n",
    "        xlab = \"Cell Count\",\n",
    "        auto.key = list(columns = 2)\n",
    "    )\n",
    ")\n",
    "dev.off()"
   ]
  },
  {
   "cell_type": "markdown",
   "id": "6186ba23-f560-454f-ae3f-44af19d2913b",
   "metadata": {},
   "source": [
    "## Cell Cycle"
   ]
  },
  {
   "cell_type": "code",
   "execution_count": 84,
   "id": "ab4627ea-11d2-46eb-a424-b203dc64f85b",
   "metadata": {},
   "outputs": [
    {
     "name": "stderr",
     "output_type": "stream",
     "text": [
      "Warning message:\n",
      "“The following features are not present in the object: MLF1IP, not searching for symbol synonyms”\n",
      "Warning message:\n",
      "“The following features are not present in the object: FAM64A, HN1, not searching for symbol synonyms”\n"
     ]
    }
   ],
   "source": [
    "whole <- CellCycleScoring(\n",
    "    whole,\n",
    "    s.features = cc.genes$s.genes,\n",
    "    g2m.features = cc.genes$g2m.genes\n",
    ")"
   ]
  },
  {
   "cell_type": "code",
   "execution_count": 85,
   "id": "33a6a592-76ee-4d55-a0e8-516cff723139",
   "metadata": {},
   "outputs": [
    {
     "data": {
      "text/html": [
       "<table class=\"dataframe\">\n",
       "<caption>A data.table: 6 × 3</caption>\n",
       "<thead>\n",
       "\t<tr><th scope=col>V1</th><th scope=col>V2</th><th scope=col>N</th></tr>\n",
       "\t<tr><th scope=col>&lt;chr&gt;</th><th scope=col>&lt;chr&gt;</th><th scope=col>&lt;int&gt;</th></tr>\n",
       "</thead>\n",
       "<tbody>\n",
       "\t<tr><td>Adipose Progenitor Cells</td><td>G1</td><td>5017</td></tr>\n",
       "\t<tr><td>Mesothelial Cells       </td><td>G1</td><td>3151</td></tr>\n",
       "\t<tr><td>Th1                     </td><td>G1</td><td>1196</td></tr>\n",
       "\t<tr><td>Cytotoxic T cells       </td><td>G1</td><td>1014</td></tr>\n",
       "\t<tr><td>gamma-delta T           </td><td>G1</td><td> 641</td></tr>\n",
       "\t<tr><td>M2-like Macrophages     </td><td>G1</td><td>2180</td></tr>\n",
       "</tbody>\n",
       "</table>\n"
      ],
      "text/latex": [
       "A data.table: 6 × 3\n",
       "\\begin{tabular}{lll}\n",
       " V1 & V2 & N\\\\\n",
       " <chr> & <chr> & <int>\\\\\n",
       "\\hline\n",
       "\t Adipose Progenitor Cells & G1 & 5017\\\\\n",
       "\t Mesothelial Cells        & G1 & 3151\\\\\n",
       "\t Th1                      & G1 & 1196\\\\\n",
       "\t Cytotoxic T cells        & G1 & 1014\\\\\n",
       "\t gamma-delta T            & G1 &  641\\\\\n",
       "\t M2-like Macrophages      & G1 & 2180\\\\\n",
       "\\end{tabular}\n"
      ],
      "text/markdown": [
       "\n",
       "A data.table: 6 × 3\n",
       "\n",
       "| V1 &lt;chr&gt; | V2 &lt;chr&gt; | N &lt;int&gt; |\n",
       "|---|---|---|\n",
       "| Adipose Progenitor Cells | G1 | 5017 |\n",
       "| Mesothelial Cells        | G1 | 3151 |\n",
       "| Th1                      | G1 | 1196 |\n",
       "| Cytotoxic T cells        | G1 | 1014 |\n",
       "| gamma-delta T            | G1 |  641 |\n",
       "| M2-like Macrophages      | G1 | 2180 |\n",
       "\n"
      ],
      "text/plain": [
       "  V1                       V2 N   \n",
       "1 Adipose Progenitor Cells G1 5017\n",
       "2 Mesothelial Cells        G1 3151\n",
       "3 Th1                      G1 1196\n",
       "4 Cytotoxic T cells        G1 1014\n",
       "5 gamma-delta T            G1  641\n",
       "6 M2-like Macrophages      G1 2180"
      ]
     },
     "metadata": {},
     "output_type": "display_data"
    }
   ],
   "source": [
    "count_tbl <- table(whole$desc, whole$Phase) %>%\n",
    "    as.data.table()\n",
    "count_tbl %>% head()"
   ]
  },
  {
   "cell_type": "code",
   "execution_count": 89,
   "id": "3d87e89e-c619-4113-b04d-a8e353d5aa20",
   "metadata": {},
   "outputs": [
    {
     "data": {
      "text/html": [
       "<strong>png:</strong> 2"
      ],
      "text/latex": [
       "\\textbf{png:} 2"
      ],
      "text/markdown": [
       "**png:** 2"
      ],
      "text/plain": [
       "png \n",
       "  2 "
      ]
     },
     "metadata": {},
     "output_type": "display_data"
    }
   ],
   "source": [
    "svg(\"./plots/replot/cell_cycle.svg\", width = 8, height = 6)\n",
    "with(\n",
    "    count_tbl[,.(phase = as_factor(V2), prop = N / sum(N)),\n",
    "              by = V1][,.(\n",
    "        cell_type = reorder(V1, prop),\n",
    "        phase, prop\n",
    "    )],\n",
    "    barchart(\n",
    "        cell_type ~ prop, groups = phase,\n",
    "        par.settings = list(\n",
    "            superpose.polygon = list(\n",
    "                col = rev(brewer.pal(3, \"Set1\"))\n",
    "            )\n",
    "        ), stack = TRUE,\n",
    "        auto.key = list(columns = 3),\n",
    "        xlab = \"Proportion\",\n",
    "        xlim = c(0, 1)\n",
    "    )\n",
    ")\n",
    "dev.off()"
   ]
  },
  {
   "cell_type": "markdown",
   "id": "63878ee9-d55f-4798-86d4-32c2aa12a86c",
   "metadata": {},
   "source": [
    "## QC params"
   ]
  },
  {
   "cell_type": "code",
   "execution_count": 101,
   "id": "92ce3a98-e7ee-4f36-bac0-468412f9d030",
   "metadata": {},
   "outputs": [
    {
     "name": "stderr",
     "output_type": "stream",
     "text": [
      "Warning message in melt(whole@meta.data[, c(\"nFeature_RNA\", \"nCount_RNA\", \"mt_percentage\")], :\n",
      "“data.table 中的 melt 泛型函数被传递了 data.frame 即将转向到 reshape2 中的相关方法；请注意 reshape2 已经弃用，这个转向也已经弃用。如果要在 data.table 和 reshape2 同时附着的情况下继续使用 reshape2 中的 melt 方法，（例如 melt.list），你可以把命名空间写在函数名称前面，例如 reshape2::melt(whole@meta.data[, c(\"nFeature_RNA\", \"nCount_RNA\", \"mt_percentage\")])。在下一个版本中，此警告将变成为错误。”\n",
      "No id variables; using all as measure variables\n",
      "\n"
     ]
    }
   ],
   "source": [
    "whole_qc <- melt(whole@meta.data[,c(\"nFeature_RNA\",\n",
    "                       \"nCount_RNA\", \"mt_percentage\")],\n",
    "    variable.name = \"param\")"
   ]
  },
  {
   "cell_type": "code",
   "execution_count": 113,
   "id": "67454413-9c55-4a6a-aab0-41b940c9272a",
   "metadata": {},
   "outputs": [
    {
     "data": {
      "text/html": [
       "<strong>png:</strong> 2"
      ],
      "text/latex": [
       "\\textbf{png:} 2"
      ],
      "text/markdown": [
       "**png:** 2"
      ],
      "text/plain": [
       "png \n",
       "  2 "
      ]
     },
     "metadata": {},
     "output_type": "display_data"
    }
   ],
   "source": [
    "png(\"./plots/replot/qc_params.png\", width = 18,\n",
    "    height = 6, res = 300, units = \"in\")\n",
    "with(\n",
    "    whole_qc,\n",
    "    densityplot(\n",
    "        ~ value| param,\n",
    "        scale = list(\n",
    "            x = \"free\",\n",
    "            y = \"free\"\n",
    "        ),\n",
    "        layout = c(3, 1)\n",
    "    )\n",
    ")\n",
    "dev.off()"
   ]
  }
 ],
 "metadata": {
  "kernelspec": {
   "display_name": "R",
   "language": "R",
   "name": "ir"
  },
  "language_info": {
   "codemirror_mode": "r",
   "file_extension": ".r",
   "mimetype": "text/x-r-source",
   "name": "R",
   "pygments_lexer": "r",
   "version": "4.2.2"
  }
 },
 "nbformat": 4,
 "nbformat_minor": 5
}
