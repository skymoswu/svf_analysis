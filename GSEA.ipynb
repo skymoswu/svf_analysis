{
 "cells": [
  {
   "cell_type": "markdown",
   "id": "b7edf22b-6eef-4ee3-bfb7-28575b5a4d47",
   "metadata": {},
   "source": [
    "# Enrichment analysis and functional clustering"
   ]
  },
  {
   "cell_type": "markdown",
   "id": "6ff49f77-bfe4-48ab-a073-2a64de36358b",
   "metadata": {
    "tags": []
   },
   "source": [
    "## Initialize environment"
   ]
  },
  {
   "cell_type": "code",
   "execution_count": 6,
   "id": "a300afd7-6085-4ffd-a618-ba8944ec6e14",
   "metadata": {},
   "outputs": [],
   "source": [
    "library(Seurat)\n",
    "library(data.table)\n",
    "library(tidyverse)\n",
    "library(edgeR)\n",
    "library(RColorBrewer)"
   ]
  },
  {
   "cell_type": "code",
   "execution_count": 2,
   "id": "fa5aad80-1e4c-4aaf-be92-5e60691aca40",
   "metadata": {},
   "outputs": [
    {
     "data": {
      "text/html": [
       "<table class=\"dataframe\">\n",
       "<caption>A matrix: 2 × 6 of type dbl</caption>\n",
       "<thead>\n",
       "\t<tr><th></th><th scope=col>used</th><th scope=col>(Mb)</th><th scope=col>gc trigger</th><th scope=col>(Mb)</th><th scope=col>max used</th><th scope=col>(Mb)</th></tr>\n",
       "</thead>\n",
       "<tbody>\n",
       "\t<tr><th scope=row>Ncells</th><td>3410923</td><td>182.2</td><td>   5026618</td><td> 268.5</td><td>   5026618</td><td>  268.5</td></tr>\n",
       "\t<tr><th scope=row>Vcells</th><td>5999040</td><td> 45.8</td><td>1128607612</td><td>8610.6</td><td>1407121202</td><td>10735.5</td></tr>\n",
       "</tbody>\n",
       "</table>\n"
      ],
      "text/latex": [
       "A matrix: 2 × 6 of type dbl\n",
       "\\begin{tabular}{r|llllll}\n",
       "  & used & (Mb) & gc trigger & (Mb) & max used & (Mb)\\\\\n",
       "\\hline\n",
       "\tNcells & 3410923 & 182.2 &    5026618 &  268.5 &    5026618 &   268.5\\\\\n",
       "\tVcells & 5999040 &  45.8 & 1128607612 & 8610.6 & 1407121202 & 10735.5\\\\\n",
       "\\end{tabular}\n"
      ],
      "text/markdown": [
       "\n",
       "A matrix: 2 × 6 of type dbl\n",
       "\n",
       "| <!--/--> | used | (Mb) | gc trigger | (Mb) | max used | (Mb) |\n",
       "|---|---|---|---|---|---|---|\n",
       "| Ncells | 3410923 | 182.2 |    5026618 |  268.5 |    5026618 |   268.5 |\n",
       "| Vcells | 5999040 |  45.8 | 1128607612 | 8610.6 | 1407121202 | 10735.5 |\n",
       "\n"
      ],
      "text/plain": [
       "       used    (Mb)  gc trigger (Mb)   max used   (Mb)   \n",
       "Ncells 3410923 182.2    5026618  268.5    5026618   268.5\n",
       "Vcells 5999040  45.8 1128607612 8610.6 1407121202 10735.5"
      ]
     },
     "metadata": {},
     "output_type": "display_data"
    }
   ],
   "source": [
    "whole <- readRDS(\"./data/whole_annot.rds\")\n",
    "edata <- round(AggregateExpression(whole, group.by = \"sample\")[[1]], 0)\n",
    "pdata <- data.frame(\n",
    "    row.names = colnames(edata),\n",
    "    group = c(rep(\"LC\", 2), rep(\"OC\", 3), rep(\"OD\", 3))\n",
    ")\n",
    "rm(whole)\n",
    "gc()"
   ]
  },
  {
   "cell_type": "markdown",
   "id": "3763003f-05e8-4096-ace5-53319755bdd1",
   "metadata": {
    "tags": []
   },
   "source": [
    "## edgeR based DEG detection"
   ]
  },
  {
   "cell_type": "markdown",
   "id": "4ae081e7-3aeb-402e-92f3-ca4eaaf5c995",
   "metadata": {
    "tags": []
   },
   "source": [
    "### Initialization"
   ]
  },
  {
   "cell_type": "code",
   "execution_count": 3,
   "id": "ce2e38ab-27e8-44b3-9fad-f28cf6ac04a1",
   "metadata": {},
   "outputs": [
    {
     "data": {
      "text/html": [
       "<table class=\"dataframe\">\n",
       "<caption>A matrix: 6 × 8 of type dbl</caption>\n",
       "<thead>\n",
       "\t<tr><th></th><th scope=col>H12</th><th scope=col>H13</th><th scope=col>OC305</th><th scope=col>OC315</th><th scope=col>OC330</th><th scope=col>OD287</th><th scope=col>OD294</th><th scope=col>OD306</th></tr>\n",
       "</thead>\n",
       "<tbody>\n",
       "\t<tr><th scope=row>AL627309.1</th><td> 34</td><td> 13</td><td> 22</td><td>13</td><td>  7</td><td> 16</td><td> 26</td><td> 19</td></tr>\n",
       "\t<tr><th scope=row>AL669831.5</th><td>148</td><td>155</td><td>121</td><td>77</td><td>135</td><td>214</td><td>265</td><td>211</td></tr>\n",
       "\t<tr><th scope=row>FAM87B</th><td> 23</td><td> 11</td><td> 11</td><td> 5</td><td> 16</td><td> 38</td><td> 45</td><td> 22</td></tr>\n",
       "\t<tr><th scope=row>LINC00115</th><td>209</td><td>174</td><td> 66</td><td>53</td><td>124</td><td>222</td><td>120</td><td> 76</td></tr>\n",
       "\t<tr><th scope=row>FAM41C</th><td> 55</td><td> 35</td><td> 14</td><td>42</td><td> 32</td><td> 59</td><td> 27</td><td> 49</td></tr>\n",
       "\t<tr><th scope=row>AL645608.1</th><td> 19</td><td>  2</td><td> 13</td><td>37</td><td> 12</td><td> 37</td><td> 76</td><td> 50</td></tr>\n",
       "</tbody>\n",
       "</table>\n"
      ],
      "text/latex": [
       "A matrix: 6 × 8 of type dbl\n",
       "\\begin{tabular}{r|llllllll}\n",
       "  & H12 & H13 & OC305 & OC315 & OC330 & OD287 & OD294 & OD306\\\\\n",
       "\\hline\n",
       "\tAL627309.1 &  34 &  13 &  22 & 13 &   7 &  16 &  26 &  19\\\\\n",
       "\tAL669831.5 & 148 & 155 & 121 & 77 & 135 & 214 & 265 & 211\\\\\n",
       "\tFAM87B &  23 &  11 &  11 &  5 &  16 &  38 &  45 &  22\\\\\n",
       "\tLINC00115 & 209 & 174 &  66 & 53 & 124 & 222 & 120 &  76\\\\\n",
       "\tFAM41C &  55 &  35 &  14 & 42 &  32 &  59 &  27 &  49\\\\\n",
       "\tAL645608.1 &  19 &   2 &  13 & 37 &  12 &  37 &  76 &  50\\\\\n",
       "\\end{tabular}\n"
      ],
      "text/markdown": [
       "\n",
       "A matrix: 6 × 8 of type dbl\n",
       "\n",
       "| <!--/--> | H12 | H13 | OC305 | OC315 | OC330 | OD287 | OD294 | OD306 |\n",
       "|---|---|---|---|---|---|---|---|---|\n",
       "| AL627309.1 |  34 |  13 |  22 | 13 |   7 |  16 |  26 |  19 |\n",
       "| AL669831.5 | 148 | 155 | 121 | 77 | 135 | 214 | 265 | 211 |\n",
       "| FAM87B |  23 |  11 |  11 |  5 |  16 |  38 |  45 |  22 |\n",
       "| LINC00115 | 209 | 174 |  66 | 53 | 124 | 222 | 120 |  76 |\n",
       "| FAM41C |  55 |  35 |  14 | 42 |  32 |  59 |  27 |  49 |\n",
       "| AL645608.1 |  19 |   2 |  13 | 37 |  12 |  37 |  76 |  50 |\n",
       "\n"
      ],
      "text/plain": [
       "           H12 H13 OC305 OC315 OC330 OD287 OD294 OD306\n",
       "AL627309.1  34  13  22   13      7    16    26    19  \n",
       "AL669831.5 148 155 121   77    135   214   265   211  \n",
       "FAM87B      23  11  11    5     16    38    45    22  \n",
       "LINC00115  209 174  66   53    124   222   120    76  \n",
       "FAM41C      55  35  14   42     32    59    27    49  \n",
       "AL645608.1  19   2  13   37     12    37    76    50  "
      ]
     },
     "metadata": {},
     "output_type": "display_data"
    }
   ],
   "source": [
    "edata[1:6,]"
   ]
  },
  {
   "cell_type": "code",
   "execution_count": 52,
   "id": "bdff13b5-db4d-4646-9fea-3195adc27105",
   "metadata": {},
   "outputs": [],
   "source": [
    "saveRDS(edata, \"./data/pseudoProfile.rds\")"
   ]
  },
  {
   "cell_type": "code",
   "execution_count": 4,
   "id": "4413ef79-4135-44f8-bd49-5f693dcee632",
   "metadata": {},
   "outputs": [],
   "source": [
    "dge <- DGEList(counts = edata, group = factor(pdata$group))\n",
    "design <- model.matrix(~ 0 + factor(pdata$group))\n",
    "colnames(design) <- levels(factor(pdata$group))\n",
    "rownames(design) <- colnames(edata)\n",
    "cont <- makeContrasts(contrasts = c(\"OC-LC\", \"OD-LC\"), levels = design)\n",
    "dge <- dge[filterByExpr(dge, group = pdata$group), keep.lib.sizes = FALSE] %>%\n",
    "    calcNormFactors() %>%\n",
    "    estimateDisp(design)"
   ]
  },
  {
   "cell_type": "code",
   "execution_count": 24,
   "id": "0b041c37-5679-464a-bcd8-c5f257ba6fb0",
   "metadata": {},
   "outputs": [],
   "source": [
    "fit <- glmFit(dge, design, robust = TRUE)"
   ]
  },
  {
   "cell_type": "code",
   "execution_count": 31,
   "id": "64a28a52-ac0c-4916-8cca-fc340b162d80",
   "metadata": {},
   "outputs": [],
   "source": [
    "oc_degs <- glmLRT(fit, contrast = cont[, 1]) %>%\n",
    "    topTags(n = Inf) %>%\n",
    "    as.data.frame()\n",
    "oc_degs <- data.table(\n",
    "    gene = rownames(oc_degs),\n",
    "    oc_degs,\n",
    "    comparison = \"OC\"\n",
    ")\n",
    "od_degs <- glmLRT(fit, contrast = cont[, 2]) %>%\n",
    "    topTags(n = Inf) %>%\n",
    "    as.data.frame()\n",
    "od_degs <- data.table(\n",
    "    gene = rownames(od_degs),\n",
    "    od_degs,\n",
    "    comparison = \"OD\"\n",
    ")"
   ]
  },
  {
   "cell_type": "code",
   "execution_count": 32,
   "id": "d88f4eb4-5ed9-4d05-80e0-051e1fb357ea",
   "metadata": {},
   "outputs": [],
   "source": [
    "oc_degs %>% fwrite(\"./results/deg/oc_deg_raw.csv\")\n",
    "od_degs %>% fwrite(\"./results/deg/od_deg_raw.csv\")"
   ]
  },
  {
   "cell_type": "code",
   "execution_count": 33,
   "id": "7610e911-54d7-4af8-b874-5c2d67260379",
   "metadata": {},
   "outputs": [
    {
     "data": {
      "text/plain": [
       "       -1*LC 1*OC\n",
       "Down          291\n",
       "NotSig      18588\n",
       "Up            112"
      ]
     },
     "metadata": {},
     "output_type": "display_data"
    },
    {
     "data": {
      "text/plain": [
       "       -1*LC 1*OD\n",
       "Down           93\n",
       "NotSig      18802\n",
       "Up             96"
      ]
     },
     "metadata": {},
     "output_type": "display_data"
    }
   ],
   "source": [
    "summary(decideTests(glmLRT(fit, contrast = cont[, 1]), lfc = 0.8))\n",
    "summary(decideTests(glmLRT(fit, contrast = cont[, 2]), lfc = 0.8))"
   ]
  },
  {
   "cell_type": "code",
   "execution_count": 34,
   "id": "b89508ad-61a3-48b5-9337-36878ad56833",
   "metadata": {},
   "outputs": [
    {
     "data": {
      "text/html": [
       "<table class=\"dataframe\">\n",
       "<caption>A data.table: 6 × 7</caption>\n",
       "<thead>\n",
       "\t<tr><th scope=col>gene</th><th scope=col>logFC</th><th scope=col>logCPM</th><th scope=col>LR</th><th scope=col>PValue</th><th scope=col>FDR</th><th scope=col>comparison</th></tr>\n",
       "\t<tr><th scope=col>&lt;chr&gt;</th><th scope=col>&lt;dbl&gt;</th><th scope=col>&lt;dbl&gt;</th><th scope=col>&lt;dbl&gt;</th><th scope=col>&lt;dbl&gt;</th><th scope=col>&lt;dbl&gt;</th><th scope=col>&lt;chr&gt;</th></tr>\n",
       "</thead>\n",
       "<tbody>\n",
       "\t<tr><td>CFB  </td><td>-2.380042</td><td>4.9325772</td><td>36.39723</td><td>1.609315e-09</td><td>3.056251e-05</td><td>OC</td></tr>\n",
       "\t<tr><td>ADD2 </td><td>-3.390302</td><td>0.6189666</td><td>34.80413</td><td>3.645993e-09</td><td>3.179255e-05</td><td>OC</td></tr>\n",
       "\t<tr><td>GRB7 </td><td>-2.712419</td><td>1.6735239</td><td>34.18078</td><td>5.022256e-09</td><td>3.179255e-05</td><td>OC</td></tr>\n",
       "\t<tr><td>MYRF </td><td>-2.217055</td><td>3.3462160</td><td>33.58188</td><td>6.832629e-09</td><td>3.243962e-05</td><td>OC</td></tr>\n",
       "\t<tr><td>CNTN4</td><td> 1.837558</td><td>3.9573465</td><td>31.41990</td><td>2.078399e-08</td><td>7.894176e-05</td><td>OC</td></tr>\n",
       "\t<tr><td>CCBE1</td><td>-1.845260</td><td>4.9125925</td><td>30.58806</td><td>3.190504e-08</td><td>9.163770e-05</td><td>OC</td></tr>\n",
       "</tbody>\n",
       "</table>\n"
      ],
      "text/latex": [
       "A data.table: 6 × 7\n",
       "\\begin{tabular}{lllllll}\n",
       " gene & logFC & logCPM & LR & PValue & FDR & comparison\\\\\n",
       " <chr> & <dbl> & <dbl> & <dbl> & <dbl> & <dbl> & <chr>\\\\\n",
       "\\hline\n",
       "\t CFB   & -2.380042 & 4.9325772 & 36.39723 & 1.609315e-09 & 3.056251e-05 & OC\\\\\n",
       "\t ADD2  & -3.390302 & 0.6189666 & 34.80413 & 3.645993e-09 & 3.179255e-05 & OC\\\\\n",
       "\t GRB7  & -2.712419 & 1.6735239 & 34.18078 & 5.022256e-09 & 3.179255e-05 & OC\\\\\n",
       "\t MYRF  & -2.217055 & 3.3462160 & 33.58188 & 6.832629e-09 & 3.243962e-05 & OC\\\\\n",
       "\t CNTN4 &  1.837558 & 3.9573465 & 31.41990 & 2.078399e-08 & 7.894176e-05 & OC\\\\\n",
       "\t CCBE1 & -1.845260 & 4.9125925 & 30.58806 & 3.190504e-08 & 9.163770e-05 & OC\\\\\n",
       "\\end{tabular}\n"
      ],
      "text/markdown": [
       "\n",
       "A data.table: 6 × 7\n",
       "\n",
       "| gene &lt;chr&gt; | logFC &lt;dbl&gt; | logCPM &lt;dbl&gt; | LR &lt;dbl&gt; | PValue &lt;dbl&gt; | FDR &lt;dbl&gt; | comparison &lt;chr&gt; |\n",
       "|---|---|---|---|---|---|---|\n",
       "| CFB   | -2.380042 | 4.9325772 | 36.39723 | 1.609315e-09 | 3.056251e-05 | OC |\n",
       "| ADD2  | -3.390302 | 0.6189666 | 34.80413 | 3.645993e-09 | 3.179255e-05 | OC |\n",
       "| GRB7  | -2.712419 | 1.6735239 | 34.18078 | 5.022256e-09 | 3.179255e-05 | OC |\n",
       "| MYRF  | -2.217055 | 3.3462160 | 33.58188 | 6.832629e-09 | 3.243962e-05 | OC |\n",
       "| CNTN4 |  1.837558 | 3.9573465 | 31.41990 | 2.078399e-08 | 7.894176e-05 | OC |\n",
       "| CCBE1 | -1.845260 | 4.9125925 | 30.58806 | 3.190504e-08 | 9.163770e-05 | OC |\n",
       "\n"
      ],
      "text/plain": [
       "  gene  logFC     logCPM    LR       PValue       FDR          comparison\n",
       "1 CFB   -2.380042 4.9325772 36.39723 1.609315e-09 3.056251e-05 OC        \n",
       "2 ADD2  -3.390302 0.6189666 34.80413 3.645993e-09 3.179255e-05 OC        \n",
       "3 GRB7  -2.712419 1.6735239 34.18078 5.022256e-09 3.179255e-05 OC        \n",
       "4 MYRF  -2.217055 3.3462160 33.58188 6.832629e-09 3.243962e-05 OC        \n",
       "5 CNTN4  1.837558 3.9573465 31.41990 2.078399e-08 7.894176e-05 OC        \n",
       "6 CCBE1 -1.845260 4.9125925 30.58806 3.190504e-08 9.163770e-05 OC        "
      ]
     },
     "metadata": {},
     "output_type": "display_data"
    }
   ],
   "source": [
    "combined_degs <- rbind(oc_degs, od_degs)\n",
    "head(combined_degs)"
   ]
  },
  {
   "cell_type": "code",
   "execution_count": 37,
   "id": "831e0ee8-447d-4f7d-b6ba-b62ac877c8f1",
   "metadata": {},
   "outputs": [],
   "source": [
    "combined_degs <- combined_degs[order(PValue, -logFC), .(\n",
    "    gene, logFC, FDR, PValue, logP = -log10(FDR), comparison,\n",
    "    trend = ifelse(abs(logFC) > 0.8 & FDR < 0.05,\n",
    "                   ifelse(logFC > 0.8, \"up\", \"down\"),\n",
    "                   \"ns\"\n",
    "                  )\n",
    ")]\n",
    "fwrite(combined_degs, \"./results/deg/combined_deg.csv\")"
   ]
  },
  {
   "cell_type": "code",
   "execution_count": 3,
   "id": "441e7422-b7e9-4be4-9de7-69ef44b89fe4",
   "metadata": {},
   "outputs": [],
   "source": [
    "combined_degs <- fread(\"./results/deg/combined_deg.csv\")"
   ]
  },
  {
   "cell_type": "markdown",
   "id": "be0659d9-e4ef-4416-bd85-0a257435266f",
   "metadata": {
    "tags": []
   },
   "source": [
    "### Venn diagram"
   ]
  },
  {
   "cell_type": "code",
   "execution_count": 4,
   "id": "d7d97957-e02b-428a-b7b2-401e780b4cef",
   "metadata": {},
   "outputs": [
    {
     "name": "stderr",
     "output_type": "stream",
     "text": [
      "载入需要的程辑包：grid\n",
      "\n",
      "载入需要的程辑包：futile.logger\n",
      "\n"
     ]
    }
   ],
   "source": [
    "library(VennDiagram)\n",
    "library(RColorBrewer)"
   ]
  },
  {
   "cell_type": "code",
   "execution_count": 10,
   "id": "fa80cd4b-b69c-421e-9c8f-605cff4c9edd",
   "metadata": {},
   "outputs": [
    {
     "data": {
      "text/html": [
       "1"
      ],
      "text/latex": [
       "1"
      ],
      "text/markdown": [
       "1"
      ],
      "text/plain": [
       "[1] 1"
      ]
     },
     "metadata": {},
     "output_type": "display_data"
    }
   ],
   "source": [
    "venn.diagram(\n",
    "    x = list(\n",
    "        combined_degs[comparison == \"OC\" & trend == \"up\", gene],\n",
    "        combined_degs[comparison == \"OD\" & trend == \"up\", gene]\n",
    "    ),\n",
    "    category.names = c(\"Obese control\", \"Obese diabetic\"),\n",
    "    filename = \"./plots/deg/venn/venn_up.png\",\n",
    "    output = TRUE,\n",
    "    imagetype = \"png\",\n",
    "    fill = brewer.pal(3, \"Set1\")[c(2, 1)],\n",
    "    cex = 1.2,\n",
    "    cat.cex = 1.2,\n",
    "    cat.default.pos = \"text\"\n",
    ")"
   ]
  },
  {
   "cell_type": "code",
   "execution_count": 9,
   "id": "377ec3fb-90bb-4203-9405-33a78f0f2910",
   "metadata": {},
   "outputs": [
    {
     "data": {
      "text/html": [
       "1"
      ],
      "text/latex": [
       "1"
      ],
      "text/markdown": [
       "1"
      ],
      "text/plain": [
       "[1] 1"
      ]
     },
     "metadata": {},
     "output_type": "display_data"
    }
   ],
   "source": [
    "venn.diagram(\n",
    "    x = list(\n",
    "        combined_degs[comparison == \"OC\" & trend == \"down\", gene],\n",
    "        combined_degs[comparison == \"OD\" & trend == \"down\", gene]\n",
    "    ),\n",
    "    category.names = c(\"Obese control\", \"Obese diabetic\"),\n",
    "    filename = \"./plots/deg/venn/venn_down.pngg\",\n",
    "    output = TRUE,\n",
    "    imagetype = \"png\",\n",
    "    fill = brewer.pal(3, \"Set1\")[c(2, 1)],\n",
    "    cex = 1,\n",
    "    cat.cex = 1,\n",
    "    cat.default.pos = \"text\"\n",
    ")"
   ]
  },
  {
   "cell_type": "markdown",
   "id": "fce93099-bade-46b2-be3b-2aef03bb274b",
   "metadata": {},
   "source": [
    "### Heatmap"
   ]
  },
  {
   "cell_type": "code",
   "execution_count": 165,
   "id": "6cd1b7c0-82fd-4fbf-94af-ffedacfa06dc",
   "metadata": {},
   "outputs": [
    {
     "data": {
      "text/html": [
       "<table class=\"dataframe\">\n",
       "<caption>A data.table: 6 × 7</caption>\n",
       "<thead>\n",
       "\t<tr><th scope=col>gene</th><th scope=col>logFC</th><th scope=col>FDR</th><th scope=col>PValue</th><th scope=col>logP</th><th scope=col>comparison</th><th scope=col>trend</th></tr>\n",
       "\t<tr><th scope=col>&lt;chr&gt;</th><th scope=col>&lt;dbl&gt;</th><th scope=col>&lt;dbl&gt;</th><th scope=col>&lt;dbl&gt;</th><th scope=col>&lt;dbl&gt;</th><th scope=col>&lt;chr&gt;</th><th scope=col>&lt;chr&gt;</th></tr>\n",
       "</thead>\n",
       "<tbody>\n",
       "\t<tr><td>PPP1R1B</td><td>-4.127039</td><td>7.374846e-07</td><td>3.883337e-11</td><td>6.132247</td><td>OD</td><td>down</td></tr>\n",
       "\t<tr><td>EGFL6  </td><td>-2.871125</td><td>3.929734e-06</td><td>4.138522e-10</td><td>5.405637</td><td>OD</td><td>down</td></tr>\n",
       "\t<tr><td>SAMD5  </td><td>-3.157539</td><td>5.114589e-06</td><td>8.079494e-10</td><td>5.291189</td><td>OD</td><td>down</td></tr>\n",
       "\t<tr><td>CFB    </td><td>-2.380042</td><td>3.056251e-05</td><td>1.609315e-09</td><td>4.514811</td><td>OC</td><td>down</td></tr>\n",
       "\t<tr><td>AMBP   </td><td>-8.492244</td><td>1.072016e-05</td><td>2.257946e-09</td><td>4.969799</td><td>OD</td><td>down</td></tr>\n",
       "\t<tr><td>ADD2   </td><td>-3.390302</td><td>3.179255e-05</td><td>3.645993e-09</td><td>4.497675</td><td>OC</td><td>down</td></tr>\n",
       "</tbody>\n",
       "</table>\n"
      ],
      "text/latex": [
       "A data.table: 6 × 7\n",
       "\\begin{tabular}{lllllll}\n",
       " gene & logFC & FDR & PValue & logP & comparison & trend\\\\\n",
       " <chr> & <dbl> & <dbl> & <dbl> & <dbl> & <chr> & <chr>\\\\\n",
       "\\hline\n",
       "\t PPP1R1B & -4.127039 & 7.374846e-07 & 3.883337e-11 & 6.132247 & OD & down\\\\\n",
       "\t EGFL6   & -2.871125 & 3.929734e-06 & 4.138522e-10 & 5.405637 & OD & down\\\\\n",
       "\t SAMD5   & -3.157539 & 5.114589e-06 & 8.079494e-10 & 5.291189 & OD & down\\\\\n",
       "\t CFB     & -2.380042 & 3.056251e-05 & 1.609315e-09 & 4.514811 & OC & down\\\\\n",
       "\t AMBP    & -8.492244 & 1.072016e-05 & 2.257946e-09 & 4.969799 & OD & down\\\\\n",
       "\t ADD2    & -3.390302 & 3.179255e-05 & 3.645993e-09 & 4.497675 & OC & down\\\\\n",
       "\\end{tabular}\n"
      ],
      "text/markdown": [
       "\n",
       "A data.table: 6 × 7\n",
       "\n",
       "| gene &lt;chr&gt; | logFC &lt;dbl&gt; | FDR &lt;dbl&gt; | PValue &lt;dbl&gt; | logP &lt;dbl&gt; | comparison &lt;chr&gt; | trend &lt;chr&gt; |\n",
       "|---|---|---|---|---|---|---|\n",
       "| PPP1R1B | -4.127039 | 7.374846e-07 | 3.883337e-11 | 6.132247 | OD | down |\n",
       "| EGFL6   | -2.871125 | 3.929734e-06 | 4.138522e-10 | 5.405637 | OD | down |\n",
       "| SAMD5   | -3.157539 | 5.114589e-06 | 8.079494e-10 | 5.291189 | OD | down |\n",
       "| CFB     | -2.380042 | 3.056251e-05 | 1.609315e-09 | 4.514811 | OC | down |\n",
       "| AMBP    | -8.492244 | 1.072016e-05 | 2.257946e-09 | 4.969799 | OD | down |\n",
       "| ADD2    | -3.390302 | 3.179255e-05 | 3.645993e-09 | 4.497675 | OC | down |\n",
       "\n"
      ],
      "text/plain": [
       "  gene    logFC     FDR          PValue       logP     comparison trend\n",
       "1 PPP1R1B -4.127039 7.374846e-07 3.883337e-11 6.132247 OD         down \n",
       "2 EGFL6   -2.871125 3.929734e-06 4.138522e-10 5.405637 OD         down \n",
       "3 SAMD5   -3.157539 5.114589e-06 8.079494e-10 5.291189 OD         down \n",
       "4 CFB     -2.380042 3.056251e-05 1.609315e-09 4.514811 OC         down \n",
       "5 AMBP    -8.492244 1.072016e-05 2.257946e-09 4.969799 OD         down \n",
       "6 ADD2    -3.390302 3.179255e-05 3.645993e-09 4.497675 OC         down "
      ]
     },
     "metadata": {},
     "output_type": "display_data"
    }
   ],
   "source": [
    "deg_union <- combined_degs[trend != \"ns\", gene]\n",
    "deg4hm <- combined_degs[gene %in% deg_union,]\n",
    "deg4hm %>% head()"
   ]
  },
  {
   "cell_type": "code",
   "execution_count": 169,
   "id": "fa77baca-285c-4ee4-b437-6ff32fd77bb6",
   "metadata": {},
   "outputs": [],
   "source": [
    "deg4hm <- dcast(deg4hm, gene ~ comparison, value.var = c(\"logFC\", \"trend\")) %>%\n",
    "    mutate(\n",
    "        spec_label = ifelse(\n",
    "            trend_OC == trend_OD,\n",
    "            \"both\",\n",
    "            ifelse(\n",
    "                trend_OC == \"ns\" | trend_OD == \"ns\",\n",
    "                \"spec\",\n",
    "                \"counter\"\n",
    "            )\n",
    "        )\n",
    "    ) %>%\n",
    "    mutate(\n",
    "        trend_label = ifelse(\n",
    "            spec_label == \"both\",\n",
    "            sprintf(\"both_%s\", trend_OC),\n",
    "            ifelse(\n",
    "                trend_OC == \"ns\",\n",
    "                ifelse(\n",
    "                    trend_OD == \"up\",\n",
    "                    \"od_up\",\n",
    "                    \"od_down\"\n",
    "                ),\n",
    "                ifelse(\n",
    "                    trend_OC == \"up\",\n",
    "                    \"oc_up\",\n",
    "                    \"oc_down\"\n",
    "                )\n",
    "            )\n",
    "        )\n",
    "    ) %>% select(gene, logFC_OC, logFC_OD, trend_label) %>%\n",
    "    arrange(trend_label, logFC_OC)\n",
    "fwrite(deg4hm, \"./results/deg/deg4hm.csv\")"
   ]
  },
  {
   "cell_type": "code",
   "execution_count": 104,
   "id": "12fa742b-c2d7-4540-9163-0f35a0eec400",
   "metadata": {
    "collapsed": true,
    "jupyter": {
     "outputs_hidden": true
    },
    "tags": []
   },
   "outputs": [
    {
     "name": "stderr",
     "output_type": "stream",
     "text": [
      "========================================\n",
      "ComplexHeatmap version 2.13.1\n",
      "Bioconductor page: http://bioconductor.org/packages/ComplexHeatmap/\n",
      "Github page: https://github.com/jokergoo/ComplexHeatmap\n",
      "Documentation: http://jokergoo.github.io/ComplexHeatmap-reference\n",
      "\n",
      "If you use it in published research, please cite:\n",
      "Gu, Z. Complex heatmaps reveal patterns and correlations in multidimensional \n",
      "  genomic data. Bioinformatics 2016.\n",
      "\n",
      "The new InteractiveComplexHeatmap package can directly export static \n",
      "complex heatmaps into an interactive Shiny app with zero effort. Have a try!\n",
      "\n",
      "This message can be suppressed by:\n",
      "  suppressPackageStartupMessages(library(ComplexHeatmap))\n",
      "========================================\n",
      "\n",
      "\n",
      "\n",
      "载入程辑包：‘ComplexHeatmap’\n",
      "\n",
      "\n",
      "The following object is masked from ‘package:latticeExtra’:\n",
      "\n",
      "    dendrogramGrob\n",
      "\n",
      "\n"
     ]
    }
   ],
   "source": [
    "library(ComplexHeatmap)"
   ]
  },
  {
   "cell_type": "code",
   "execution_count": 170,
   "id": "f3937858-0db3-4560-afeb-2b2940b965dd",
   "metadata": {},
   "outputs": [],
   "source": [
    "hm_mat <- data.frame(\n",
    "    row.names = deg4hm$gene,\n",
    "    obese_control = deg4hm$logFC_OC,\n",
    "    obese_diabetic = deg4hm$logFC_OD\n",
    ")"
   ]
  },
  {
   "cell_type": "code",
   "execution_count": 171,
   "id": "690722f3-141b-44cc-bc62-0ba1e667493e",
   "metadata": {},
   "outputs": [
    {
     "data": {
      "text/html": [
       "<ol>\n",
       "\t<li>1</li>\n",
       "\t<li>60</li>\n",
       "\t<li>107</li>\n",
       "\t<li>339</li>\n",
       "\t<li>404</li>\n",
       "\t<li>438</li>\n",
       "</ol>\n"
      ],
      "text/latex": [
       "\\begin{enumerate}\n",
       "\\item 1\n",
       "\\item 60\n",
       "\\item 107\n",
       "\\item 339\n",
       "\\item 404\n",
       "\\item 438\n",
       "\\end{enumerate}\n"
      ],
      "text/markdown": [
       "1. 1\n",
       "2. 60\n",
       "3. 107\n",
       "4. 339\n",
       "5. 404\n",
       "6. 438\n",
       "\n",
       "\n"
      ],
      "text/plain": [
       "[[1]]\n",
       "[1] 1\n",
       "\n",
       "[[2]]\n",
       "[1] 60\n",
       "\n",
       "[[3]]\n",
       "[1] 107\n",
       "\n",
       "[[4]]\n",
       "[1] 339\n",
       "\n",
       "[[5]]\n",
       "[1] 404\n",
       "\n",
       "[[6]]\n",
       "[1] 438\n"
      ]
     },
     "metadata": {},
     "output_type": "display_data"
    }
   ],
   "source": [
    "hm_cut <- lapply(unique(deg4hm$trend_label), \\(x) {match(x, deg4hm$trend_label)})\n",
    "hm_cut"
   ]
  },
  {
   "cell_type": "code",
   "execution_count": 265,
   "id": "1a5dddbc-6f9f-4d32-8734-ce5c2b11d4ce",
   "metadata": {},
   "outputs": [],
   "source": [
    "hm_ind <- c(\n",
    "    474, 65, 24, 367, 430, 462, 438, 64, 36,\n",
    "    47, 405, 79, 353, 53, 373, 463, 257, 137,\n",
    "    139, 300, 149, 269, 209, 175, 170\n",
    ")"
   ]
  },
  {
   "cell_type": "code",
   "execution_count": 258,
   "id": "1b55da13-fc9b-4e27-a19f-1a5a243b761e",
   "metadata": {},
   "outputs": [
    {
     "data": {
      "text/html": [
       "<dl>\n",
       "\t<dt>$both_down</dt>\n",
       "\t\t<dd>'#A6CEE3'</dd>\n",
       "\t<dt>$both_up</dt>\n",
       "\t\t<dd>'#1F78B4'</dd>\n",
       "\t<dt>$oc_down</dt>\n",
       "\t\t<dd>'#B2DF8A'</dd>\n",
       "\t<dt>$oc_up</dt>\n",
       "\t\t<dd>'#33A02C'</dd>\n",
       "\t<dt>$od_down</dt>\n",
       "\t\t<dd>'#FB9A99'</dd>\n",
       "\t<dt>$od_up</dt>\n",
       "\t\t<dd>'#E31A1C'</dd>\n",
       "</dl>\n"
      ],
      "text/latex": [
       "\\begin{description}\n",
       "\\item[\\$both\\_down] '\\#A6CEE3'\n",
       "\\item[\\$both\\_up] '\\#1F78B4'\n",
       "\\item[\\$oc\\_down] '\\#B2DF8A'\n",
       "\\item[\\$oc\\_up] '\\#33A02C'\n",
       "\\item[\\$od\\_down] '\\#FB9A99'\n",
       "\\item[\\$od\\_up] '\\#E31A1C'\n",
       "\\end{description}\n"
      ],
      "text/markdown": [
       "$both_down\n",
       ":   '#A6CEE3'\n",
       "$both_up\n",
       ":   '#1F78B4'\n",
       "$oc_down\n",
       ":   '#B2DF8A'\n",
       "$oc_up\n",
       ":   '#33A02C'\n",
       "$od_down\n",
       ":   '#FB9A99'\n",
       "$od_up\n",
       ":   '#E31A1C'\n",
       "\n",
       "\n"
      ],
      "text/plain": [
       "$both_down\n",
       "[1] \"#A6CEE3\"\n",
       "\n",
       "$both_up\n",
       "[1] \"#1F78B4\"\n",
       "\n",
       "$oc_down\n",
       "[1] \"#B2DF8A\"\n",
       "\n",
       "$oc_up\n",
       "[1] \"#33A02C\"\n",
       "\n",
       "$od_down\n",
       "[1] \"#FB9A99\"\n",
       "\n",
       "$od_up\n",
       "[1] \"#E31A1C\"\n"
      ]
     },
     "metadata": {},
     "output_type": "display_data"
    }
   ],
   "source": [
    "color_vec <- brewer.pal(6, \"Paired\")\n",
    "names(color_vec) <- unique(deg4hm$trend_label)\n",
    "color_vec %>% as.list()"
   ]
  },
  {
   "cell_type": "code",
   "execution_count": 277,
   "id": "ee977b0f-85da-473e-90b3-5861889eca55",
   "metadata": {},
   "outputs": [
    {
     "name": "stderr",
     "output_type": "stream",
     "text": [
      "Warning message:\n",
      "“The input is a data frame-like object, convert it to a matrix.”\n"
     ]
    },
    {
     "data": {
      "text/html": [
       "<strong>png:</strong> 2"
      ],
      "text/latex": [
       "\\textbf{png:} 2"
      ],
      "text/markdown": [
       "**png:** 2"
      ],
      "text/plain": [
       "png \n",
       "  2 "
      ]
     },
     "metadata": {},
     "output_type": "display_data"
    },
    {
     "data": {
      "text/html": [
       "<strong>png:</strong> 2"
      ],
      "text/latex": [
       "\\textbf{png:} 2"
      ],
      "text/markdown": [
       "**png:** 2"
      ],
      "text/plain": [
       "png \n",
       "  2 "
      ]
     },
     "metadata": {},
     "output_type": "display_data"
    }
   ],
   "source": [
    "hm <- Heatmap(\n",
    "    hm_mat,\n",
    "    show_row_names = FALSE,\n",
    "    column_names_rot = 45,\n",
    "    cluster_rows = FALSE,\n",
    "    cluster_columns = FALSE,\n",
    "    row_title = NULL,\n",
    "    name = \"DEG\",\n",
    "    left_annotation =  rowAnnotation(\n",
    "        trend = deg4hm$trend_label,\n",
    "        col = list(trend = color_vec),\n",
    "        show_annotation_name = FALSE\n",
    "    ),\n",
    "    right_annotation = rowAnnotation(\n",
    "        foo = anno_mark(\n",
    "            at = hm_ind,\n",
    "            labels = rownames(hm_mat)[hm_ind]\n",
    "        )\n",
    "    ),\n",
    ")\n",
    "png(\"./plots/deg/heatmap.png\", width = 9, height = 12, units = \"in\", res = 300)\n",
    "draw(hm)\n",
    "dev.off()\n",
    "svg(\"./plots/deg/heatmap.svg\", width = 9, height = 12)\n",
    "draw(hm)\n",
    "dev.off()"
   ]
  },
  {
   "cell_type": "code",
   "execution_count": 272,
   "id": "5862f858-1444-4d8d-a66d-9ed708f52e6b",
   "metadata": {},
   "outputs": [
    {
     "data": {
      "text/html": [
       "<strong>png:</strong> 2"
      ],
      "text/latex": [
       "\\textbf{png:} 2"
      ],
      "text/markdown": [
       "**png:** 2"
      ],
      "text/plain": [
       "png \n",
       "  2 "
      ]
     },
     "metadata": {},
     "output_type": "display_data"
    }
   ],
   "source": [
    "png(\"./plots/deg/heatmap.png\", width = 9, height = 12, units = \"in\", res = 300)\n",
    "draw(hm)\n",
    "dev.off()"
   ]
  },
  {
   "cell_type": "markdown",
   "id": "eb82799a-8a64-459b-a155-746d8ea39d78",
   "metadata": {},
   "source": [
    "## Run GSEA"
   ]
  },
  {
   "cell_type": "markdown",
   "id": "5fd0f914-cfb5-49bd-84e0-b99b50488e80",
   "metadata": {
    "tags": []
   },
   "source": [
    "### Initialization"
   ]
  },
  {
   "cell_type": "code",
   "execution_count": 79,
   "id": "254a8fe9-976c-402d-a745-163d6f4e23bd",
   "metadata": {},
   "outputs": [
    {
     "name": "stderr",
     "output_type": "stream",
     "text": [
      "\n",
      "载入程辑包：‘latticeExtra’\n",
      "\n",
      "\n",
      "The following object is masked from ‘package:ggplot2’:\n",
      "\n",
      "    layer\n",
      "\n",
      "\n"
     ]
    }
   ],
   "source": [
    "library(fgsea)\n",
    "library(msigdbr)\n",
    "library(lattice)\n",
    "library(latticeExtra)"
   ]
  },
  {
   "cell_type": "code",
   "execution_count": 54,
   "id": "ca9c3b73-a7c1-4e1f-8940-994d9127af77",
   "metadata": {},
   "outputs": [
    {
     "data": {
      "text/html": [
       "<table class=\"dataframe\">\n",
       "<caption>A data.table: 3 × 15</caption>\n",
       "<thead>\n",
       "\t<tr><th scope=col>gs_cat</th><th scope=col>gs_subcat</th><th scope=col>gs_name</th><th scope=col>gene_symbol</th><th scope=col>entrez_gene</th><th scope=col>ensembl_gene</th><th scope=col>human_gene_symbol</th><th scope=col>human_entrez_gene</th><th scope=col>human_ensembl_gene</th><th scope=col>gs_id</th><th scope=col>gs_pmid</th><th scope=col>gs_geoid</th><th scope=col>gs_exact_source</th><th scope=col>gs_url</th><th scope=col>gs_description</th></tr>\n",
       "\t<tr><th scope=col>&lt;chr&gt;</th><th scope=col>&lt;chr&gt;</th><th scope=col>&lt;chr&gt;</th><th scope=col>&lt;chr&gt;</th><th scope=col>&lt;int&gt;</th><th scope=col>&lt;chr&gt;</th><th scope=col>&lt;chr&gt;</th><th scope=col>&lt;int&gt;</th><th scope=col>&lt;chr&gt;</th><th scope=col>&lt;chr&gt;</th><th scope=col>&lt;chr&gt;</th><th scope=col>&lt;chr&gt;</th><th scope=col>&lt;chr&gt;</th><th scope=col>&lt;chr&gt;</th><th scope=col>&lt;chr&gt;</th></tr>\n",
       "</thead>\n",
       "<tbody>\n",
       "\t<tr><td>C2</td><td>CP:KEGG</td><td>KEGG_ABC_TRANSPORTERS</td><td>ABCA1 </td><td>   19</td><td>ENSG00000165029</td><td>ABCA1 </td><td>   19</td><td>ENSG00000165029</td><td>M11911</td><td></td><td></td><td>hsa02010</td><td>http://www.genome.jp/kegg/pathway/hsa/hsa02010.html</td><td>ABC transporters</td></tr>\n",
       "\t<tr><td>C2</td><td>CP:KEGG</td><td>KEGG_ABC_TRANSPORTERS</td><td>ABCA10</td><td>10349</td><td>ENSG00000154263</td><td>ABCA10</td><td>10349</td><td>ENSG00000154263</td><td>M11911</td><td></td><td></td><td>hsa02010</td><td>http://www.genome.jp/kegg/pathway/hsa/hsa02010.html</td><td>ABC transporters</td></tr>\n",
       "\t<tr><td>C2</td><td>CP:KEGG</td><td>KEGG_ABC_TRANSPORTERS</td><td>ABCA12</td><td>26154</td><td>ENSG00000144452</td><td>ABCA12</td><td>26154</td><td>ENSG00000144452</td><td>M11911</td><td></td><td></td><td>hsa02010</td><td>http://www.genome.jp/kegg/pathway/hsa/hsa02010.html</td><td>ABC transporters</td></tr>\n",
       "</tbody>\n",
       "</table>\n"
      ],
      "text/latex": [
       "A data.table: 3 × 15\n",
       "\\begin{tabular}{lllllllllllllll}\n",
       " gs\\_cat & gs\\_subcat & gs\\_name & gene\\_symbol & entrez\\_gene & ensembl\\_gene & human\\_gene\\_symbol & human\\_entrez\\_gene & human\\_ensembl\\_gene & gs\\_id & gs\\_pmid & gs\\_geoid & gs\\_exact\\_source & gs\\_url & gs\\_description\\\\\n",
       " <chr> & <chr> & <chr> & <chr> & <int> & <chr> & <chr> & <int> & <chr> & <chr> & <chr> & <chr> & <chr> & <chr> & <chr>\\\\\n",
       "\\hline\n",
       "\t C2 & CP:KEGG & KEGG\\_ABC\\_TRANSPORTERS & ABCA1  &    19 & ENSG00000165029 & ABCA1  &    19 & ENSG00000165029 & M11911 &  &  & hsa02010 & http://www.genome.jp/kegg/pathway/hsa/hsa02010.html & ABC transporters\\\\\n",
       "\t C2 & CP:KEGG & KEGG\\_ABC\\_TRANSPORTERS & ABCA10 & 10349 & ENSG00000154263 & ABCA10 & 10349 & ENSG00000154263 & M11911 &  &  & hsa02010 & http://www.genome.jp/kegg/pathway/hsa/hsa02010.html & ABC transporters\\\\\n",
       "\t C2 & CP:KEGG & KEGG\\_ABC\\_TRANSPORTERS & ABCA12 & 26154 & ENSG00000144452 & ABCA12 & 26154 & ENSG00000144452 & M11911 &  &  & hsa02010 & http://www.genome.jp/kegg/pathway/hsa/hsa02010.html & ABC transporters\\\\\n",
       "\\end{tabular}\n"
      ],
      "text/markdown": [
       "\n",
       "A data.table: 3 × 15\n",
       "\n",
       "| gs_cat &lt;chr&gt; | gs_subcat &lt;chr&gt; | gs_name &lt;chr&gt; | gene_symbol &lt;chr&gt; | entrez_gene &lt;int&gt; | ensembl_gene &lt;chr&gt; | human_gene_symbol &lt;chr&gt; | human_entrez_gene &lt;int&gt; | human_ensembl_gene &lt;chr&gt; | gs_id &lt;chr&gt; | gs_pmid &lt;chr&gt; | gs_geoid &lt;chr&gt; | gs_exact_source &lt;chr&gt; | gs_url &lt;chr&gt; | gs_description &lt;chr&gt; |\n",
       "|---|---|---|---|---|---|---|---|---|---|---|---|---|---|---|\n",
       "| C2 | CP:KEGG | KEGG_ABC_TRANSPORTERS | ABCA1  |    19 | ENSG00000165029 | ABCA1  |    19 | ENSG00000165029 | M11911 | <!----> | <!----> | hsa02010 | http://www.genome.jp/kegg/pathway/hsa/hsa02010.html | ABC transporters |\n",
       "| C2 | CP:KEGG | KEGG_ABC_TRANSPORTERS | ABCA10 | 10349 | ENSG00000154263 | ABCA10 | 10349 | ENSG00000154263 | M11911 | <!----> | <!----> | hsa02010 | http://www.genome.jp/kegg/pathway/hsa/hsa02010.html | ABC transporters |\n",
       "| C2 | CP:KEGG | KEGG_ABC_TRANSPORTERS | ABCA12 | 26154 | ENSG00000144452 | ABCA12 | 26154 | ENSG00000144452 | M11911 | <!----> | <!----> | hsa02010 | http://www.genome.jp/kegg/pathway/hsa/hsa02010.html | ABC transporters |\n",
       "\n"
      ],
      "text/plain": [
       "  gs_cat gs_subcat gs_name               gene_symbol entrez_gene\n",
       "1 C2     CP:KEGG   KEGG_ABC_TRANSPORTERS ABCA1          19      \n",
       "2 C2     CP:KEGG   KEGG_ABC_TRANSPORTERS ABCA10      10349      \n",
       "3 C2     CP:KEGG   KEGG_ABC_TRANSPORTERS ABCA12      26154      \n",
       "  ensembl_gene    human_gene_symbol human_entrez_gene human_ensembl_gene gs_id \n",
       "1 ENSG00000165029 ABCA1                19             ENSG00000165029    M11911\n",
       "2 ENSG00000154263 ABCA10            10349             ENSG00000154263    M11911\n",
       "3 ENSG00000144452 ABCA12            26154             ENSG00000144452    M11911\n",
       "  gs_pmid gs_geoid gs_exact_source\n",
       "1                  hsa02010       \n",
       "2                  hsa02010       \n",
       "3                  hsa02010       \n",
       "  gs_url                                              gs_description  \n",
       "1 http://www.genome.jp/kegg/pathway/hsa/hsa02010.html ABC transporters\n",
       "2 http://www.genome.jp/kegg/pathway/hsa/hsa02010.html ABC transporters\n",
       "3 http://www.genome.jp/kegg/pathway/hsa/hsa02010.html ABC transporters"
      ]
     },
     "metadata": {},
     "output_type": "display_data"
    }
   ],
   "source": [
    "kegg_gs <- msigdbr(category = \"C2\", subcategory = \"CP:KEGG\")\n",
    "setDT(kegg_gs)\n",
    "kegg_gs[1:3,]"
   ]
  },
  {
   "cell_type": "code",
   "execution_count": 55,
   "id": "71f6d9bc-f5fe-4029-a8a6-2d9133b4eb63",
   "metadata": {},
   "outputs": [],
   "source": [
    "kegg_gs <- kegg_gs[,.(\n",
    "    gs_name = str_replace_all(str_remove(gs_name, \"^KEGG_\"), \"\\\\_\", \" \"),\n",
    "    gene_symbol\n",
    ")] %>% split(x = .$gene_symbol, f = .$gs_name)"
   ]
  },
  {
   "cell_type": "code",
   "execution_count": 56,
   "id": "92f6d84b-2dd8-41f3-98bd-f5c65e39fcf5",
   "metadata": {},
   "outputs": [
    {
     "data": {
      "text/html": [
       "<table class=\"dataframe\">\n",
       "<caption>A data.table: 3 × 15</caption>\n",
       "<thead>\n",
       "\t<tr><th scope=col>gs_cat</th><th scope=col>gs_subcat</th><th scope=col>gs_name</th><th scope=col>gene_symbol</th><th scope=col>entrez_gene</th><th scope=col>ensembl_gene</th><th scope=col>human_gene_symbol</th><th scope=col>human_entrez_gene</th><th scope=col>human_ensembl_gene</th><th scope=col>gs_id</th><th scope=col>gs_pmid</th><th scope=col>gs_geoid</th><th scope=col>gs_exact_source</th><th scope=col>gs_url</th><th scope=col>gs_description</th></tr>\n",
       "\t<tr><th scope=col>&lt;chr&gt;</th><th scope=col>&lt;chr&gt;</th><th scope=col>&lt;chr&gt;</th><th scope=col>&lt;chr&gt;</th><th scope=col>&lt;int&gt;</th><th scope=col>&lt;chr&gt;</th><th scope=col>&lt;chr&gt;</th><th scope=col>&lt;int&gt;</th><th scope=col>&lt;chr&gt;</th><th scope=col>&lt;chr&gt;</th><th scope=col>&lt;chr&gt;</th><th scope=col>&lt;chr&gt;</th><th scope=col>&lt;chr&gt;</th><th scope=col>&lt;chr&gt;</th><th scope=col>&lt;chr&gt;</th></tr>\n",
       "</thead>\n",
       "<tbody>\n",
       "\t<tr><td>C5</td><td>GO:BP</td><td>GOBP_10_FORMYLTETRAHYDROFOLATE_METABOLIC_PROCESS</td><td>AASDHPPT</td><td> 60496</td><td>ENSG00000149313</td><td>AASDHPPT</td><td> 60496</td><td>ENSG00000149313</td><td>M29088</td><td></td><td></td><td>GO:0009256</td><td>http://amigo.geneontology.org/amigo/term/GO:0009256</td><td>The chemical reactions and pathways involving 10-formyltetrahydrofolate, the formylated derivative of tetrahydrofolate. [GOC:ai]</td></tr>\n",
       "\t<tr><td>C5</td><td>GO:BP</td><td>GOBP_10_FORMYLTETRAHYDROFOLATE_METABOLIC_PROCESS</td><td>ALDH1L1 </td><td> 10840</td><td>ENSG00000144908</td><td>ALDH1L1 </td><td> 10840</td><td>ENSG00000144908</td><td>M29088</td><td></td><td></td><td>GO:0009256</td><td>http://amigo.geneontology.org/amigo/term/GO:0009256</td><td>The chemical reactions and pathways involving 10-formyltetrahydrofolate, the formylated derivative of tetrahydrofolate. [GOC:ai]</td></tr>\n",
       "\t<tr><td>C5</td><td>GO:BP</td><td>GOBP_10_FORMYLTETRAHYDROFOLATE_METABOLIC_PROCESS</td><td>ALDH1L2 </td><td>160428</td><td>ENSG00000136010</td><td>ALDH1L2 </td><td>160428</td><td>ENSG00000136010</td><td>M29088</td><td></td><td></td><td>GO:0009256</td><td>http://amigo.geneontology.org/amigo/term/GO:0009256</td><td>The chemical reactions and pathways involving 10-formyltetrahydrofolate, the formylated derivative of tetrahydrofolate. [GOC:ai]</td></tr>\n",
       "</tbody>\n",
       "</table>\n"
      ],
      "text/latex": [
       "A data.table: 3 × 15\n",
       "\\begin{tabular}{lllllllllllllll}\n",
       " gs\\_cat & gs\\_subcat & gs\\_name & gene\\_symbol & entrez\\_gene & ensembl\\_gene & human\\_gene\\_symbol & human\\_entrez\\_gene & human\\_ensembl\\_gene & gs\\_id & gs\\_pmid & gs\\_geoid & gs\\_exact\\_source & gs\\_url & gs\\_description\\\\\n",
       " <chr> & <chr> & <chr> & <chr> & <int> & <chr> & <chr> & <int> & <chr> & <chr> & <chr> & <chr> & <chr> & <chr> & <chr>\\\\\n",
       "\\hline\n",
       "\t C5 & GO:BP & GOBP\\_10\\_FORMYLTETRAHYDROFOLATE\\_METABOLIC\\_PROCESS & AASDHPPT &  60496 & ENSG00000149313 & AASDHPPT &  60496 & ENSG00000149313 & M29088 &  &  & GO:0009256 & http://amigo.geneontology.org/amigo/term/GO:0009256 & The chemical reactions and pathways involving 10-formyltetrahydrofolate, the formylated derivative of tetrahydrofolate. {[}GOC:ai{]}\\\\\n",
       "\t C5 & GO:BP & GOBP\\_10\\_FORMYLTETRAHYDROFOLATE\\_METABOLIC\\_PROCESS & ALDH1L1  &  10840 & ENSG00000144908 & ALDH1L1  &  10840 & ENSG00000144908 & M29088 &  &  & GO:0009256 & http://amigo.geneontology.org/amigo/term/GO:0009256 & The chemical reactions and pathways involving 10-formyltetrahydrofolate, the formylated derivative of tetrahydrofolate. {[}GOC:ai{]}\\\\\n",
       "\t C5 & GO:BP & GOBP\\_10\\_FORMYLTETRAHYDROFOLATE\\_METABOLIC\\_PROCESS & ALDH1L2  & 160428 & ENSG00000136010 & ALDH1L2  & 160428 & ENSG00000136010 & M29088 &  &  & GO:0009256 & http://amigo.geneontology.org/amigo/term/GO:0009256 & The chemical reactions and pathways involving 10-formyltetrahydrofolate, the formylated derivative of tetrahydrofolate. {[}GOC:ai{]}\\\\\n",
       "\\end{tabular}\n"
      ],
      "text/markdown": [
       "\n",
       "A data.table: 3 × 15\n",
       "\n",
       "| gs_cat &lt;chr&gt; | gs_subcat &lt;chr&gt; | gs_name &lt;chr&gt; | gene_symbol &lt;chr&gt; | entrez_gene &lt;int&gt; | ensembl_gene &lt;chr&gt; | human_gene_symbol &lt;chr&gt; | human_entrez_gene &lt;int&gt; | human_ensembl_gene &lt;chr&gt; | gs_id &lt;chr&gt; | gs_pmid &lt;chr&gt; | gs_geoid &lt;chr&gt; | gs_exact_source &lt;chr&gt; | gs_url &lt;chr&gt; | gs_description &lt;chr&gt; |\n",
       "|---|---|---|---|---|---|---|---|---|---|---|---|---|---|---|\n",
       "| C5 | GO:BP | GOBP_10_FORMYLTETRAHYDROFOLATE_METABOLIC_PROCESS | AASDHPPT |  60496 | ENSG00000149313 | AASDHPPT |  60496 | ENSG00000149313 | M29088 | <!----> | <!----> | GO:0009256 | http://amigo.geneontology.org/amigo/term/GO:0009256 | The chemical reactions and pathways involving 10-formyltetrahydrofolate, the formylated derivative of tetrahydrofolate. [GOC:ai] |\n",
       "| C5 | GO:BP | GOBP_10_FORMYLTETRAHYDROFOLATE_METABOLIC_PROCESS | ALDH1L1  |  10840 | ENSG00000144908 | ALDH1L1  |  10840 | ENSG00000144908 | M29088 | <!----> | <!----> | GO:0009256 | http://amigo.geneontology.org/amigo/term/GO:0009256 | The chemical reactions and pathways involving 10-formyltetrahydrofolate, the formylated derivative of tetrahydrofolate. [GOC:ai] |\n",
       "| C5 | GO:BP | GOBP_10_FORMYLTETRAHYDROFOLATE_METABOLIC_PROCESS | ALDH1L2  | 160428 | ENSG00000136010 | ALDH1L2  | 160428 | ENSG00000136010 | M29088 | <!----> | <!----> | GO:0009256 | http://amigo.geneontology.org/amigo/term/GO:0009256 | The chemical reactions and pathways involving 10-formyltetrahydrofolate, the formylated derivative of tetrahydrofolate. [GOC:ai] |\n",
       "\n"
      ],
      "text/plain": [
       "  gs_cat gs_subcat gs_name                                          gene_symbol\n",
       "1 C5     GO:BP     GOBP_10_FORMYLTETRAHYDROFOLATE_METABOLIC_PROCESS AASDHPPT   \n",
       "2 C5     GO:BP     GOBP_10_FORMYLTETRAHYDROFOLATE_METABOLIC_PROCESS ALDH1L1    \n",
       "3 C5     GO:BP     GOBP_10_FORMYLTETRAHYDROFOLATE_METABOLIC_PROCESS ALDH1L2    \n",
       "  entrez_gene ensembl_gene    human_gene_symbol human_entrez_gene\n",
       "1  60496      ENSG00000149313 AASDHPPT           60496           \n",
       "2  10840      ENSG00000144908 ALDH1L1            10840           \n",
       "3 160428      ENSG00000136010 ALDH1L2           160428           \n",
       "  human_ensembl_gene gs_id  gs_pmid gs_geoid gs_exact_source\n",
       "1 ENSG00000149313    M29088                  GO:0009256     \n",
       "2 ENSG00000144908    M29088                  GO:0009256     \n",
       "3 ENSG00000136010    M29088                  GO:0009256     \n",
       "  gs_url                                             \n",
       "1 http://amigo.geneontology.org/amigo/term/GO:0009256\n",
       "2 http://amigo.geneontology.org/amigo/term/GO:0009256\n",
       "3 http://amigo.geneontology.org/amigo/term/GO:0009256\n",
       "  gs_description                                                                                                                  \n",
       "1 The chemical reactions and pathways involving 10-formyltetrahydrofolate, the formylated derivative of tetrahydrofolate. [GOC:ai]\n",
       "2 The chemical reactions and pathways involving 10-formyltetrahydrofolate, the formylated derivative of tetrahydrofolate. [GOC:ai]\n",
       "3 The chemical reactions and pathways involving 10-formyltetrahydrofolate, the formylated derivative of tetrahydrofolate. [GOC:ai]"
      ]
     },
     "metadata": {},
     "output_type": "display_data"
    }
   ],
   "source": [
    "gobp_gs <- msigdbr(category = \"C5\", subcategory = \"GO:BP\")\n",
    "setDT(gobp_gs)\n",
    "gobp_gs[1:3,]"
   ]
  },
  {
   "cell_type": "code",
   "execution_count": 278,
   "id": "3cbb5032-48ea-4c6a-9673-182486675917",
   "metadata": {},
   "outputs": [],
   "source": [
    "saveRDS(gobp_gs, \"~/bioresource/genesets/gobp.rds\")\n",
    "saveRDS(kegg_gs, \"~/bioresource/genesets/kegg.rds\")"
   ]
  },
  {
   "cell_type": "code",
   "execution_count": 57,
   "id": "5f13995d-1a48-4458-9e21-6e958ddc12b3",
   "metadata": {},
   "outputs": [],
   "source": [
    "gobp_gs <- gobp_gs[,.(\n",
    "    gs_name = str_replace_all(str_remove(gs_name, \"^GOBP_\"), \"\\\\_\", \" \"),\n",
    "    gene_symbol\n",
    ")] %>% split(x = .$gene_symbol, f = .$gs_name)"
   ]
  },
  {
   "cell_type": "markdown",
   "id": "9e2b541b-fb06-4ff8-8492-72932cd6abcd",
   "metadata": {
    "tags": []
   },
   "source": [
    "### GSEA"
   ]
  },
  {
   "cell_type": "code",
   "execution_count": 69,
   "id": "f4c74e2e-c899-4d6e-b8cc-245fccb66205",
   "metadata": {},
   "outputs": [
    {
     "name": "stderr",
     "output_type": "stream",
     "text": [
      "Warning message in fgseaMultilevel(...):\n",
      "“For some of the pathways the P-values were likely overestimated. For such pathways log2err is set to NA.”\n"
     ]
    }
   ],
   "source": [
    "oc_gsea <- fgsea(\n",
    "    gobp_gs, combined_degs[comparison == \"OC\",]\n",
    "    [order(-logFC), .(gene, logFC)] %>% deframe(),\n",
    "    minSize = 3, eps = 0.0\n",
    "     )[order(padj)]\n",
    "\n",
    "od_gsea <- fgsea(\n",
    "    gobp_gs, combined_degs[comparison == \"OD\",]\n",
    "    [order(-logFC), .(gene, logFC)] %>% deframe(),\n",
    "    minSize = 3, eps = 0.0\n",
    "     )[order(padj)]"
   ]
  },
  {
   "cell_type": "code",
   "execution_count": 211,
   "id": "860e0ca2-98dd-4cf9-b46c-1066e7ad39af",
   "metadata": {},
   "outputs": [
    {
     "data": {
      "text/html": [
       "<style>\n",
       ".list-inline {list-style: none; margin:0; padding: 0}\n",
       ".list-inline>li {display: inline-block}\n",
       ".list-inline>li:not(:last-child)::after {content: \"\\00b7\"; padding: 0 .5ex}\n",
       "</style>\n",
       "<ol class=list-inline><li>'IMMUNE RESPONSE'</li><li>'CELL ACTIVATION'</li><li>'ADAPTIVE IMMUNE RESPONSE'</li><li>'BUNDLE OF HIS CELL TO PURKINJE MYOCYTE SIGNALING'</li><li>'INFLAMMATORY RESPONSE'</li><li>'REGULATION OF IMMUNE SYSTEM PROCESS'</li><li>'REGULATION OF VERY LOW DENSITY LIPOPROTEIN PARTICLE REMODELING'</li><li>'DEFENSE RESPONSE'</li><li>'NEGATIVE REGULATION OF HYDROGEN PEROXIDE METABOLIC PROCESS'</li><li>'CYTOKINE MEDIATED SIGNALING PATHWAY'</li></ol>\n"
      ],
      "text/latex": [
       "\\begin{enumerate*}\n",
       "\\item 'IMMUNE RESPONSE'\n",
       "\\item 'CELL ACTIVATION'\n",
       "\\item 'ADAPTIVE IMMUNE RESPONSE'\n",
       "\\item 'BUNDLE OF HIS CELL TO PURKINJE MYOCYTE SIGNALING'\n",
       "\\item 'INFLAMMATORY RESPONSE'\n",
       "\\item 'REGULATION OF IMMUNE SYSTEM PROCESS'\n",
       "\\item 'REGULATION OF VERY LOW DENSITY LIPOPROTEIN PARTICLE REMODELING'\n",
       "\\item 'DEFENSE RESPONSE'\n",
       "\\item 'NEGATIVE REGULATION OF HYDROGEN PEROXIDE METABOLIC PROCESS'\n",
       "\\item 'CYTOKINE MEDIATED SIGNALING PATHWAY'\n",
       "\\end{enumerate*}\n"
      ],
      "text/markdown": [
       "1. 'IMMUNE RESPONSE'\n",
       "2. 'CELL ACTIVATION'\n",
       "3. 'ADAPTIVE IMMUNE RESPONSE'\n",
       "4. 'BUNDLE OF HIS CELL TO PURKINJE MYOCYTE SIGNALING'\n",
       "5. 'INFLAMMATORY RESPONSE'\n",
       "6. 'REGULATION OF IMMUNE SYSTEM PROCESS'\n",
       "7. 'REGULATION OF VERY LOW DENSITY LIPOPROTEIN PARTICLE REMODELING'\n",
       "8. 'DEFENSE RESPONSE'\n",
       "9. 'NEGATIVE REGULATION OF HYDROGEN PEROXIDE METABOLIC PROCESS'\n",
       "10. 'CYTOKINE MEDIATED SIGNALING PATHWAY'\n",
       "\n",
       "\n"
      ],
      "text/plain": [
       " [1] \"IMMUNE RESPONSE\"                                               \n",
       " [2] \"CELL ACTIVATION\"                                               \n",
       " [3] \"ADAPTIVE IMMUNE RESPONSE\"                                      \n",
       " [4] \"BUNDLE OF HIS CELL TO PURKINJE MYOCYTE SIGNALING\"              \n",
       " [5] \"INFLAMMATORY RESPONSE\"                                         \n",
       " [6] \"REGULATION OF IMMUNE SYSTEM PROCESS\"                           \n",
       " [7] \"REGULATION OF VERY LOW DENSITY LIPOPROTEIN PARTICLE REMODELING\"\n",
       " [8] \"DEFENSE RESPONSE\"                                              \n",
       " [9] \"NEGATIVE REGULATION OF HYDROGEN PEROXIDE METABOLIC PROCESS\"    \n",
       "[10] \"CYTOKINE MEDIATED SIGNALING PATHWAY\"                           "
      ]
     },
     "metadata": {},
     "output_type": "display_data"
    }
   ],
   "source": [
    "oc_gsea[padj < 0.05, pathway]"
   ]
  },
  {
   "cell_type": "code",
   "execution_count": 101,
   "id": "76b0e7f0-a8e0-4aa9-a24d-2b2268f85cb5",
   "metadata": {},
   "outputs": [],
   "source": [
    "fwrite(oc_gsea, \"./results/enrich/oc_gsea.csv\")\n",
    "fwrite(od_gsea, \"./results/enrich/od_gsea.csv\")\n",
    "# fwrite(combined_gsea[pathway %in% sigpath_union,], \"./combined_gsea.csv\")"
   ]
  },
  {
   "cell_type": "code",
   "execution_count": 3,
   "id": "73d8e881-3223-456a-9443-775cdddd9ff1",
   "metadata": {},
   "outputs": [],
   "source": [
    "oc_gsea <- fread(\"./results/enrich/oc_gsea.csv\")\n",
    "od_gsea <- fread(\"./results/enrich/od_gsea.csv\")"
   ]
  },
  {
   "cell_type": "code",
   "execution_count": 4,
   "id": "a84320d0-c208-462f-a887-a51033265999",
   "metadata": {},
   "outputs": [],
   "source": [
    "sigpath_union <- union(oc_gsea[padj < 0.05, pathway], od_gsea[padj < 0.05, pathway])"
   ]
  },
  {
   "cell_type": "code",
   "execution_count": 8,
   "id": "e40cbaaf-d3b2-434d-aa30-625cd2afc2aa",
   "metadata": {},
   "outputs": [
    {
     "data": {
      "image/png": "[encoded data removed]",
      "text/plain": [
       "plot without title"
      ]
     },
     "metadata": {
      "image/png": {
       "height": 420,
       "width": 420
      }
     },
     "output_type": "display_data"
    }
   ],
   "source": [
    "p <- ggplot(data = NULL, aes(x = NES, y = fct_reorder(pathway, NES))) +\n",
    "    geom_col(aes(fill = \"Obese control\"), alpha = 0.6,\n",
    "             data = oc_gsea[pathway %in% sigpath_union]) +\n",
    "    geom_col(aes(fill = \"Obese diabetic\"), alpha = 0.6,\n",
    "             data = od_gsea[pathway %in% sigpath_union]) +\n",
    "    scale_y_discrete(label = \\(x){str_wrap(x, width = 40)}) +\n",
    "    scale_fill_manual(name = \"Comparison\",\n",
    "                      values = brewer.pal(3, \"Set1\")[c(2, 1)]) +\n",
    "    ylab(\"Pathway\")\n",
    "ggsave(\"./plots/enrich/gsea.svg\", p, width = 8, height = 6)\n",
    "p"
   ]
  },
  {
   "cell_type": "code",
   "execution_count": 220,
   "id": "422cd259-81d1-4837-9175-c7a7a3db4334",
   "metadata": {},
   "outputs": [],
   "source": [
    "combined_gsea <- rbind(oc_gsea %>% mutate(comparison = \"OC\"),\n",
    "                       od_gsea %>% mutate(comparison = \"OD\"))"
   ]
  },
  {
   "cell_type": "code",
   "execution_count": 221,
   "id": "3b6b976a-5c65-4a63-bbbe-bb7bd659db7e",
   "metadata": {},
   "outputs": [],
   "source": [
    "gsea_bar <- combined_gsea[,.(pathway, padj, logP = -log10(padj), NES, comparison)]"
   ]
  },
  {
   "cell_type": "code",
   "execution_count": 226,
   "id": "107f2c7f-2fde-4107-9048-e35149a0696d",
   "metadata": {},
   "outputs": [
    {
     "data": {
      "text/html": [
       "<table class=\"dataframe\">\n",
       "<caption>A data.table: 38 × 6</caption>\n",
       "<thead>\n",
       "\t<tr><th scope=col>pathway</th><th scope=col>padj</th><th scope=col>logP</th><th scope=col>NES</th><th scope=col>comparison</th><th scope=col>color</th></tr>\n",
       "\t<tr><th scope=col>&lt;chr&gt;</th><th scope=col>&lt;dbl&gt;</th><th scope=col>&lt;dbl&gt;</th><th scope=col>&lt;dbl&gt;</th><th scope=col>&lt;chr&gt;</th><th scope=col>&lt;chr&gt;</th></tr>\n",
       "</thead>\n",
       "<tbody>\n",
       "\t<tr><td>IMMUNE RESPONSE                                               </td><td>0.000618541</td><td>3.2086315</td><td> 1.456363</td><td>OC</td><td>#9E0142</td></tr>\n",
       "\t<tr><td>CELL ACTIVATION                                               </td><td>0.002299200</td><td>2.6384233</td><td> 1.506135</td><td>OC</td><td>#E95C47</td></tr>\n",
       "\t<tr><td>ADAPTIVE IMMUNE RESPONSE                                      </td><td>0.016523000</td><td>1.7819111</td><td> 1.611244</td><td>OC</td><td>#F8E48D</td></tr>\n",
       "\t<tr><td>BUNDLE OF HIS CELL TO PURKINJE MYOCYTE SIGNALING              </td><td>0.016523000</td><td>1.7819111</td><td> 1.830118</td><td>OC</td><td>#F8E48D</td></tr>\n",
       "\t<tr><td>INFLAMMATORY RESPONSE                                         </td><td>0.016523000</td><td>1.7819111</td><td> 1.531314</td><td>OC</td><td>#F8E48D</td></tr>\n",
       "\t<tr><td>REGULATION OF IMMUNE SYSTEM PROCESS                           </td><td>0.016523000</td><td>1.7819111</td><td> 1.400891</td><td>OC</td><td>#F8E48D</td></tr>\n",
       "\t<tr><td>REGULATION OF VERY LOW DENSITY LIPOPROTEIN PARTICLE REMODELING</td><td>0.016523000</td><td>1.7819111</td><td>-1.721712</td><td>OC</td><td>#F8E48D</td></tr>\n",
       "\t<tr><td>DEFENSE RESPONSE                                              </td><td>0.019832019</td><td>1.7026331</td><td> 1.368063</td><td>OC</td><td>#F4E890</td></tr>\n",
       "\t<tr><td>NEGATIVE REGULATION OF HYDROGEN PEROXIDE METABOLIC PROCESS    </td><td>0.033082820</td><td>1.4803975</td><td>-1.872084</td><td>OC</td><td>#DDF199</td></tr>\n",
       "\t<tr><td>CYTOKINE MEDIATED SIGNALING PATHWAY                           </td><td>0.037723298</td><td>1.4233903</td><td> 1.568667</td><td>OC</td><td>#DDF199</td></tr>\n",
       "\t<tr><td>LEUKOCYTE DIFFERENTIATION                                     </td><td>0.102178552</td><td>0.9906403</td><td> 1.479364</td><td>OC</td><td>#8DD1A4</td></tr>\n",
       "\t<tr><td>REGULATION OF CYTOSOLIC CALCIUM ION CONCENTRATION             </td><td>0.179245444</td><td>0.7465519</td><td> 1.538093</td><td>OC</td><td>#5DB8A8</td></tr>\n",
       "\t<tr><td>CELLULAR RESPONSE TO INTERLEUKIN 1                            </td><td>0.272487938</td><td>0.5646527</td><td> 1.688034</td><td>OC</td><td>#4098B6</td></tr>\n",
       "\t<tr><td>DIVALENT INORGANIC CATION HOMEOSTASIS                         </td><td>0.272487938</td><td>0.5646527</td><td> 1.441706</td><td>OC</td><td>#4098B6</td></tr>\n",
       "\t<tr><td>CELL MIGRATION                                                </td><td>0.322557666</td><td>0.4913926</td><td> 1.260394</td><td>OC</td><td>#3583BA</td></tr>\n",
       "\t<tr><td>RESPONSE TO LIPID                                             </td><td>0.346720911</td><td>0.4600200</td><td> 1.314022</td><td>OC</td><td>#3583BA</td></tr>\n",
       "\t<tr><td>LOCOMOTION                                                    </td><td>0.352776280</td><td>0.4525006</td><td> 1.211606</td><td>OC</td><td>#3583BA</td></tr>\n",
       "\t<tr><td>BLOOD VESSEL MORPHOGENESIS                                    </td><td>0.512132757</td><td>0.2906174</td><td> 1.295256</td><td>OC</td><td>#4D63AB</td></tr>\n",
       "\t<tr><td>VASCULATURE DEVELOPMENT                                       </td><td>0.675875079</td><td>0.1701336</td><td> 1.233393</td><td>OC</td><td>#5E4FA2</td></tr>\n",
       "\t<tr><td>CELL MIGRATION                                                </td><td>0.002598952</td><td>2.5852018</td><td> 1.464402</td><td>OD</td><td>#EE6544</td></tr>\n",
       "\t<tr><td>LOCOMOTION                                                    </td><td>0.018671951</td><td>1.7288103</td><td> 1.383753</td><td>OD</td><td>#F4E890</td></tr>\n",
       "\t<tr><td>BLOOD VESSEL MORPHOGENESIS                                    </td><td>0.037050157</td><td>1.4312100</td><td> 1.564484</td><td>OD</td><td>#DDF199</td></tr>\n",
       "\t<tr><td>ADAPTIVE IMMUNE RESPONSE                                      </td><td>0.049236718</td><td>1.3077109</td><td> 1.559850</td><td>OD</td><td>#C7E89E</td></tr>\n",
       "\t<tr><td>CELLULAR RESPONSE TO INTERLEUKIN 1                            </td><td>0.049236718</td><td>1.3077109</td><td> 1.886150</td><td>OD</td><td>#C7E89E</td></tr>\n",
       "\t<tr><td>DIVALENT INORGANIC CATION HOMEOSTASIS                         </td><td>0.049236718</td><td>1.3077109</td><td> 1.615585</td><td>OD</td><td>#C7E89E</td></tr>\n",
       "\t<tr><td>LEUKOCYTE DIFFERENTIATION                                     </td><td>0.049236718</td><td>1.3077109</td><td> 1.552017</td><td>OD</td><td>#C7E89E</td></tr>\n",
       "\t<tr><td>REGULATION OF CYTOSOLIC CALCIUM ION CONCENTRATION             </td><td>0.049236718</td><td>1.3077109</td><td> 1.662019</td><td>OD</td><td>#C7E89E</td></tr>\n",
       "\t<tr><td>RESPONSE TO LIPID                                             </td><td>0.049236718</td><td>1.3077109</td><td> 1.482236</td><td>OD</td><td>#C7E89E</td></tr>\n",
       "\t<tr><td>VASCULATURE DEVELOPMENT                                       </td><td>0.049236718</td><td>1.3077109</td><td> 1.502022</td><td>OD</td><td>#C7E89E</td></tr>\n",
       "\t<tr><td>CELL ACTIVATION                                               </td><td>0.068248625</td><td>1.1659061</td><td> 1.412187</td><td>OD</td><td>#A6DBA4</td></tr>\n",
       "\t<tr><td>INFLAMMATORY RESPONSE                                         </td><td>0.086991169</td><td>1.0605248</td><td> 1.442802</td><td>OD</td><td>#9AD6A4</td></tr>\n",
       "\t<tr><td>CYTOKINE MEDIATED SIGNALING PATHWAY                           </td><td>0.168554634</td><td>0.7732593</td><td> 1.472164</td><td>OD</td><td>#5DB8A8</td></tr>\n",
       "\t<tr><td>IMMUNE RESPONSE                                               </td><td>0.184600224</td><td>0.7337678</td><td> 1.293329</td><td>OD</td><td>#53ADAD</td></tr>\n",
       "\t<tr><td>REGULATION OF IMMUNE SYSTEM PROCESS                           </td><td>0.184600224</td><td>0.7337678</td><td> 1.315700</td><td>OD</td><td>#53ADAD</td></tr>\n",
       "\t<tr><td>NEGATIVE REGULATION OF HYDROGEN PEROXIDE METABOLIC PROCESS    </td><td>0.198044146</td><td>0.7032380</td><td>-1.756022</td><td>OD</td><td>#53ADAD</td></tr>\n",
       "\t<tr><td>DEFENSE RESPONSE                                              </td><td>0.255542186</td><td>0.5925374</td><td> 1.266338</td><td>OD</td><td>#4098B6</td></tr>\n",
       "\t<tr><td>REGULATION OF VERY LOW DENSITY LIPOPROTEIN PARTICLE REMODELING</td><td>0.275667467</td><td>0.5596145</td><td>-1.614680</td><td>OD</td><td>#4098B6</td></tr>\n",
       "\t<tr><td>BUNDLE OF HIS CELL TO PURKINJE MYOCYTE SIGNALING              </td><td>0.746441301</td><td>0.1270043</td><td> 1.469190</td><td>OD</td><td>#5E4FA2</td></tr>\n",
       "</tbody>\n",
       "</table>\n"
      ],
      "text/latex": [
       "A data.table: 38 × 6\n",
       "\\begin{tabular}{llllll}\n",
       " pathway & padj & logP & NES & comparison & color\\\\\n",
       " <chr> & <dbl> & <dbl> & <dbl> & <chr> & <chr>\\\\\n",
       "\\hline\n",
       "\t IMMUNE RESPONSE                                                & 0.000618541 & 3.2086315 &  1.456363 & OC & \\#9E0142\\\\\n",
       "\t CELL ACTIVATION                                                & 0.002299200 & 2.6384233 &  1.506135 & OC & \\#E95C47\\\\\n",
       "\t ADAPTIVE IMMUNE RESPONSE                                       & 0.016523000 & 1.7819111 &  1.611244 & OC & \\#F8E48D\\\\\n",
       "\t BUNDLE OF HIS CELL TO PURKINJE MYOCYTE SIGNALING               & 0.016523000 & 1.7819111 &  1.830118 & OC & \\#F8E48D\\\\\n",
       "\t INFLAMMATORY RESPONSE                                          & 0.016523000 & 1.7819111 &  1.531314 & OC & \\#F8E48D\\\\\n",
       "\t REGULATION OF IMMUNE SYSTEM PROCESS                            & 0.016523000 & 1.7819111 &  1.400891 & OC & \\#F8E48D\\\\\n",
       "\t REGULATION OF VERY LOW DENSITY LIPOPROTEIN PARTICLE REMODELING & 0.016523000 & 1.7819111 & -1.721712 & OC & \\#F8E48D\\\\\n",
       "\t DEFENSE RESPONSE                                               & 0.019832019 & 1.7026331 &  1.368063 & OC & \\#F4E890\\\\\n",
       "\t NEGATIVE REGULATION OF HYDROGEN PEROXIDE METABOLIC PROCESS     & 0.033082820 & 1.4803975 & -1.872084 & OC & \\#DDF199\\\\\n",
       "\t CYTOKINE MEDIATED SIGNALING PATHWAY                            & 0.037723298 & 1.4233903 &  1.568667 & OC & \\#DDF199\\\\\n",
       "\t LEUKOCYTE DIFFERENTIATION                                      & 0.102178552 & 0.9906403 &  1.479364 & OC & \\#8DD1A4\\\\\n",
       "\t REGULATION OF CYTOSOLIC CALCIUM ION CONCENTRATION              & 0.179245444 & 0.7465519 &  1.538093 & OC & \\#5DB8A8\\\\\n",
       "\t CELLULAR RESPONSE TO INTERLEUKIN 1                             & 0.272487938 & 0.5646527 &  1.688034 & OC & \\#4098B6\\\\\n",
       "\t DIVALENT INORGANIC CATION HOMEOSTASIS                          & 0.272487938 & 0.5646527 &  1.441706 & OC & \\#4098B6\\\\\n",
       "\t CELL MIGRATION                                                 & 0.322557666 & 0.4913926 &  1.260394 & OC & \\#3583BA\\\\\n",
       "\t RESPONSE TO LIPID                                              & 0.346720911 & 0.4600200 &  1.314022 & OC & \\#3583BA\\\\\n",
       "\t LOCOMOTION                                                     & 0.352776280 & 0.4525006 &  1.211606 & OC & \\#3583BA\\\\\n",
       "\t BLOOD VESSEL MORPHOGENESIS                                     & 0.512132757 & 0.2906174 &  1.295256 & OC & \\#4D63AB\\\\\n",
       "\t VASCULATURE DEVELOPMENT                                        & 0.675875079 & 0.1701336 &  1.233393 & OC & \\#5E4FA2\\\\\n",
       "\t CELL MIGRATION                                                 & 0.002598952 & 2.5852018 &  1.464402 & OD & \\#EE6544\\\\\n",
       "\t LOCOMOTION                                                     & 0.018671951 & 1.7288103 &  1.383753 & OD & \\#F4E890\\\\\n",
       "\t BLOOD VESSEL MORPHOGENESIS                                     & 0.037050157 & 1.4312100 &  1.564484 & OD & \\#DDF199\\\\\n",
       "\t ADAPTIVE IMMUNE RESPONSE                                       & 0.049236718 & 1.3077109 &  1.559850 & OD & \\#C7E89E\\\\\n",
       "\t CELLULAR RESPONSE TO INTERLEUKIN 1                             & 0.049236718 & 1.3077109 &  1.886150 & OD & \\#C7E89E\\\\\n",
       "\t DIVALENT INORGANIC CATION HOMEOSTASIS                          & 0.049236718 & 1.3077109 &  1.615585 & OD & \\#C7E89E\\\\\n",
       "\t LEUKOCYTE DIFFERENTIATION                                      & 0.049236718 & 1.3077109 &  1.552017 & OD & \\#C7E89E\\\\\n",
       "\t REGULATION OF CYTOSOLIC CALCIUM ION CONCENTRATION              & 0.049236718 & 1.3077109 &  1.662019 & OD & \\#C7E89E\\\\\n",
       "\t RESPONSE TO LIPID                                              & 0.049236718 & 1.3077109 &  1.482236 & OD & \\#C7E89E\\\\\n",
       "\t VASCULATURE DEVELOPMENT                                        & 0.049236718 & 1.3077109 &  1.502022 & OD & \\#C7E89E\\\\\n",
       "\t CELL ACTIVATION                                                & 0.068248625 & 1.1659061 &  1.412187 & OD & \\#A6DBA4\\\\\n",
       "\t INFLAMMATORY RESPONSE                                          & 0.086991169 & 1.0605248 &  1.442802 & OD & \\#9AD6A4\\\\\n",
       "\t CYTOKINE MEDIATED SIGNALING PATHWAY                            & 0.168554634 & 0.7732593 &  1.472164 & OD & \\#5DB8A8\\\\\n",
       "\t IMMUNE RESPONSE                                                & 0.184600224 & 0.7337678 &  1.293329 & OD & \\#53ADAD\\\\\n",
       "\t REGULATION OF IMMUNE SYSTEM PROCESS                            & 0.184600224 & 0.7337678 &  1.315700 & OD & \\#53ADAD\\\\\n",
       "\t NEGATIVE REGULATION OF HYDROGEN PEROXIDE METABOLIC PROCESS     & 0.198044146 & 0.7032380 & -1.756022 & OD & \\#53ADAD\\\\\n",
       "\t DEFENSE RESPONSE                                               & 0.255542186 & 0.5925374 &  1.266338 & OD & \\#4098B6\\\\\n",
       "\t REGULATION OF VERY LOW DENSITY LIPOPROTEIN PARTICLE REMODELING & 0.275667467 & 0.5596145 & -1.614680 & OD & \\#4098B6\\\\\n",
       "\t BUNDLE OF HIS CELL TO PURKINJE MYOCYTE SIGNALING               & 0.746441301 & 0.1270043 &  1.469190 & OD & \\#5E4FA2\\\\\n",
       "\\end{tabular}\n"
      ],
      "text/markdown": [
       "\n",
       "A data.table: 38 × 6\n",
       "\n",
       "| pathway &lt;chr&gt; | padj &lt;dbl&gt; | logP &lt;dbl&gt; | NES &lt;dbl&gt; | comparison &lt;chr&gt; | color &lt;chr&gt; |\n",
       "|---|---|---|---|---|---|\n",
       "| IMMUNE RESPONSE                                                | 0.000618541 | 3.2086315 |  1.456363 | OC | #9E0142 |\n",
       "| CELL ACTIVATION                                                | 0.002299200 | 2.6384233 |  1.506135 | OC | #E95C47 |\n",
       "| ADAPTIVE IMMUNE RESPONSE                                       | 0.016523000 | 1.7819111 |  1.611244 | OC | #F8E48D |\n",
       "| BUNDLE OF HIS CELL TO PURKINJE MYOCYTE SIGNALING               | 0.016523000 | 1.7819111 |  1.830118 | OC | #F8E48D |\n",
       "| INFLAMMATORY RESPONSE                                          | 0.016523000 | 1.7819111 |  1.531314 | OC | #F8E48D |\n",
       "| REGULATION OF IMMUNE SYSTEM PROCESS                            | 0.016523000 | 1.7819111 |  1.400891 | OC | #F8E48D |\n",
       "| REGULATION OF VERY LOW DENSITY LIPOPROTEIN PARTICLE REMODELING | 0.016523000 | 1.7819111 | -1.721712 | OC | #F8E48D |\n",
       "| DEFENSE RESPONSE                                               | 0.019832019 | 1.7026331 |  1.368063 | OC | #F4E890 |\n",
       "| NEGATIVE REGULATION OF HYDROGEN PEROXIDE METABOLIC PROCESS     | 0.033082820 | 1.4803975 | -1.872084 | OC | #DDF199 |\n",
       "| CYTOKINE MEDIATED SIGNALING PATHWAY                            | 0.037723298 | 1.4233903 |  1.568667 | OC | #DDF199 |\n",
       "| LEUKOCYTE DIFFERENTIATION                                      | 0.102178552 | 0.9906403 |  1.479364 | OC | #8DD1A4 |\n",
       "| REGULATION OF CYTOSOLIC CALCIUM ION CONCENTRATION              | 0.179245444 | 0.7465519 |  1.538093 | OC | #5DB8A8 |\n",
       "| CELLULAR RESPONSE TO INTERLEUKIN 1                             | 0.272487938 | 0.5646527 |  1.688034 | OC | #4098B6 |\n",
       "| DIVALENT INORGANIC CATION HOMEOSTASIS                          | 0.272487938 | 0.5646527 |  1.441706 | OC | #4098B6 |\n",
       "| CELL MIGRATION                                                 | 0.322557666 | 0.4913926 |  1.260394 | OC | #3583BA |\n",
       "| RESPONSE TO LIPID                                              | 0.346720911 | 0.4600200 |  1.314022 | OC | #3583BA |\n",
       "| LOCOMOTION                                                     | 0.352776280 | 0.4525006 |  1.211606 | OC | #3583BA |\n",
       "| BLOOD VESSEL MORPHOGENESIS                                     | 0.512132757 | 0.2906174 |  1.295256 | OC | #4D63AB |\n",
       "| VASCULATURE DEVELOPMENT                                        | 0.675875079 | 0.1701336 |  1.233393 | OC | #5E4FA2 |\n",
       "| CELL MIGRATION                                                 | 0.002598952 | 2.5852018 |  1.464402 | OD | #EE6544 |\n",
       "| LOCOMOTION                                                     | 0.018671951 | 1.7288103 |  1.383753 | OD | #F4E890 |\n",
       "| BLOOD VESSEL MORPHOGENESIS                                     | 0.037050157 | 1.4312100 |  1.564484 | OD | #DDF199 |\n",
       "| ADAPTIVE IMMUNE RESPONSE                                       | 0.049236718 | 1.3077109 |  1.559850 | OD | #C7E89E |\n",
       "| CELLULAR RESPONSE TO INTERLEUKIN 1                             | 0.049236718 | 1.3077109 |  1.886150 | OD | #C7E89E |\n",
       "| DIVALENT INORGANIC CATION HOMEOSTASIS                          | 0.049236718 | 1.3077109 |  1.615585 | OD | #C7E89E |\n",
       "| LEUKOCYTE DIFFERENTIATION                                      | 0.049236718 | 1.3077109 |  1.552017 | OD | #C7E89E |\n",
       "| REGULATION OF CYTOSOLIC CALCIUM ION CONCENTRATION              | 0.049236718 | 1.3077109 |  1.662019 | OD | #C7E89E |\n",
       "| RESPONSE TO LIPID                                              | 0.049236718 | 1.3077109 |  1.482236 | OD | #C7E89E |\n",
       "| VASCULATURE DEVELOPMENT                                        | 0.049236718 | 1.3077109 |  1.502022 | OD | #C7E89E |\n",
       "| CELL ACTIVATION                                                | 0.068248625 | 1.1659061 |  1.412187 | OD | #A6DBA4 |\n",
       "| INFLAMMATORY RESPONSE                                          | 0.086991169 | 1.0605248 |  1.442802 | OD | #9AD6A4 |\n",
       "| CYTOKINE MEDIATED SIGNALING PATHWAY                            | 0.168554634 | 0.7732593 |  1.472164 | OD | #5DB8A8 |\n",
       "| IMMUNE RESPONSE                                                | 0.184600224 | 0.7337678 |  1.293329 | OD | #53ADAD |\n",
       "| REGULATION OF IMMUNE SYSTEM PROCESS                            | 0.184600224 | 0.7337678 |  1.315700 | OD | #53ADAD |\n",
       "| NEGATIVE REGULATION OF HYDROGEN PEROXIDE METABOLIC PROCESS     | 0.198044146 | 0.7032380 | -1.756022 | OD | #53ADAD |\n",
       "| DEFENSE RESPONSE                                               | 0.255542186 | 0.5925374 |  1.266338 | OD | #4098B6 |\n",
       "| REGULATION OF VERY LOW DENSITY LIPOPROTEIN PARTICLE REMODELING | 0.275667467 | 0.5596145 | -1.614680 | OD | #4098B6 |\n",
       "| BUNDLE OF HIS CELL TO PURKINJE MYOCYTE SIGNALING               | 0.746441301 | 0.1270043 |  1.469190 | OD | #5E4FA2 |\n",
       "\n"
      ],
      "text/plain": [
       "   pathway                                                        padj       \n",
       "1  IMMUNE RESPONSE                                                0.000618541\n",
       "2  CELL ACTIVATION                                                0.002299200\n",
       "3  ADAPTIVE IMMUNE RESPONSE                                       0.016523000\n",
       "4  BUNDLE OF HIS CELL TO PURKINJE MYOCYTE SIGNALING               0.016523000\n",
       "5  INFLAMMATORY RESPONSE                                          0.016523000\n",
       "6  REGULATION OF IMMUNE SYSTEM PROCESS                            0.016523000\n",
       "7  REGULATION OF VERY LOW DENSITY LIPOPROTEIN PARTICLE REMODELING 0.016523000\n",
       "8  DEFENSE RESPONSE                                               0.019832019\n",
       "9  NEGATIVE REGULATION OF HYDROGEN PEROXIDE METABOLIC PROCESS     0.033082820\n",
       "10 CYTOKINE MEDIATED SIGNALING PATHWAY                            0.037723298\n",
       "11 LEUKOCYTE DIFFERENTIATION                                      0.102178552\n",
       "12 REGULATION OF CYTOSOLIC CALCIUM ION CONCENTRATION              0.179245444\n",
       "13 CELLULAR RESPONSE TO INTERLEUKIN 1                             0.272487938\n",
       "14 DIVALENT INORGANIC CATION HOMEOSTASIS                          0.272487938\n",
       "15 CELL MIGRATION                                                 0.322557666\n",
       "16 RESPONSE TO LIPID                                              0.346720911\n",
       "17 LOCOMOTION                                                     0.352776280\n",
       "18 BLOOD VESSEL MORPHOGENESIS                                     0.512132757\n",
       "19 VASCULATURE DEVELOPMENT                                        0.675875079\n",
       "20 CELL MIGRATION                                                 0.002598952\n",
       "21 LOCOMOTION                                                     0.018671951\n",
       "22 BLOOD VESSEL MORPHOGENESIS                                     0.037050157\n",
       "23 ADAPTIVE IMMUNE RESPONSE                                       0.049236718\n",
       "24 CELLULAR RESPONSE TO INTERLEUKIN 1                             0.049236718\n",
       "25 DIVALENT INORGANIC CATION HOMEOSTASIS                          0.049236718\n",
       "26 LEUKOCYTE DIFFERENTIATION                                      0.049236718\n",
       "27 REGULATION OF CYTOSOLIC CALCIUM ION CONCENTRATION              0.049236718\n",
       "28 RESPONSE TO LIPID                                              0.049236718\n",
       "29 VASCULATURE DEVELOPMENT                                        0.049236718\n",
       "30 CELL ACTIVATION                                                0.068248625\n",
       "31 INFLAMMATORY RESPONSE                                          0.086991169\n",
       "32 CYTOKINE MEDIATED SIGNALING PATHWAY                            0.168554634\n",
       "33 IMMUNE RESPONSE                                                0.184600224\n",
       "34 REGULATION OF IMMUNE SYSTEM PROCESS                            0.184600224\n",
       "35 NEGATIVE REGULATION OF HYDROGEN PEROXIDE METABOLIC PROCESS     0.198044146\n",
       "36 DEFENSE RESPONSE                                               0.255542186\n",
       "37 REGULATION OF VERY LOW DENSITY LIPOPROTEIN PARTICLE REMODELING 0.275667467\n",
       "38 BUNDLE OF HIS CELL TO PURKINJE MYOCYTE SIGNALING               0.746441301\n",
       "   logP      NES       comparison color  \n",
       "1  3.2086315  1.456363 OC         #9E0142\n",
       "2  2.6384233  1.506135 OC         #E95C47\n",
       "3  1.7819111  1.611244 OC         #F8E48D\n",
       "4  1.7819111  1.830118 OC         #F8E48D\n",
       "5  1.7819111  1.531314 OC         #F8E48D\n",
       "6  1.7819111  1.400891 OC         #F8E48D\n",
       "7  1.7819111 -1.721712 OC         #F8E48D\n",
       "8  1.7026331  1.368063 OC         #F4E890\n",
       "9  1.4803975 -1.872084 OC         #DDF199\n",
       "10 1.4233903  1.568667 OC         #DDF199\n",
       "11 0.9906403  1.479364 OC         #8DD1A4\n",
       "12 0.7465519  1.538093 OC         #5DB8A8\n",
       "13 0.5646527  1.688034 OC         #4098B6\n",
       "14 0.5646527  1.441706 OC         #4098B6\n",
       "15 0.4913926  1.260394 OC         #3583BA\n",
       "16 0.4600200  1.314022 OC         #3583BA\n",
       "17 0.4525006  1.211606 OC         #3583BA\n",
       "18 0.2906174  1.295256 OC         #4D63AB\n",
       "19 0.1701336  1.233393 OC         #5E4FA2\n",
       "20 2.5852018  1.464402 OD         #EE6544\n",
       "21 1.7288103  1.383753 OD         #F4E890\n",
       "22 1.4312100  1.564484 OD         #DDF199\n",
       "23 1.3077109  1.559850 OD         #C7E89E\n",
       "24 1.3077109  1.886150 OD         #C7E89E\n",
       "25 1.3077109  1.615585 OD         #C7E89E\n",
       "26 1.3077109  1.552017 OD         #C7E89E\n",
       "27 1.3077109  1.662019 OD         #C7E89E\n",
       "28 1.3077109  1.482236 OD         #C7E89E\n",
       "29 1.3077109  1.502022 OD         #C7E89E\n",
       "30 1.1659061  1.412187 OD         #A6DBA4\n",
       "31 1.0605248  1.442802 OD         #9AD6A4\n",
       "32 0.7732593  1.472164 OD         #5DB8A8\n",
       "33 0.7337678  1.293329 OD         #53ADAD\n",
       "34 0.7337678  1.315700 OD         #53ADAD\n",
       "35 0.7032380 -1.756022 OD         #53ADAD\n",
       "36 0.5925374  1.266338 OD         #4098B6\n",
       "37 0.5596145 -1.614680 OD         #4098B6\n",
       "38 0.1270043  1.469190 OD         #5E4FA2"
      ]
     },
     "metadata": {},
     "output_type": "display_data"
    }
   ],
   "source": [
    "gsea_bar"
   ]
  },
  {
   "cell_type": "code",
   "execution_count": 232,
   "id": "fa750dec-22cd-4e9a-b9dc-8709e440b561",
   "metadata": {
    "collapsed": true,
    "jupyter": {
     "outputs_hidden": true
    },
    "tags": []
   },
   "outputs": [
    {
     "data": {
      "text/html": [
       "<table class=\"dataframe\">\n",
       "<caption>A data.table: 20 × 6</caption>\n",
       "<thead>\n",
       "\t<tr><th scope=col>pathway</th><th scope=col>padj</th><th scope=col>logP</th><th scope=col>NES</th><th scope=col>comparison</th><th scope=col>color</th></tr>\n",
       "\t<tr><th scope=col>&lt;chr&gt;</th><th scope=col>&lt;dbl&gt;</th><th scope=col>&lt;dbl&gt;</th><th scope=col>&lt;dbl&gt;</th><th scope=col>&lt;chr&gt;</th><th scope=col>&lt;chr&gt;</th></tr>\n",
       "</thead>\n",
       "<tbody>\n",
       "\t<tr><td>IMMUNE RESPONSE                                               </td><td>0.000618541</td><td>3.208632</td><td> 1.456363</td><td>OC</td><td>#9E0142</td></tr>\n",
       "\t<tr><td>CELL ACTIVATION                                               </td><td>0.002299200</td><td>2.638423</td><td> 1.506135</td><td>OC</td><td>#E95C47</td></tr>\n",
       "\t<tr><td>ADAPTIVE IMMUNE RESPONSE                                      </td><td>0.016523000</td><td>1.781911</td><td> 1.611244</td><td>OC</td><td>#F8E48D</td></tr>\n",
       "\t<tr><td>BUNDLE OF HIS CELL TO PURKINJE MYOCYTE SIGNALING              </td><td>0.016523000</td><td>1.781911</td><td> 1.830118</td><td>OC</td><td>#F8E48D</td></tr>\n",
       "\t<tr><td>INFLAMMATORY RESPONSE                                         </td><td>0.016523000</td><td>1.781911</td><td> 1.531314</td><td>OC</td><td>#F8E48D</td></tr>\n",
       "\t<tr><td>REGULATION OF IMMUNE SYSTEM PROCESS                           </td><td>0.016523000</td><td>1.781911</td><td> 1.400891</td><td>OC</td><td>#F8E48D</td></tr>\n",
       "\t<tr><td>REGULATION OF VERY LOW DENSITY LIPOPROTEIN PARTICLE REMODELING</td><td>0.016523000</td><td>1.781911</td><td>-1.721712</td><td>OC</td><td>#F8E48D</td></tr>\n",
       "\t<tr><td>DEFENSE RESPONSE                                              </td><td>0.019832019</td><td>1.702633</td><td> 1.368063</td><td>OC</td><td>#F4E890</td></tr>\n",
       "\t<tr><td>NEGATIVE REGULATION OF HYDROGEN PEROXIDE METABOLIC PROCESS    </td><td>0.033082820</td><td>1.480397</td><td>-1.872084</td><td>OC</td><td>#DDF199</td></tr>\n",
       "\t<tr><td>CYTOKINE MEDIATED SIGNALING PATHWAY                           </td><td>0.037723298</td><td>1.423390</td><td> 1.568667</td><td>OC</td><td>#DDF199</td></tr>\n",
       "\t<tr><td>CELL MIGRATION                                                </td><td>0.002598952</td><td>2.585202</td><td> 1.464402</td><td>OD</td><td>#EE6544</td></tr>\n",
       "\t<tr><td>LOCOMOTION                                                    </td><td>0.018671951</td><td>1.728810</td><td> 1.383753</td><td>OD</td><td>#F4E890</td></tr>\n",
       "\t<tr><td>BLOOD VESSEL MORPHOGENESIS                                    </td><td>0.037050157</td><td>1.431210</td><td> 1.564484</td><td>OD</td><td>#DDF199</td></tr>\n",
       "\t<tr><td>ADAPTIVE IMMUNE RESPONSE                                      </td><td>0.049236718</td><td>1.307711</td><td> 1.559850</td><td>OD</td><td>#C7E89E</td></tr>\n",
       "\t<tr><td>CELLULAR RESPONSE TO INTERLEUKIN 1                            </td><td>0.049236718</td><td>1.307711</td><td> 1.886150</td><td>OD</td><td>#C7E89E</td></tr>\n",
       "\t<tr><td>DIVALENT INORGANIC CATION HOMEOSTASIS                         </td><td>0.049236718</td><td>1.307711</td><td> 1.615585</td><td>OD</td><td>#C7E89E</td></tr>\n",
       "\t<tr><td>LEUKOCYTE DIFFERENTIATION                                     </td><td>0.049236718</td><td>1.307711</td><td> 1.552017</td><td>OD</td><td>#C7E89E</td></tr>\n",
       "\t<tr><td>REGULATION OF CYTOSOLIC CALCIUM ION CONCENTRATION             </td><td>0.049236718</td><td>1.307711</td><td> 1.662019</td><td>OD</td><td>#C7E89E</td></tr>\n",
       "\t<tr><td>RESPONSE TO LIPID                                             </td><td>0.049236718</td><td>1.307711</td><td> 1.482236</td><td>OD</td><td>#C7E89E</td></tr>\n",
       "\t<tr><td>VASCULATURE DEVELOPMENT                                       </td><td>0.049236718</td><td>1.307711</td><td> 1.502022</td><td>OD</td><td>#C7E89E</td></tr>\n",
       "</tbody>\n",
       "</table>\n"
      ],
      "text/latex": [
       "A data.table: 20 × 6\n",
       "\\begin{tabular}{llllll}\n",
       " pathway & padj & logP & NES & comparison & color\\\\\n",
       " <chr> & <dbl> & <dbl> & <dbl> & <chr> & <chr>\\\\\n",
       "\\hline\n",
       "\t IMMUNE RESPONSE                                                & 0.000618541 & 3.208632 &  1.456363 & OC & \\#9E0142\\\\\n",
       "\t CELL ACTIVATION                                                & 0.002299200 & 2.638423 &  1.506135 & OC & \\#E95C47\\\\\n",
       "\t ADAPTIVE IMMUNE RESPONSE                                       & 0.016523000 & 1.781911 &  1.611244 & OC & \\#F8E48D\\\\\n",
       "\t BUNDLE OF HIS CELL TO PURKINJE MYOCYTE SIGNALING               & 0.016523000 & 1.781911 &  1.830118 & OC & \\#F8E48D\\\\\n",
       "\t INFLAMMATORY RESPONSE                                          & 0.016523000 & 1.781911 &  1.531314 & OC & \\#F8E48D\\\\\n",
       "\t REGULATION OF IMMUNE SYSTEM PROCESS                            & 0.016523000 & 1.781911 &  1.400891 & OC & \\#F8E48D\\\\\n",
       "\t REGULATION OF VERY LOW DENSITY LIPOPROTEIN PARTICLE REMODELING & 0.016523000 & 1.781911 & -1.721712 & OC & \\#F8E48D\\\\\n",
       "\t DEFENSE RESPONSE                                               & 0.019832019 & 1.702633 &  1.368063 & OC & \\#F4E890\\\\\n",
       "\t NEGATIVE REGULATION OF HYDROGEN PEROXIDE METABOLIC PROCESS     & 0.033082820 & 1.480397 & -1.872084 & OC & \\#DDF199\\\\\n",
       "\t CYTOKINE MEDIATED SIGNALING PATHWAY                            & 0.037723298 & 1.423390 &  1.568667 & OC & \\#DDF199\\\\\n",
       "\t CELL MIGRATION                                                 & 0.002598952 & 2.585202 &  1.464402 & OD & \\#EE6544\\\\\n",
       "\t LOCOMOTION                                                     & 0.018671951 & 1.728810 &  1.383753 & OD & \\#F4E890\\\\\n",
       "\t BLOOD VESSEL MORPHOGENESIS                                     & 0.037050157 & 1.431210 &  1.564484 & OD & \\#DDF199\\\\\n",
       "\t ADAPTIVE IMMUNE RESPONSE                                       & 0.049236718 & 1.307711 &  1.559850 & OD & \\#C7E89E\\\\\n",
       "\t CELLULAR RESPONSE TO INTERLEUKIN 1                             & 0.049236718 & 1.307711 &  1.886150 & OD & \\#C7E89E\\\\\n",
       "\t DIVALENT INORGANIC CATION HOMEOSTASIS                          & 0.049236718 & 1.307711 &  1.615585 & OD & \\#C7E89E\\\\\n",
       "\t LEUKOCYTE DIFFERENTIATION                                      & 0.049236718 & 1.307711 &  1.552017 & OD & \\#C7E89E\\\\\n",
       "\t REGULATION OF CYTOSOLIC CALCIUM ION CONCENTRATION              & 0.049236718 & 1.307711 &  1.662019 & OD & \\#C7E89E\\\\\n",
       "\t RESPONSE TO LIPID                                              & 0.049236718 & 1.307711 &  1.482236 & OD & \\#C7E89E\\\\\n",
       "\t VASCULATURE DEVELOPMENT                                        & 0.049236718 & 1.307711 &  1.502022 & OD & \\#C7E89E\\\\\n",
       "\\end{tabular}\n"
      ],
      "text/markdown": [
       "\n",
       "A data.table: 20 × 6\n",
       "\n",
       "| pathway &lt;chr&gt; | padj &lt;dbl&gt; | logP &lt;dbl&gt; | NES &lt;dbl&gt; | comparison &lt;chr&gt; | color &lt;chr&gt; |\n",
       "|---|---|---|---|---|---|\n",
       "| IMMUNE RESPONSE                                                | 0.000618541 | 3.208632 |  1.456363 | OC | #9E0142 |\n",
       "| CELL ACTIVATION                                                | 0.002299200 | 2.638423 |  1.506135 | OC | #E95C47 |\n",
       "| ADAPTIVE IMMUNE RESPONSE                                       | 0.016523000 | 1.781911 |  1.611244 | OC | #F8E48D |\n",
       "| BUNDLE OF HIS CELL TO PURKINJE MYOCYTE SIGNALING               | 0.016523000 | 1.781911 |  1.830118 | OC | #F8E48D |\n",
       "| INFLAMMATORY RESPONSE                                          | 0.016523000 | 1.781911 |  1.531314 | OC | #F8E48D |\n",
       "| REGULATION OF IMMUNE SYSTEM PROCESS                            | 0.016523000 | 1.781911 |  1.400891 | OC | #F8E48D |\n",
       "| REGULATION OF VERY LOW DENSITY LIPOPROTEIN PARTICLE REMODELING | 0.016523000 | 1.781911 | -1.721712 | OC | #F8E48D |\n",
       "| DEFENSE RESPONSE                                               | 0.019832019 | 1.702633 |  1.368063 | OC | #F4E890 |\n",
       "| NEGATIVE REGULATION OF HYDROGEN PEROXIDE METABOLIC PROCESS     | 0.033082820 | 1.480397 | -1.872084 | OC | #DDF199 |\n",
       "| CYTOKINE MEDIATED SIGNALING PATHWAY                            | 0.037723298 | 1.423390 |  1.568667 | OC | #DDF199 |\n",
       "| CELL MIGRATION                                                 | 0.002598952 | 2.585202 |  1.464402 | OD | #EE6544 |\n",
       "| LOCOMOTION                                                     | 0.018671951 | 1.728810 |  1.383753 | OD | #F4E890 |\n",
       "| BLOOD VESSEL MORPHOGENESIS                                     | 0.037050157 | 1.431210 |  1.564484 | OD | #DDF199 |\n",
       "| ADAPTIVE IMMUNE RESPONSE                                       | 0.049236718 | 1.307711 |  1.559850 | OD | #C7E89E |\n",
       "| CELLULAR RESPONSE TO INTERLEUKIN 1                             | 0.049236718 | 1.307711 |  1.886150 | OD | #C7E89E |\n",
       "| DIVALENT INORGANIC CATION HOMEOSTASIS                          | 0.049236718 | 1.307711 |  1.615585 | OD | #C7E89E |\n",
       "| LEUKOCYTE DIFFERENTIATION                                      | 0.049236718 | 1.307711 |  1.552017 | OD | #C7E89E |\n",
       "| REGULATION OF CYTOSOLIC CALCIUM ION CONCENTRATION              | 0.049236718 | 1.307711 |  1.662019 | OD | #C7E89E |\n",
       "| RESPONSE TO LIPID                                              | 0.049236718 | 1.307711 |  1.482236 | OD | #C7E89E |\n",
       "| VASCULATURE DEVELOPMENT                                        | 0.049236718 | 1.307711 |  1.502022 | OD | #C7E89E |\n",
       "\n"
      ],
      "text/plain": [
       "   pathway                                                        padj       \n",
       "1  IMMUNE RESPONSE                                                0.000618541\n",
       "2  CELL ACTIVATION                                                0.002299200\n",
       "3  ADAPTIVE IMMUNE RESPONSE                                       0.016523000\n",
       "4  BUNDLE OF HIS CELL TO PURKINJE MYOCYTE SIGNALING               0.016523000\n",
       "5  INFLAMMATORY RESPONSE                                          0.016523000\n",
       "6  REGULATION OF IMMUNE SYSTEM PROCESS                            0.016523000\n",
       "7  REGULATION OF VERY LOW DENSITY LIPOPROTEIN PARTICLE REMODELING 0.016523000\n",
       "8  DEFENSE RESPONSE                                               0.019832019\n",
       "9  NEGATIVE REGULATION OF HYDROGEN PEROXIDE METABOLIC PROCESS     0.033082820\n",
       "10 CYTOKINE MEDIATED SIGNALING PATHWAY                            0.037723298\n",
       "11 CELL MIGRATION                                                 0.002598952\n",
       "12 LOCOMOTION                                                     0.018671951\n",
       "13 BLOOD VESSEL MORPHOGENESIS                                     0.037050157\n",
       "14 ADAPTIVE IMMUNE RESPONSE                                       0.049236718\n",
       "15 CELLULAR RESPONSE TO INTERLEUKIN 1                             0.049236718\n",
       "16 DIVALENT INORGANIC CATION HOMEOSTASIS                          0.049236718\n",
       "17 LEUKOCYTE DIFFERENTIATION                                      0.049236718\n",
       "18 REGULATION OF CYTOSOLIC CALCIUM ION CONCENTRATION              0.049236718\n",
       "19 RESPONSE TO LIPID                                              0.049236718\n",
       "20 VASCULATURE DEVELOPMENT                                        0.049236718\n",
       "   logP     NES       comparison color  \n",
       "1  3.208632  1.456363 OC         #9E0142\n",
       "2  2.638423  1.506135 OC         #E95C47\n",
       "3  1.781911  1.611244 OC         #F8E48D\n",
       "4  1.781911  1.830118 OC         #F8E48D\n",
       "5  1.781911  1.531314 OC         #F8E48D\n",
       "6  1.781911  1.400891 OC         #F8E48D\n",
       "7  1.781911 -1.721712 OC         #F8E48D\n",
       "8  1.702633  1.368063 OC         #F4E890\n",
       "9  1.480397 -1.872084 OC         #DDF199\n",
       "10 1.423390  1.568667 OC         #DDF199\n",
       "11 2.585202  1.464402 OD         #EE6544\n",
       "12 1.728810  1.383753 OD         #F4E890\n",
       "13 1.431210  1.564484 OD         #DDF199\n",
       "14 1.307711  1.559850 OD         #C7E89E\n",
       "15 1.307711  1.886150 OD         #C7E89E\n",
       "16 1.307711  1.615585 OD         #C7E89E\n",
       "17 1.307711  1.552017 OD         #C7E89E\n",
       "18 1.307711  1.662019 OD         #C7E89E\n",
       "19 1.307711  1.482236 OD         #C7E89E\n",
       "20 1.307711  1.502022 OD         #C7E89E"
      ]
     },
     "metadata": {},
     "output_type": "display_data"
    }
   ],
   "source": [
    "color_breaks <- do.breaks(range(gsea_bar$logP), 50)\n",
    "color_vec <- rev(colorRampPalette(brewer.pal(10, \"Spectral\"))(50))\n",
    "gsea_bar <- gsea_bar[padj < 0.05, .(pathway, padj, logP, NES, comparison,\n",
    "                        color = level.colors(logP, at = color_breaks,\n",
    "                                             col.regions = color_vec))]\n",
    "gsea_bar"
   ]
  },
  {
   "cell_type": "code",
   "execution_count": 244,
   "id": "a93b6abb-380f-4b44-a1ce-2fba01870eb9",
   "metadata": {},
   "outputs": [
    {
     "data": {
      "text/html": [
       "<strong>png:</strong> 2"
      ],
      "text/latex": [
       "\\textbf{png:} 2"
      ],
      "text/markdown": [
       "**png:** 2"
      ],
      "text/plain": [
       "png \n",
       "  2 "
      ]
     },
     "metadata": {},
     "output_type": "display_data"
    }
   ],
   "source": [
    "svg(\"./plots/enrich/oc_sig.svg\", width = 8, height = 6)\n",
    "dotplot(pathway ~ NES, gsea_bar[comparison == \"OC\"],\n",
    "        groups = color, cex = 1,\n",
    "        prepanel = function(x, y){\n",
    "            list(ylim = levels(reorder(y, x)))\n",
    "        },\n",
    "        panel = function(x, y, groups, ..., subscripts){\n",
    "            fill <- groups[subscripts]\n",
    "            panel.dotplot(x, reorder(y, x), col = fill, ...)\n",
    "        },\n",
    "        legend = list(right = list(\n",
    "            fun = draw.colorkey,\n",
    "            args = list(key = list(\n",
    "                col = color_vec, at = color_breaks\n",
    "            ), draw = FALSE)\n",
    "        )), main = \"Obese control significant pathways\"\n",
    ")\n",
    "dev.off()"
   ]
  },
  {
   "cell_type": "code",
   "execution_count": 245,
   "id": "e29b9625-e380-40a2-9ec0-7f2e4f16d1a8",
   "metadata": {},
   "outputs": [
    {
     "data": {
      "text/html": [
       "<strong>png:</strong> 2"
      ],
      "text/latex": [
       "\\textbf{png:} 2"
      ],
      "text/markdown": [
       "**png:** 2"
      ],
      "text/plain": [
       "png \n",
       "  2 "
      ]
     },
     "metadata": {},
     "output_type": "display_data"
    }
   ],
   "source": [
    "svg(\"./plots/enrich/od_sig.svg\", width = 8, height = 6)\n",
    "dotplot(pathway ~ NES, gsea_bar[comparison == \"OD\"],\n",
    "        groups = color, cex = 1,\n",
    "        prepanel = function(x, y){\n",
    "            list(ylim = levels(reorder(y, x)))\n",
    "        },\n",
    "        panel = function(x, y, groups, ..., subscripts){\n",
    "            fill <- groups[subscripts]\n",
    "            panel.dotplot(x, reorder(y, x), col = fill, ...)\n",
    "        },\n",
    "        legend = list(right = list(\n",
    "            fun = draw.colorkey,\n",
    "            args = list(key = list(\n",
    "                col = color_vec, at = color_breaks\n",
    "            ), draw = FALSE)\n",
    "        )), main = \"Obese diabetic significant pathways\"\n",
    ")\n",
    "dev.off()"
   ]
  }
 ],
 "metadata": {
  "kernelspec": {
   "display_name": "R",
   "language": "R",
   "name": "ir"
  },
  "language_info": {
   "codemirror_mode": "r",
   "file_extension": ".r",
   "mimetype": "text/x-r-source",
   "name": "R",
   "pygments_lexer": "r",
   "version": "4.2.2"
  }
 },
 "nbformat": 4,
 "nbformat_minor": 5
}
